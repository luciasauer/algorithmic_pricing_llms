{
 "cells": [
  {
   "cell_type": "code",
   "execution_count": 2,
   "id": "02ca1398",
   "metadata": {},
   "outputs": [],
   "source": [
    "import logging\n",
    "import numpy as np\n",
    "from pricing_market_logic_multiproduct import (\n",
    "    get_quantities,\n",
    "    get_profits,\n",
    "    get_monopoly_prices,\n",
    "    get_nash_prices,\n",
    ")\n",
    "\n",
    "class CalvanoDemandEnvironment:\n",
    "    def __init__(self, name: str, description: str, nbr_agents: int, env_params: dict, logger: logging.Logger = None):\n",
    "        self.name = name\n",
    "        self.description = description\n",
    "        self.nbr_agents = nbr_agents\n",
    "        self.logger = logger or logging.getLogger(\"experiment_logger\")\n",
    "\n",
    "        self.a_0 = env_params.get(\"a_0\", 0.0)\n",
    "        self.a = env_params.get(\"a\", np.ones(nbr_agents))\n",
    "        self.mu = env_params.get(\"mu\", 0.25)\n",
    "        self.alpha = env_params.get(\"alpha\", np.ones(nbr_agents))\n",
    "        self.beta = env_params.get(\"beta\", 100)\n",
    "        self.sigma = env_params.get(\"sigma\", 0.0)\n",
    "        self.c = env_params.get(\"c\", np.ones(nbr_agents))\n",
    "        self.group_idxs = env_params.get(\"group_idxs\", [])\n",
    "\n",
    "        self.monopoly_prices = None\n",
    "        self.nash_prices = None\n",
    "        self._compute_benchmarks()\n",
    "\n",
    "\n",
    "    def compute_quantities_and_profits(self, prices: dict[str, float]) -> tuple[dict[str, float], dict[str, float]]:\n",
    "        try:\n",
    "            # Ensure ordering by agent index\n",
    "            agent_names = list(prices.keys())\n",
    "            price_values = [prices[name] for name in agent_names]\n",
    "\n",
    "            quantities = get_quantities(\n",
    "                p=tuple(price_values), a0=self.a_0, a=self.a, mu=self.mu,\n",
    "                alpha=self.alpha, multiplier=self.beta, sigma=self.sigma, group_idxs=self.group_idxs,\n",
    "            )\n",
    "\n",
    "            profits = get_profits(\n",
    "                p=tuple(price_values), a0=self.a_0, a=self.a, mu=self.mu,\n",
    "                alpha=self.alpha, c=self.c, multiplier=self.beta, sigma=self.sigma, group_idxs=self.group_idxs,\n",
    "            )\n",
    "\n",
    "            # Return results mapped back to agent names\n",
    "            quantities_dict = {name: q for name, q in zip(agent_names, quantities)}\n",
    "            profits_dict = {name: pi for name, pi in zip(agent_names, profits)}\n",
    "            return quantities_dict, profits_dict\n",
    "        except Exception as e:\n",
    "            self.logger.error(f\"Error computing quantities and profits: {e}\")\n",
    "            raise e\n",
    "    \n",
    "    def _compute_benchmarks(self):\n",
    "        try:\n",
    "            # Monopoly solution\n",
    "            self.monopoly_prices = get_monopoly_prices(\n",
    "                a0=self.a_0, a=self.a, mu=self.mu, alpha=self.alpha,\n",
    "                c=self.c, multiplier=self.beta, sigma=self.sigma, group_idxs=self.group_idxs,\n",
    "            )\n",
    "\n",
    "            self.monopoly_quantities = get_quantities(\n",
    "                p=tuple(self.monopoly_prices), a0=self.a_0, a=self.a, mu=self.mu,\n",
    "                alpha=self.alpha, multiplier=self.beta, sigma=self.sigma, group_idxs=self.group_idxs,\n",
    "            )\n",
    "\n",
    "            self.monopoly_profits = get_profits(\n",
    "                p=tuple(self.monopoly_prices), a0=self.a_0, a=self.a, mu=self.mu,\n",
    "                alpha=self.alpha, c=self.c, multiplier=self.beta, sigma=self.sigma, group_idxs=self.group_idxs,\n",
    "            )\n",
    "\n",
    "            # Nash solution\n",
    "            self.nash_prices = get_nash_prices(\n",
    "                a0=self.a_0, a=self.a, mu=self.mu, alpha=self.alpha, c=self.c,\n",
    "                multiplier=self.beta, sigma=self.sigma, group_idxs=self.group_idxs,\n",
    "            )\n",
    "\n",
    "            self.nash_quantities = get_quantities(\n",
    "                p=tuple(self.nash_prices), a0=self.a_0, a=self.a, mu=self.mu,\n",
    "                alpha=self.alpha, multiplier=self.beta, sigma=self.sigma, group_idxs=self.group_idxs,\n",
    "            )\n",
    "\n",
    "            self.nash_profits = get_profits(\n",
    "                p=tuple(self.nash_prices), a0=self.a_0, a=self.a, mu=self.mu,\n",
    "                alpha=self.alpha, c=self.c, multiplier=self.beta, sigma=self.sigma, group_idxs=self.group_idxs,\n",
    "            )\n",
    "        except Exception as e:\n",
    "            self.logger.error(f\"Error computing benchmarks when initializing environment: {e}\")\n",
    "            raise e\n",
    "    \n",
    "    def get_environment_params(self):\n",
    "        return {\n",
    "            \"a_0\": self.a_0,\n",
    "            \"a\": self.a.tolist(),\n",
    "            \"mu\": self.mu,\n",
    "            \"alpha\": self.alpha.tolist(),\n",
    "            \"beta\": self.beta,\n",
    "            \"sigma\": self.sigma,\n",
    "            \"c\": self.c.tolist(),\n",
    "            \"group_idxs\": self.group_idxs,\n",
    "            \"monopoly_prices\": self.monopoly_prices if self.monopoly_prices is not None else None,\n",
    "            \"monopoly_quantities\": self.monopoly_quantities if self.monopoly_quantities is not None else None,\n",
    "            \"monopoly_profits\": self.monopoly_profits if self.monopoly_profits is not None else None,\n",
    "            \"nash_prices\": self.nash_prices if self.nash_prices is not None else None,\n",
    "            \"nash_quantities\": self.nash_quantities if self.nash_quantities is not None else None,\n",
    "            \"nash_profits\": self.nash_profits if self.nash_profits is not None else None,\n",
    "        }\n"
   ]
  },
  {
   "cell_type": "code",
   "execution_count": 12,
   "id": "f17c4d0d",
   "metadata": {},
   "outputs": [
    {
     "data": {
      "text/plain": [
       "{'a_0': 0.0,\n",
       " 'a': [2.0, 2.0],\n",
       " 'mu': 0.25,\n",
       " 'alpha': [1, 1],\n",
       " 'beta': 100,\n",
       " 'sigma': 0.25,\n",
       " 'c': [1.0, 1.0],\n",
       " 'group_idxs': (1, 2),\n",
       " 'monopoly_prices': [1.8859367839279824, 1.8859367841816808],\n",
       " 'monopoly_quantities': [35.89064366090311, 35.89064362448151],\n",
       " 'monopoly_profits': [np.float64(31.796841418045727),\n",
       "  np.float64(31.796841394883895)],\n",
       " 'nash_prices': [1.467837558344815, 1.4678375571705864],\n",
       " 'nash_quantities': [46.56244983052504, 46.56245004922491],\n",
       " 'nash_profits': [np.float64(21.783662839265784),\n",
       "  np.float64(21.783662886906832)]}"
      ]
     },
     "execution_count": 12,
     "metadata": {},
     "output_type": "execute_result"
    }
   ],
   "source": [
    "alpha = 1\n",
    "env_params = {\n",
    "    \"a_0\": 0.0,\n",
    "    \"a\": np.array([2.0, 2.0]),\n",
    "    \"mu\": 0.25,\n",
    "    \"alpha\": np.array([alpha, alpha]),\n",
    "    \"beta\": 100,\n",
    "    \"sigma\": 0.25,\n",
    "    \"c\": np.array([1.0, 1.0]), #this is ok as they do not affect\n",
    "    \"group_idxs\": (1,2),\n",
    "}\n",
    "\n",
    "env = CalvanoDemandEnvironment(name=\"\", description=\"\", nbr_agents=2, env_params=env_params)\n",
    "env.get_environment_params()"
   ]
  },
  {
   "cell_type": "code",
   "execution_count": 13,
   "id": "43c7a80b",
   "metadata": {},
   "outputs": [
    {
     "data": {
      "text/plain": [
       "{'a_0': 0.0,\n",
       " 'a': [2.0, 2.0],\n",
       " 'mu': 0.25,\n",
       " 'alpha': [1, 1],\n",
       " 'beta': 100,\n",
       " 'sigma': 0.25,\n",
       " 'c': [1.0, 1.0],\n",
       " 'group_idxs': (1, 1),\n",
       " 'monopoly_prices': [1.8550587622636872, 1.8550587622636872],\n",
       " 'monopoly_quantities': [35.381112567295425, 35.381112567295425],\n",
       " 'monopoly_profits': [np.float64(30.25293031930381),\n",
       "  np.float64(30.25293031930381)],\n",
       " 'nash_prices': [1.3603933375410198, 1.3603933386362583],\n",
       " 'nash_quantities': [47.29812718551157, 47.29812690923032],\n",
       " 'nash_profits': [np.float64(17.045929915826154),\n",
       "  np.float64(17.045929868058966)]}"
      ]
     },
     "execution_count": 13,
     "metadata": {},
     "output_type": "execute_result"
    }
   ],
   "source": [
    "alpha = 1\n",
    "env_params = {\n",
    "    \"a_0\": 0.0,\n",
    "    \"a\": np.array([2.0, 2.0]),\n",
    "    \"mu\": 0.25,\n",
    "    \"alpha\": np.array([alpha, alpha]),\n",
    "    \"beta\": 100,\n",
    "    \"sigma\": 0.25,\n",
    "    \"c\": np.array([1.0, 1.0]), #this is ok as they do not affect\n",
    "    \"group_idxs\": (1,1),\n",
    "}\n",
    "\n",
    "env = CalvanoDemandEnvironment(name=\"\", description=\"\", nbr_agents=2, env_params=env_params)\n",
    "env.get_environment_params()"
   ]
  },
  {
   "cell_type": "code",
   "execution_count": null,
   "id": "d3c372da",
   "metadata": {},
   "outputs": [],
   "source": []
  },
  {
   "cell_type": "code",
   "execution_count": 22,
   "id": "a36d612d",
   "metadata": {},
   "outputs": [
    {
     "data": {
      "text/plain": [
       "np.float64(0.08093347705771732)"
      ]
     },
     "execution_count": 22,
     "metadata": {},
     "output_type": "execute_result"
    }
   ],
   "source": [
    "0.22* 1/np.exp(1)"
   ]
  },
  {
   "cell_type": "code",
   "execution_count": null,
   "id": "d8a93c95",
   "metadata": {},
   "outputs": [],
   "source": []
  }
 ],
 "metadata": {
  "kernelspec": {
   "display_name": ".venv",
   "language": "python",
   "name": "python3"
  },
  "language_info": {
   "codemirror_mode": {
    "name": "ipython",
    "version": 3
   },
   "file_extension": ".py",
   "mimetype": "text/x-python",
   "name": "python",
   "nbconvert_exporter": "python",
   "pygments_lexer": "ipython3",
   "version": "3.11.6"
  }
 },
 "nbformat": 4,
 "nbformat_minor": 5
}
