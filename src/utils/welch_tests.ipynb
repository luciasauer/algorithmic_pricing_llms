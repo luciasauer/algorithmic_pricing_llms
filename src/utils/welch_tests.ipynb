{
 "cells": [
  {
   "cell_type": "code",
   "execution_count": 13,
   "id": "becb067c",
   "metadata": {},
   "outputs": [],
   "source": [
    "from scipy import stats\n",
    "import os\n",
    "import sys\n",
    "import json\n",
    "import numpy as np"
   ]
  },
  {
   "cell_type": "code",
   "execution_count": 15,
   "id": "6ca8303b",
   "metadata": {},
   "outputs": [],
   "source": [
    "model = 'mistral-large-2411'\n",
    "results_p1 = []\n",
    "results_p2 = []\n",
    "for prompt in ['prompt_1', 'prompt_2']:\n",
    "    for alpha in [1, 3, 10]:\n",
    "        data_path = f'mistral_ai/results/duopoly/{prompt}-alpha_{alpha}'\n",
    "        folders = [f for f in os.listdir(data_path) if f.endswith(model)]\n",
    "        results = []\n",
    "        for folder in folders:\n",
    "            results_file = os.path.join(data_path, folder, 'results.json')\n",
    "            with open(results_file, 'r') as f:\n",
    "                r = json.load(f)\n",
    "            for firm in ['firm_1', 'firm_2']:\n",
    "                mean_price = np.mean(r['price_history'][firm][-50:])\n",
    "                divisor = 3.2 if alpha == 3 else alpha\n",
    "                if prompt == 'prompt_1':\n",
    "                    results_p1.append(mean_price/divisor)\n",
    "                else:\n",
    "                    results_p2.append(mean_price/divisor)"
   ]
  },
  {
   "cell_type": "code",
   "execution_count": 19,
   "id": "e7b23a50",
   "metadata": {},
   "outputs": [
    {
     "name": "stdout",
     "output_type": "stream",
     "text": [
      "Normality test for prompt 1: ShapiroResult(statistic=np.float64(0.9044446156769425), pvalue=np.float64(0.006023582515186334))\n",
      "Normality test for prompt 2: ShapiroResult(statistic=np.float64(0.8585485617455029), pvalue=np.float64(0.0031634399919519725))\n",
      "Statistically significant difference between prompt 1 and prompt 2 (p-value: 5.718624838168215e-05)\n",
      "Mean price for prompt 1: 1.8932850147058824\n",
      "Mean price for prompt 2: 1.60325484375\n"
     ]
    }
   ],
   "source": [
    "normality_p1 = stats.shapiro(results_p1)\n",
    "#interpret normality_p1\n",
    "normality_p2 = stats.shapiro(results_p2)\n",
    "#interpret normality_p2\n",
    "print(f'Normality test for prompt 1: {normality_p1}')\n",
    "print(f'Normality test for prompt 2: {normality_p2}')\n",
    "# Perform t-test\n",
    "t_stat, p_value = stats.ttest_ind(results_p1, results_p2, equal_var=False)\n",
    "# Interpret the t-test result\n",
    "if p_value < 0.05:\n",
    "    print(f'Statistically significant difference between prompt 1 and prompt 2 (p-value: {p_value})')\n",
    "else:\n",
    "    print(f'No statistically significant difference between prompt 1 and prompt 2 (p-value: {p_value})')\n",
    "# Print the means for both prompts\n",
    "print(f'Mean price for prompt 1: {np.mean(results_p1)}')\n",
    "print(f'Mean price for prompt 2: {np.mean(results_p2)}')"
   ]
  }
 ],
 "metadata": {
  "kernelspec": {
   "display_name": ".venv",
   "language": "python",
   "name": "python3"
  },
  "language_info": {
   "codemirror_mode": {
    "name": "ipython",
    "version": 3
   },
   "file_extension": ".py",
   "mimetype": "text/x-python",
   "name": "python",
   "nbconvert_exporter": "python",
   "pygments_lexer": "ipython3",
   "version": "3.11.6"
  }
 },
 "nbformat": 4,
 "nbformat_minor": 5
}
