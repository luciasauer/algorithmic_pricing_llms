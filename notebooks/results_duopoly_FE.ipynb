{
 "cells": [
  {
   "cell_type": "code",
   "execution_count": 490,
   "id": "2702efc9",
   "metadata": {},
   "outputs": [],
   "source": [
    "import os\n",
    "import sys\n",
    "\n",
    "sys.path.append(os.path.abspath(\"..\"))\n",
    "\n",
    "import polars as pl\n",
    "from pathlib import Path\n",
    "\n",
    "from linearmodels.panel import PanelOLS\n",
    "\n",
    "OUPUT_PATH = Path(\"../latex/imgs/res/\")\n",
    "OUPUT_PATH.mkdir(parents=True, exist_ok=True)\n",
    "OUPUT_TABLES_PATH = Path(\"../latex/tables/\")\n",
    "OUPUT_TABLES_PATH.mkdir(parents=True, exist_ok=True)\n",
    "DATA_OUTPUT_PATH = Path(\"../data/results/\")\n",
    "DATA_OUTPUT_PATH.mkdir(parents=True, exist_ok=True)\n",
    "\n",
    "DUOPOLY_OUPUT_PATH = Path(OUPUT_PATH) / \"duopoly\"\n",
    "DUOPOLY_OUPUT_PATH.mkdir(parents=True, exist_ok=True)"
   ]
  },
  {
   "cell_type": "code",
   "execution_count": 491,
   "id": "98010813",
   "metadata": {},
   "outputs": [
    {
     "data": {
      "text/html": [
       "<div><style>\n",
       ".dataframe > thead > tr,\n",
       ".dataframe > tbody > tr {\n",
       "  text-align: right;\n",
       "  white-space: pre-wrap;\n",
       "}\n",
       "</style>\n",
       "<small>shape: (25_200, 6)</small><table border=\"1\" class=\"dataframe\"><thead><tr><th>run_firm_id</th><th>run_id</th><th>firm_id</th><th>period</th><th>price</th><th>prompt_prefix</th></tr><tr><td>str</td><td>u32</td><td>u32</td><td>i64</td><td>f64</td><td>str</td></tr></thead><tbody><tr><td>&quot;1_1&quot;</td><td>1</td><td>1</td><td>1</td><td>4.51</td><td>&quot;P1&quot;</td></tr><tr><td>&quot;1_1&quot;</td><td>1</td><td>1</td><td>2</td><td>2.1875</td><td>&quot;P1&quot;</td></tr><tr><td>&quot;1_1&quot;</td><td>1</td><td>1</td><td>3</td><td>2.0312</td><td>&quot;P1&quot;</td></tr><tr><td>&quot;1_1&quot;</td><td>1</td><td>1</td><td>4</td><td>1.875</td><td>&quot;P1&quot;</td></tr><tr><td>&quot;1_1&quot;</td><td>1</td><td>1</td><td>5</td><td>1.7188</td><td>&quot;P1&quot;</td></tr><tr><td>&hellip;</td><td>&hellip;</td><td>&hellip;</td><td>&hellip;</td><td>&hellip;</td><td>&hellip;</td></tr><tr><td>&quot;42_2&quot;</td><td>42</td><td>2</td><td>296</td><td>1.5605</td><td>&quot;P2&quot;</td></tr><tr><td>&quot;42_2&quot;</td><td>42</td><td>2</td><td>297</td><td>1.5605</td><td>&quot;P2&quot;</td></tr><tr><td>&quot;42_2&quot;</td><td>42</td><td>2</td><td>298</td><td>1.5605</td><td>&quot;P2&quot;</td></tr><tr><td>&quot;42_2&quot;</td><td>42</td><td>2</td><td>299</td><td>1.5605</td><td>&quot;P2&quot;</td></tr><tr><td>&quot;42_2&quot;</td><td>42</td><td>2</td><td>300</td><td>1.5605</td><td>&quot;P2&quot;</td></tr></tbody></table></div>"
      ],
      "text/plain": [
       "shape: (25_200, 6)\n",
       "┌─────────────┬────────┬─────────┬────────┬────────┬───────────────┐\n",
       "│ run_firm_id ┆ run_id ┆ firm_id ┆ period ┆ price  ┆ prompt_prefix │\n",
       "│ ---         ┆ ---    ┆ ---     ┆ ---    ┆ ---    ┆ ---           │\n",
       "│ str         ┆ u32    ┆ u32     ┆ i64    ┆ f64    ┆ str           │\n",
       "╞═════════════╪════════╪═════════╪════════╪════════╪═══════════════╡\n",
       "│ 1_1         ┆ 1      ┆ 1       ┆ 1      ┆ 4.51   ┆ P1            │\n",
       "│ 1_1         ┆ 1      ┆ 1       ┆ 2      ┆ 2.1875 ┆ P1            │\n",
       "│ 1_1         ┆ 1      ┆ 1       ┆ 3      ┆ 2.0312 ┆ P1            │\n",
       "│ 1_1         ┆ 1      ┆ 1       ┆ 4      ┆ 1.875  ┆ P1            │\n",
       "│ 1_1         ┆ 1      ┆ 1       ┆ 5      ┆ 1.7188 ┆ P1            │\n",
       "│ …           ┆ …      ┆ …       ┆ …      ┆ …      ┆ …             │\n",
       "│ 42_2        ┆ 42     ┆ 2       ┆ 296    ┆ 1.5605 ┆ P2            │\n",
       "│ 42_2        ┆ 42     ┆ 2       ┆ 297    ┆ 1.5605 ┆ P2            │\n",
       "│ 42_2        ┆ 42     ┆ 2       ┆ 298    ┆ 1.5605 ┆ P2            │\n",
       "│ 42_2        ┆ 42     ┆ 2       ┆ 299    ┆ 1.5605 ┆ P2            │\n",
       "│ 42_2        ┆ 42     ┆ 2       ┆ 300    ┆ 1.5605 ┆ P2            │\n",
       "└─────────────┴────────┴─────────┴────────┴────────┴───────────────┘"
      ]
     },
     "execution_count": 491,
     "metadata": {},
     "output_type": "execute_result"
    }
   ],
   "source": [
    "df = (\n",
    "    pl.read_parquet(DATA_OUTPUT_PATH / \"all_experiments.parquet\")\n",
    "    .filter((pl.col(\"num_agents\") == 2) & (pl.col(\"is_symmetric\")))\n",
    "    .with_columns(\n",
    "        (pl.col(\"experiment_timestamp\").rank(\"dense\")).alias(\"run_id\"),\n",
    "        (pl.col(\"agent\").rank(\"dense\")).alias(\"firm_id\"),\n",
    "        pl.col(\"chosen_price\").truediv(pl.col(\"alpha\")).round(4).alias(\"price\"),\n",
    "    )\n",
    "    .rename(\n",
    "        {\n",
    "            \"round\": \"period\",\n",
    "            \"price\": \"price\",\n",
    "            \"agent_prefix_type\": \"prompt_prefix\",\n",
    "        }\n",
    "    )\n",
    "    .with_columns(\n",
    "        # concat run_id and firm_id to create a unique identifier\n",
    "        pl.concat_str([\"run_id\", \"firm_id\"], separator=\"_\").alias(\"run_firm_id\")\n",
    "    )\n",
    "    .select([\"run_firm_id\", \"run_id\", \"firm_id\", \"period\", \"price\", \"prompt_prefix\"])\n",
    "    .sort([\"run_id\", \"firm_id\", \"period\"])\n",
    ")\n",
    "df"
   ]
  },
  {
   "cell_type": "markdown",
   "id": "b5d5db3d",
   "metadata": {},
   "source": [
    "# Stationarity check\n",
    "---"
   ]
  },
  {
   "cell_type": "markdown",
   "id": "5b862620",
   "metadata": {},
   "source": [
    "- https://www.statsmodels.org/stable/generated/statsmodels.tsa.stattools.adfuller.html\n",
    "\n",
    "The null hypothesis of the Augmented Dickey-Fuller is that there is a unit root, with the alternative that there is no unit root. If the pvalue is above a critical size, then we cannot reject that there is a unit root.\n",
    "\n",
    "The p-values are obtained through regression surface approximation from MacKinnon 1994, but using the updated 2010 tables. If the p-value is close to significant, then the critical values should be used to judge whether to reject the null.\n",
    "\n",
    "The autolag option and maxlag for it are described in Greene."
   ]
  },
  {
   "cell_type": "code",
   "execution_count": 492,
   "id": "70bcacc5",
   "metadata": {},
   "outputs": [
    {
     "name": "stdout",
     "output_type": "stream",
     "text": [
      "Test statistic: -2.1509734348584275\n",
      "P-value: 0.22451767002607304\n",
      "Used lag: 5\n",
      "Number of observations: 294\n",
      "Critical values:\n",
      "  1%: -3.452789844280995\n",
      "  5%: -2.871421512222641\n",
      "  10%: -2.5720351510944512\n",
      "The series is non-stationary (fail to reject the null hypothesis of a unit root).\n"
     ]
    }
   ],
   "source": [
    "# run an ADF test on the price series for each firm\n",
    "from statsmodels.tsa.stattools import adfuller\n",
    "\n",
    "series = df.filter(pl.col(\"run_firm_id\") == \"1_1\").select(\"price\").to_series().to_list()\n",
    "result = adfuller(series, maxlag=22)\n",
    "# interpret the result\n",
    "result = {\n",
    "    \"test_statistic\": result[0],\n",
    "    \"p_value\": result[1],\n",
    "    \"used_lag\": result[2],\n",
    "    \"n_obs\": result[3],\n",
    "    \"critical_values\": result[4],\n",
    "    \"icbest\": result[5],\n",
    "}\n",
    "print(f\"Test statistic: {result['test_statistic']}\")\n",
    "print(f\"P-value: {result['p_value']}\")\n",
    "print(f\"Used lag: {result['used_lag']}\")\n",
    "print(f\"Number of observations: {result['n_obs']}\")\n",
    "print(\"Critical values:\")\n",
    "for key, value in result[\"critical_values\"].items():\n",
    "    print(f\"  {key}: {value}\")\n",
    "\n",
    "if result[\"p_value\"] < 0.05:\n",
    "    print(\"The series is stationary (reject the null hypothesis of a unit root).\")\n",
    "else:\n",
    "    print(\n",
    "        \"The series is non-stationary (fail to reject the null hypothesis of a unit root).\"\n",
    "    )"
   ]
  },
  {
   "cell_type": "code",
   "execution_count": 493,
   "id": "dc657e25",
   "metadata": {},
   "outputs": [
    {
     "name": "stdout",
     "output_type": "stream",
     "text": [
      "Summary of ADF Test Results by run_firm_id:\n",
      "            run_firm_id\n",
      "stationary             \n",
      "False                47\n",
      "True                 37\n",
      "\n",
      "Detailed Results:\n",
      "   run_firm_id  test_statistic       p_value  stationary\n",
      "0         33_1       -7.460490  5.370102e-11        True\n",
      "1         25_1       -3.441754  9.615206e-03        True\n",
      "2         11_1       -7.333189  1.113929e-10        True\n",
      "3         32_1       -1.744814  4.081831e-01       False\n",
      "4         13_1        0.259087  9.753876e-01       False\n",
      "..         ...             ...           ...         ...\n",
      "79         8_2       -0.956470  7.688081e-01       False\n",
      "80        13_2       -2.041308  2.687595e-01       False\n",
      "81         1_1       -2.150973  2.245177e-01       False\n",
      "82         5_1       -0.916635  7.824448e-01       False\n",
      "83        38_1       -8.779544  2.397373e-14        True\n",
      "\n",
      "[84 rows x 4 columns]\n",
      "\n",
      "Number of stationary series: 37\n",
      "Number of non-stationary series: 47\n"
     ]
    }
   ],
   "source": [
    "from statsmodels.tsa.stattools import adfuller\n",
    "import pandas as pd\n",
    "\n",
    "# Initialize counters\n",
    "stationary_count = 0\n",
    "non_stationary_count = 0\n",
    "\n",
    "# Initialize a list to collect results\n",
    "results = []\n",
    "\n",
    "# Iterate through each firm ID\n",
    "for firm_id in df[\"run_firm_id\"].unique():\n",
    "    # Filter series for the current firm_id\n",
    "    series = (\n",
    "        df.filter(pl.col(\"run_firm_id\") == firm_id)\n",
    "        .select(\"price\")\n",
    "        .to_series()\n",
    "        .to_list()\n",
    "    )\n",
    "\n",
    "    # Run ADF test\n",
    "    result = adfuller(series, maxlag=22)\n",
    "\n",
    "    # Interpret the result\n",
    "    test_statistic = result[0]\n",
    "    p_value = result[1]\n",
    "\n",
    "    # Determine stationarity\n",
    "    if p_value < 0.05:\n",
    "        stationary = True\n",
    "        stationary_count += 1\n",
    "    else:\n",
    "        stationary = False\n",
    "        non_stationary_count += 1\n",
    "\n",
    "    # Append result to list\n",
    "    results.append(\n",
    "        {\n",
    "            \"run_firm_id\": firm_id,\n",
    "            \"test_statistic\": test_statistic,\n",
    "            \"p_value\": p_value,\n",
    "            \"stationary\": stationary,\n",
    "        }\n",
    "    )\n",
    "\n",
    "# Create a DataFrame from results\n",
    "results_df = pd.DataFrame(results)\n",
    "\n",
    "# Print summary table\n",
    "print(\"Summary of ADF Test Results by run_firm_id:\")\n",
    "print(results_df[[\"run_firm_id\", \"stationary\"]].groupby(\"stationary\").count())\n",
    "\n",
    "# Optionally, print additional details\n",
    "print(\"\\nDetailed Results:\")\n",
    "print(results_df)\n",
    "\n",
    "# Optionally, you can also print counts\n",
    "print(f\"\\nNumber of stationary series: {stationary_count}\")\n",
    "print(f\"Number of non-stationary series: {non_stationary_count}\")"
   ]
  },
  {
   "cell_type": "code",
   "execution_count": 494,
   "id": "cee6a717",
   "metadata": {},
   "outputs": [
    {
     "name": "stdout",
     "output_type": "stream",
     "text": [
      "Summary of ADF Test Results by run_firm_id:\n",
      "            run_firm_id\n",
      "stationary             \n",
      "False                 5\n",
      "True                 79\n",
      "\n",
      "Detailed Results:\n",
      "   run_firm_id  test_statistic       p_value  stationary\n",
      "0         41_1       -6.826983  1.936618e-09        True\n",
      "1          4_1       -7.246624  1.825140e-10        True\n",
      "2         22_2       -4.916286  3.241614e-05        True\n",
      "3         13_2       -5.493622  2.147682e-06        True\n",
      "4         31_2       -2.140602  2.285047e-01       False\n",
      "..         ...             ...           ...         ...\n",
      "79        23_1       -8.345288  3.097298e-13        True\n",
      "80        21_2       -5.526985  1.823339e-06        True\n",
      "81         2_2       -8.042168  1.834620e-12        True\n",
      "82        10_1       -2.975416  3.725491e-02        True\n",
      "83        29_2       -6.950856  9.701338e-10        True\n",
      "\n",
      "[84 rows x 4 columns]\n",
      "\n",
      "Number of stationary series: 79\n",
      "Number of non-stationary series: 5\n"
     ]
    }
   ],
   "source": [
    "from statsmodels.tsa.stattools import adfuller\n",
    "import pandas as pd\n",
    "\n",
    "# Initialize counters\n",
    "stationary_count = 0\n",
    "non_stationary_count = 0\n",
    "\n",
    "# Initialize a list to collect results\n",
    "results = []\n",
    "\n",
    "# Iterate through each firm ID\n",
    "for firm_id in df[\"run_firm_id\"].unique():\n",
    "    # Filter series for the current firm_id\n",
    "    series = (\n",
    "        df.filter(pl.col(\"run_firm_id\") == firm_id)\n",
    "        .with_columns(\n",
    "            #   pl.col(\"price\").diff(1).fill_null(0).alias(\"price_diff\")\n",
    "            (pl.col(\"price\").log())\n",
    "            .diff(1)\n",
    "            .fill_null(0)\n",
    "            .alias(\"price_diff\")  # NOTE! This uses log differences\n",
    "        )\n",
    "        .select(\"price_diff\")\n",
    "        .to_series()\n",
    "        .to_list()\n",
    "    )\n",
    "\n",
    "    # Run ADF test\n",
    "    result = adfuller(series, maxlag=22)\n",
    "\n",
    "    # Interpret the result\n",
    "    test_statistic = result[0]\n",
    "    p_value = result[1]\n",
    "\n",
    "    # Determine stationarity\n",
    "    if p_value < 0.05:\n",
    "        stationary = True\n",
    "        stationary_count += 1\n",
    "    else:\n",
    "        stationary = False\n",
    "        non_stationary_count += 1\n",
    "\n",
    "    # Append result to list\n",
    "    results.append(\n",
    "        {\n",
    "            \"run_firm_id\": firm_id,\n",
    "            \"test_statistic\": test_statistic,\n",
    "            \"p_value\": p_value,\n",
    "            \"stationary\": stationary,\n",
    "        }\n",
    "    )\n",
    "\n",
    "# Create a DataFrame from results\n",
    "results_df = pd.DataFrame(results)\n",
    "\n",
    "# Print summary table\n",
    "print(\"Summary of ADF Test Results by run_firm_id:\")\n",
    "print(results_df[[\"run_firm_id\", \"stationary\"]].groupby(\"stationary\").count())\n",
    "\n",
    "# Optionally, print additional details\n",
    "print(\"\\nDetailed Results:\")\n",
    "print(results_df)\n",
    "\n",
    "# Optionally, you can also print counts\n",
    "print(f\"\\nNumber of stationary series: {stationary_count}\")\n",
    "print(f\"Number of non-stationary series: {non_stationary_count}\")"
   ]
  },
  {
   "cell_type": "markdown",
   "id": "d6d0e61a",
   "metadata": {},
   "source": [
    "We need to work with price differences."
   ]
  },
  {
   "cell_type": "code",
   "execution_count": 495,
   "id": "c008a28c",
   "metadata": {},
   "outputs": [
    {
     "data": {
      "text/html": [
       "<div><style>\n",
       ".dataframe > thead > tr,\n",
       ".dataframe > tbody > tr {\n",
       "  text-align: right;\n",
       "  white-space: pre-wrap;\n",
       "}\n",
       "</style>\n",
       "<small>shape: (5, 7)</small><table border=\"1\" class=\"dataframe\"><thead><tr><th>run_firm_id</th><th>run_id</th><th>firm_id</th><th>period</th><th>price</th><th>prompt_prefix</th><th>price_log_diff</th></tr><tr><td>str</td><td>u32</td><td>u32</td><td>i64</td><td>f64</td><td>str</td><td>f64</td></tr></thead><tbody><tr><td>&quot;1_1&quot;</td><td>1</td><td>1</td><td>1</td><td>4.51</td><td>&quot;P1&quot;</td><td>0.0</td></tr><tr><td>&quot;1_1&quot;</td><td>1</td><td>1</td><td>2</td><td>2.1875</td><td>&quot;P1&quot;</td><td>-0.723538</td></tr><tr><td>&quot;1_1&quot;</td><td>1</td><td>1</td><td>3</td><td>2.0312</td><td>&quot;P1&quot;</td><td>-0.074133</td></tr><tr><td>&quot;1_1&quot;</td><td>1</td><td>1</td><td>4</td><td>1.875</td><td>&quot;P1&quot;</td><td>-0.080018</td></tr><tr><td>&quot;1_1&quot;</td><td>1</td><td>1</td><td>5</td><td>1.7188</td><td>&quot;P1&quot;</td><td>-0.086982</td></tr></tbody></table></div>"
      ],
      "text/plain": [
       "shape: (5, 7)\n",
       "┌─────────────┬────────┬─────────┬────────┬────────┬───────────────┬────────────────┐\n",
       "│ run_firm_id ┆ run_id ┆ firm_id ┆ period ┆ price  ┆ prompt_prefix ┆ price_log_diff │\n",
       "│ ---         ┆ ---    ┆ ---     ┆ ---    ┆ ---    ┆ ---           ┆ ---            │\n",
       "│ str         ┆ u32    ┆ u32     ┆ i64    ┆ f64    ┆ str           ┆ f64            │\n",
       "╞═════════════╪════════╪═════════╪════════╪════════╪═══════════════╪════════════════╡\n",
       "│ 1_1         ┆ 1      ┆ 1       ┆ 1      ┆ 4.51   ┆ P1            ┆ 0.0            │\n",
       "│ 1_1         ┆ 1      ┆ 1       ┆ 2      ┆ 2.1875 ┆ P1            ┆ -0.723538      │\n",
       "│ 1_1         ┆ 1      ┆ 1       ┆ 3      ┆ 2.0312 ┆ P1            ┆ -0.074133      │\n",
       "│ 1_1         ┆ 1      ┆ 1       ┆ 4      ┆ 1.875  ┆ P1            ┆ -0.080018      │\n",
       "│ 1_1         ┆ 1      ┆ 1       ┆ 5      ┆ 1.7188 ┆ P1            ┆ -0.086982      │\n",
       "└─────────────┴────────┴─────────┴────────┴────────┴───────────────┴────────────────┘"
      ]
     },
     "execution_count": 495,
     "metadata": {},
     "output_type": "execute_result"
    }
   ],
   "source": [
    "df = df.with_columns(\n",
    "    (pl.col(\"price\").log())\n",
    "    .diff(1)\n",
    "    .over(\"run_firm_id\")\n",
    "    .fill_null(0)\n",
    "    .alias(\"price_log_diff\")  # NOTE! This uses log differences\n",
    ")\n",
    "df.head()"
   ]
  },
  {
   "cell_type": "markdown",
   "id": "0c14d60d",
   "metadata": {},
   "source": [
    "# Fixed effects regression (trigger strategy)\n",
    "---"
   ]
  },
  {
   "cell_type": "markdown",
   "id": "67aec21f",
   "metadata": {},
   "source": [
    "We are interested in the responsiveness of agents to each other since it is a feature of a reward-punishment strategy. We are interested in stickiness since it measures the persistence of such rewards and punishments.\n",
    "\n",
    "To measure responsiveness and stickiness, we perform a linear regression with the following model:\n",
    "$$p_{i,r}^t = \\alpha_{i,r} + \\gamma p_{i,r}^{t-1} + \\delta p_{-i,r}^{t-1}+\\epsilon_{i,r}^{t}$$\n",
    "\n",
    "$$\\Delta \\log(p_{i,r}^t) =   \\gamma \\Delta \\log(p_{i,r}^{t-1}) + \\delta \\Delta \\log(p_{-i,r}^{t-1})+ \\Delta \\epsilon_{i,r}^{t}$$\n",
    "\n",
    "\n",
    "where $p_{i,r}^t$ is the price set by the agent $i$ at period $t$ of run $r$ of the experiment, $p_{i,r}^t$ is the price set by competitors at period $t$ of run $r$ and nd $α_{i,r}$ is a firm-run fixed effect."
   ]
  },
  {
   "cell_type": "code",
   "execution_count": 496,
   "id": "96e0bc9e",
   "metadata": {},
   "outputs": [
    {
     "data": {
      "text/html": [
       "<div><style>\n",
       ".dataframe > thead > tr,\n",
       ".dataframe > tbody > tr {\n",
       "  text-align: right;\n",
       "  white-space: pre-wrap;\n",
       "}\n",
       "</style>\n",
       "<small>shape: (25_200, 7)</small><table border=\"1\" class=\"dataframe\"><thead><tr><th>run_firm_id</th><th>run_id</th><th>firm_id</th><th>period</th><th>price</th><th>prompt_prefix</th><th>price_log_diff</th></tr><tr><td>str</td><td>u32</td><td>u32</td><td>i64</td><td>f64</td><td>str</td><td>f64</td></tr></thead><tbody><tr><td>&quot;1_1&quot;</td><td>1</td><td>1</td><td>1</td><td>4.51</td><td>&quot;P1&quot;</td><td>0.0</td></tr><tr><td>&quot;1_1&quot;</td><td>1</td><td>1</td><td>2</td><td>2.1875</td><td>&quot;P1&quot;</td><td>-0.723538</td></tr><tr><td>&quot;1_1&quot;</td><td>1</td><td>1</td><td>3</td><td>2.0312</td><td>&quot;P1&quot;</td><td>-0.074133</td></tr><tr><td>&quot;1_1&quot;</td><td>1</td><td>1</td><td>4</td><td>1.875</td><td>&quot;P1&quot;</td><td>-0.080018</td></tr><tr><td>&quot;1_1&quot;</td><td>1</td><td>1</td><td>5</td><td>1.7188</td><td>&quot;P1&quot;</td><td>-0.086982</td></tr><tr><td>&hellip;</td><td>&hellip;</td><td>&hellip;</td><td>&hellip;</td><td>&hellip;</td><td>&hellip;</td><td>&hellip;</td></tr><tr><td>&quot;42_2&quot;</td><td>42</td><td>2</td><td>296</td><td>1.5605</td><td>&quot;P2&quot;</td><td>0.0</td></tr><tr><td>&quot;42_2&quot;</td><td>42</td><td>2</td><td>297</td><td>1.5605</td><td>&quot;P2&quot;</td><td>0.0</td></tr><tr><td>&quot;42_2&quot;</td><td>42</td><td>2</td><td>298</td><td>1.5605</td><td>&quot;P2&quot;</td><td>0.0</td></tr><tr><td>&quot;42_2&quot;</td><td>42</td><td>2</td><td>299</td><td>1.5605</td><td>&quot;P2&quot;</td><td>0.0</td></tr><tr><td>&quot;42_2&quot;</td><td>42</td><td>2</td><td>300</td><td>1.5605</td><td>&quot;P2&quot;</td><td>0.0</td></tr></tbody></table></div>"
      ],
      "text/plain": [
       "shape: (25_200, 7)\n",
       "┌─────────────┬────────┬─────────┬────────┬────────┬───────────────┬────────────────┐\n",
       "│ run_firm_id ┆ run_id ┆ firm_id ┆ period ┆ price  ┆ prompt_prefix ┆ price_log_diff │\n",
       "│ ---         ┆ ---    ┆ ---     ┆ ---    ┆ ---    ┆ ---           ┆ ---            │\n",
       "│ str         ┆ u32    ┆ u32     ┆ i64    ┆ f64    ┆ str           ┆ f64            │\n",
       "╞═════════════╪════════╪═════════╪════════╪════════╪═══════════════╪════════════════╡\n",
       "│ 1_1         ┆ 1      ┆ 1       ┆ 1      ┆ 4.51   ┆ P1            ┆ 0.0            │\n",
       "│ 1_1         ┆ 1      ┆ 1       ┆ 2      ┆ 2.1875 ┆ P1            ┆ -0.723538      │\n",
       "│ 1_1         ┆ 1      ┆ 1       ┆ 3      ┆ 2.0312 ┆ P1            ┆ -0.074133      │\n",
       "│ 1_1         ┆ 1      ┆ 1       ┆ 4      ┆ 1.875  ┆ P1            ┆ -0.080018      │\n",
       "│ 1_1         ┆ 1      ┆ 1       ┆ 5      ┆ 1.7188 ┆ P1            ┆ -0.086982      │\n",
       "│ …           ┆ …      ┆ …       ┆ …      ┆ …      ┆ …             ┆ …              │\n",
       "│ 42_2        ┆ 42     ┆ 2       ┆ 296    ┆ 1.5605 ┆ P2            ┆ 0.0            │\n",
       "│ 42_2        ┆ 42     ┆ 2       ┆ 297    ┆ 1.5605 ┆ P2            ┆ 0.0            │\n",
       "│ 42_2        ┆ 42     ┆ 2       ┆ 298    ┆ 1.5605 ┆ P2            ┆ 0.0            │\n",
       "│ 42_2        ┆ 42     ┆ 2       ┆ 299    ┆ 1.5605 ┆ P2            ┆ 0.0            │\n",
       "│ 42_2        ┆ 42     ┆ 2       ┆ 300    ┆ 1.5605 ┆ P2            ┆ 0.0            │\n",
       "└─────────────┴────────┴─────────┴────────┴────────┴───────────────┴────────────────┘"
      ]
     },
     "execution_count": 496,
     "metadata": {},
     "output_type": "execute_result"
    }
   ],
   "source": [
    "df"
   ]
  },
  {
   "cell_type": "code",
   "execution_count": 497,
   "id": "a495cb0f",
   "metadata": {},
   "outputs": [
    {
     "data": {
      "text/html": [
       "<div><style>\n",
       ".dataframe > thead > tr,\n",
       ".dataframe > tbody > tr {\n",
       "  text-align: right;\n",
       "  white-space: pre-wrap;\n",
       "}\n",
       "</style>\n",
       "<small>shape: (6_300, 10)</small><table border=\"1\" class=\"dataframe\"><thead><tr><th>run_id</th><th>period</th><th>prompt_prefix</th><th>1_log_diff</th><th>2_log_diff</th><th>1_log_diff_lag</th><th>2_log_diff_lag</th><th>price_log_diff</th><th>price_log_diff_lag_own</th><th>price_log_diff_lag_comp</th></tr><tr><td>u32</td><td>i64</td><td>str</td><td>f64</td><td>f64</td><td>f64</td><td>f64</td><td>f64</td><td>f64</td><td>f64</td></tr></thead><tbody><tr><td>1</td><td>2</td><td>&quot;P1&quot;</td><td>-0.723538</td><td>0.258771</td><td>0.0</td><td>0.0</td><td>-0.723538</td><td>0.0</td><td>0.0</td></tr><tr><td>1</td><td>4</td><td>&quot;P1&quot;</td><td>-0.080018</td><td>0.064517</td><td>-0.074133</td><td>-0.287661</td><td>0.064517</td><td>-0.287661</td><td>-0.074133</td></tr><tr><td>1</td><td>6</td><td>&quot;P1&quot;</td><td>0.044437</td><td>-0.074133</td><td>-0.086982</td><td>-0.133531</td><td>0.044437</td><td>-0.086982</td><td>-0.133531</td></tr><tr><td>1</td><td>8</td><td>&quot;P1&quot;</td><td>-0.057589</td><td>-0.042546</td><td>0.083355</td><td>-0.080018</td><td>-0.042546</td><td>-0.080018</td><td>0.083355</td></tr><tr><td>1</td><td>10</td><td>&quot;P1&quot;</td><td>0.016287</td><td>-0.016104</td><td>0.033283</td><td>0.083355</td><td>0.016287</td><td>0.033283</td><td>0.083355</td></tr><tr><td>&hellip;</td><td>&hellip;</td><td>&hellip;</td><td>&hellip;</td><td>&hellip;</td><td>&hellip;</td><td>&hellip;</td><td>&hellip;</td><td>&hellip;</td><td>&hellip;</td></tr><tr><td>42</td><td>292</td><td>&quot;P2&quot;</td><td>0.00031</td><td>0.0</td><td>-0.00031</td><td>0.0</td><td>0.0</td><td>0.0</td><td>-0.00031</td></tr><tr><td>42</td><td>294</td><td>&quot;P2&quot;</td><td>0.00031</td><td>0.0</td><td>0.0</td><td>0.0</td><td>0.00031</td><td>0.0</td><td>0.0</td></tr><tr><td>42</td><td>296</td><td>&quot;P2&quot;</td><td>-0.00031</td><td>0.0</td><td>-0.00031</td><td>0.0</td><td>0.0</td><td>0.0</td><td>-0.00031</td></tr><tr><td>42</td><td>298</td><td>&quot;P2&quot;</td><td>0.00031</td><td>0.0</td><td>0.0</td><td>0.0</td><td>0.00031</td><td>0.0</td><td>0.0</td></tr><tr><td>42</td><td>300</td><td>&quot;P2&quot;</td><td>0.00031</td><td>0.0</td><td>-0.00031</td><td>0.0</td><td>0.0</td><td>0.0</td><td>-0.00031</td></tr></tbody></table></div>"
      ],
      "text/plain": [
       "shape: (6_300, 10)\n",
       "┌────────┬────────┬────────────┬────────────┬───┬────────────┬────────────┬────────────┬───────────┐\n",
       "│ run_id ┆ period ┆ prompt_pre ┆ 1_log_diff ┆ … ┆ 2_log_diff ┆ price_log_ ┆ price_log_ ┆ price_log │\n",
       "│ ---    ┆ ---    ┆ fix        ┆ ---        ┆   ┆ _lag       ┆ diff       ┆ diff_lag_o ┆ _diff_lag │\n",
       "│ u32    ┆ i64    ┆ ---        ┆ f64        ┆   ┆ ---        ┆ ---        ┆ wn         ┆ _comp     │\n",
       "│        ┆        ┆ str        ┆            ┆   ┆ f64        ┆ f64        ┆ ---        ┆ ---       │\n",
       "│        ┆        ┆            ┆            ┆   ┆            ┆            ┆ f64        ┆ f64       │\n",
       "╞════════╪════════╪════════════╪════════════╪═══╪════════════╪════════════╪════════════╪═══════════╡\n",
       "│ 1      ┆ 2      ┆ P1         ┆ -0.723538  ┆ … ┆ 0.0        ┆ -0.723538  ┆ 0.0        ┆ 0.0       │\n",
       "│ 1      ┆ 4      ┆ P1         ┆ -0.080018  ┆ … ┆ -0.287661  ┆ 0.064517   ┆ -0.287661  ┆ -0.074133 │\n",
       "│ 1      ┆ 6      ┆ P1         ┆ 0.044437   ┆ … ┆ -0.133531  ┆ 0.044437   ┆ -0.086982  ┆ -0.133531 │\n",
       "│ 1      ┆ 8      ┆ P1         ┆ -0.057589  ┆ … ┆ -0.080018  ┆ -0.042546  ┆ -0.080018  ┆ 0.083355  │\n",
       "│ 1      ┆ 10     ┆ P1         ┆ 0.016287   ┆ … ┆ 0.083355   ┆ 0.016287   ┆ 0.033283   ┆ 0.083355  │\n",
       "│ …      ┆ …      ┆ …          ┆ …          ┆ … ┆ …          ┆ …          ┆ …          ┆ …         │\n",
       "│ 42     ┆ 292    ┆ P2         ┆ 0.00031    ┆ … ┆ 0.0        ┆ 0.0        ┆ 0.0        ┆ -0.00031  │\n",
       "│ 42     ┆ 294    ┆ P2         ┆ 0.00031    ┆ … ┆ 0.0        ┆ 0.00031    ┆ 0.0        ┆ 0.0       │\n",
       "│ 42     ┆ 296    ┆ P2         ┆ -0.00031   ┆ … ┆ 0.0        ┆ 0.0        ┆ 0.0        ┆ -0.00031  │\n",
       "│ 42     ┆ 298    ┆ P2         ┆ 0.00031    ┆ … ┆ 0.0        ┆ 0.00031    ┆ 0.0        ┆ 0.0       │\n",
       "│ 42     ┆ 300    ┆ P2         ┆ 0.00031    ┆ … ┆ 0.0        ┆ 0.0        ┆ 0.0        ┆ -0.00031  │\n",
       "└────────┴────────┴────────────┴────────────┴───┴────────────┴────────────┴────────────┴───────────┘"
      ]
     },
     "execution_count": 497,
     "metadata": {},
     "output_type": "execute_result"
    }
   ],
   "source": [
    "# Get competitor's price by reshaping the table (pivot)\n",
    "df_fe = (\n",
    "    df.pivot(\n",
    "        values=\"price_log_diff\",\n",
    "        index=[\"run_id\", \"period\", \"prompt_prefix\"],\n",
    "        on=\"firm_id\",\n",
    "    )\n",
    "    .rename(\n",
    "        {\n",
    "            \"1\": \"1_log_diff\",\n",
    "            \"2\": \"2_log_diff\",\n",
    "        }\n",
    "    )\n",
    "    .with_columns(\n",
    "        [\n",
    "            pl.col(\"1_log_diff\").shift(1).alias(\"1_log_diff_lag\"),\n",
    "            pl.col(\"2_log_diff\").shift(1).alias(\"2_log_diff_lag\"),\n",
    "        ]\n",
    "    )\n",
    "    # Filter first period\n",
    "    .filter(pl.col(\"period\") > 1)\n",
    "    # Filter and keep only disjoint periods\n",
    "    .filter(pl.col(\"period\") % 2 == 0)\n",
    "    # Alternate between the firms. Keep only\n",
    "    .with_columns(\n",
    "        [\n",
    "            pl.when(pl.col(\"period\") % 4 == 2)\n",
    "            .then(pl.col(\"1_log_diff\"))\n",
    "            .otherwise(pl.col(\"2_log_diff\"))\n",
    "            .alias(\"price_log_diff\"),\n",
    "            pl.when(pl.col(\"period\") % 4 == 2)\n",
    "            .then(pl.col(\"1_log_diff_lag\"))\n",
    "            .otherwise(pl.col(\"2_log_diff_lag\"))\n",
    "            .alias(\"price_log_diff_lag_own\"),\n",
    "            pl.when(pl.col(\"period\") % 4 == 2)\n",
    "            .then(pl.col(\"2_log_diff_lag\"))\n",
    "            .otherwise(pl.col(\"1_log_diff_lag\"))\n",
    "            .alias(\"price_log_diff_lag_comp\"),\n",
    "        ]\n",
    "    )\n",
    "    .sort([\"run_id\", \"period\", \"prompt_prefix\"])\n",
    ")\n",
    "df_fe"
   ]
  },
  {
   "cell_type": "code",
   "execution_count": 498,
   "id": "4f11d9aa",
   "metadata": {},
   "outputs": [
    {
     "data": {
      "text/html": [
       "<div><style>\n",
       ".dataframe > thead > tr,\n",
       ".dataframe > tbody > tr {\n",
       "  text-align: right;\n",
       "  white-space: pre-wrap;\n",
       "}\n",
       "</style>\n",
       "<small>shape: (6_300, 6)</small><table border=\"1\" class=\"dataframe\"><thead><tr><th>run_id</th><th>period</th><th>prompt_prefix</th><th>price_log_diff</th><th>price_log_diff_lag_own</th><th>price_log_diff_lag_comp</th></tr><tr><td>u32</td><td>i64</td><td>str</td><td>f64</td><td>f64</td><td>f64</td></tr></thead><tbody><tr><td>1</td><td>2</td><td>&quot;P1&quot;</td><td>-0.723538</td><td>0.0</td><td>0.0</td></tr><tr><td>1</td><td>4</td><td>&quot;P1&quot;</td><td>0.064517</td><td>-0.287661</td><td>-0.074133</td></tr><tr><td>1</td><td>6</td><td>&quot;P1&quot;</td><td>0.044437</td><td>-0.086982</td><td>-0.133531</td></tr><tr><td>1</td><td>8</td><td>&quot;P1&quot;</td><td>-0.042546</td><td>-0.080018</td><td>0.083355</td></tr><tr><td>1</td><td>10</td><td>&quot;P1&quot;</td><td>0.016287</td><td>0.033283</td><td>0.083355</td></tr><tr><td>&hellip;</td><td>&hellip;</td><td>&hellip;</td><td>&hellip;</td><td>&hellip;</td><td>&hellip;</td></tr><tr><td>42</td><td>292</td><td>&quot;P2&quot;</td><td>0.0</td><td>0.0</td><td>-0.00031</td></tr><tr><td>42</td><td>294</td><td>&quot;P2&quot;</td><td>0.00031</td><td>0.0</td><td>0.0</td></tr><tr><td>42</td><td>296</td><td>&quot;P2&quot;</td><td>0.0</td><td>0.0</td><td>-0.00031</td></tr><tr><td>42</td><td>298</td><td>&quot;P2&quot;</td><td>0.00031</td><td>0.0</td><td>0.0</td></tr><tr><td>42</td><td>300</td><td>&quot;P2&quot;</td><td>0.0</td><td>0.0</td><td>-0.00031</td></tr></tbody></table></div>"
      ],
      "text/plain": [
       "shape: (6_300, 6)\n",
       "┌────────┬────────┬───────────────┬────────────────┬───────────────────────┬───────────────────────┐\n",
       "│ run_id ┆ period ┆ prompt_prefix ┆ price_log_diff ┆ price_log_diff_lag_ow ┆ price_log_diff_lag_co │\n",
       "│ ---    ┆ ---    ┆ ---           ┆ ---            ┆ n                     ┆ mp                    │\n",
       "│ u32    ┆ i64    ┆ str           ┆ f64            ┆ ---                   ┆ ---                   │\n",
       "│        ┆        ┆               ┆                ┆ f64                   ┆ f64                   │\n",
       "╞════════╪════════╪═══════════════╪════════════════╪═══════════════════════╪═══════════════════════╡\n",
       "│ 1      ┆ 2      ┆ P1            ┆ -0.723538      ┆ 0.0                   ┆ 0.0                   │\n",
       "│ 1      ┆ 4      ┆ P1            ┆ 0.064517       ┆ -0.287661             ┆ -0.074133             │\n",
       "│ 1      ┆ 6      ┆ P1            ┆ 0.044437       ┆ -0.086982             ┆ -0.133531             │\n",
       "│ 1      ┆ 8      ┆ P1            ┆ -0.042546      ┆ -0.080018             ┆ 0.083355              │\n",
       "│ 1      ┆ 10     ┆ P1            ┆ 0.016287       ┆ 0.033283              ┆ 0.083355              │\n",
       "│ …      ┆ …      ┆ …             ┆ …              ┆ …                     ┆ …                     │\n",
       "│ 42     ┆ 292    ┆ P2            ┆ 0.0            ┆ 0.0                   ┆ -0.00031              │\n",
       "│ 42     ┆ 294    ┆ P2            ┆ 0.00031        ┆ 0.0                   ┆ 0.0                   │\n",
       "│ 42     ┆ 296    ┆ P2            ┆ 0.0            ┆ 0.0                   ┆ -0.00031              │\n",
       "│ 42     ┆ 298    ┆ P2            ┆ 0.00031        ┆ 0.0                   ┆ 0.0                   │\n",
       "│ 42     ┆ 300    ┆ P2            ┆ 0.0            ┆ 0.0                   ┆ -0.00031              │\n",
       "└────────┴────────┴───────────────┴────────────────┴───────────────────────┴───────────────────────┘"
      ]
     },
     "execution_count": 498,
     "metadata": {},
     "output_type": "execute_result"
    }
   ],
   "source": [
    "df_fe = df_fe.select(\n",
    "    [\n",
    "        \"run_id\",\n",
    "        \"period\",\n",
    "        \"prompt_prefix\",\n",
    "        \"price_log_diff\",\n",
    "        \"price_log_diff_lag_own\",\n",
    "        \"price_log_diff_lag_comp\",\n",
    "    ]\n",
    ")\n",
    "df_fe"
   ]
  },
  {
   "cell_type": "code",
   "execution_count": 499,
   "id": "1417b10c",
   "metadata": {},
   "outputs": [
    {
     "data": {
      "text/html": [
       "<div><style>\n",
       ".dataframe > thead > tr,\n",
       ".dataframe > tbody > tr {\n",
       "  text-align: right;\n",
       "  white-space: pre-wrap;\n",
       "}\n",
       "</style>\n",
       "<small>shape: (2, 2)</small><table border=\"1\" class=\"dataframe\"><thead><tr><th>prompt_prefix</th><th>count</th></tr><tr><td>str</td><td>u32</td></tr></thead><tbody><tr><td>&quot;P2&quot;</td><td>3150</td></tr><tr><td>&quot;P1&quot;</td><td>3150</td></tr></tbody></table></div>"
      ],
      "text/plain": [
       "shape: (2, 2)\n",
       "┌───────────────┬───────┐\n",
       "│ prompt_prefix ┆ count │\n",
       "│ ---           ┆ ---   │\n",
       "│ str           ┆ u32   │\n",
       "╞═══════════════╪═══════╡\n",
       "│ P2            ┆ 3150  │\n",
       "│ P1            ┆ 3150  │\n",
       "└───────────────┴───────┘"
      ]
     },
     "execution_count": 499,
     "metadata": {},
     "output_type": "execute_result"
    }
   ],
   "source": [
    "df_fe[\"prompt_prefix\"].value_counts()"
   ]
  },
  {
   "cell_type": "markdown",
   "id": "3234b34e",
   "metadata": {},
   "source": [
    "## P1vsP1"
   ]
  },
  {
   "cell_type": "code",
   "execution_count": 500,
   "id": "9ec0e792",
   "metadata": {},
   "outputs": [
    {
     "data": {
      "text/html": [
       "<div><style>\n",
       ".dataframe > thead > tr,\n",
       ".dataframe > tbody > tr {\n",
       "  text-align: right;\n",
       "  white-space: pre-wrap;\n",
       "}\n",
       "</style>\n",
       "<small>shape: (3_150, 6)</small><table border=\"1\" class=\"dataframe\"><thead><tr><th>run_id</th><th>period</th><th>prompt_prefix</th><th>price_log_diff</th><th>price_log_diff_lag_own</th><th>price_log_diff_lag_comp</th></tr><tr><td>u32</td><td>i64</td><td>str</td><td>f64</td><td>f64</td><td>f64</td></tr></thead><tbody><tr><td>1</td><td>2</td><td>&quot;P1&quot;</td><td>-0.723538</td><td>0.0</td><td>0.0</td></tr><tr><td>1</td><td>4</td><td>&quot;P1&quot;</td><td>0.064517</td><td>-0.287661</td><td>-0.074133</td></tr><tr><td>1</td><td>6</td><td>&quot;P1&quot;</td><td>0.044437</td><td>-0.086982</td><td>-0.133531</td></tr><tr><td>1</td><td>8</td><td>&quot;P1&quot;</td><td>-0.042546</td><td>-0.080018</td><td>0.083355</td></tr><tr><td>1</td><td>10</td><td>&quot;P1&quot;</td><td>0.016287</td><td>0.033283</td><td>0.083355</td></tr><tr><td>&hellip;</td><td>&hellip;</td><td>&hellip;</td><td>&hellip;</td><td>&hellip;</td><td>&hellip;</td></tr><tr><td>40</td><td>292</td><td>&quot;P1&quot;</td><td>0.0</td><td>0.0</td><td>0.0</td></tr><tr><td>40</td><td>294</td><td>&quot;P1&quot;</td><td>0.0</td><td>0.0</td><td>0.0</td></tr><tr><td>40</td><td>296</td><td>&quot;P1&quot;</td><td>0.0</td><td>0.0</td><td>0.0</td></tr><tr><td>40</td><td>298</td><td>&quot;P1&quot;</td><td>0.0</td><td>0.0</td><td>0.0</td></tr><tr><td>40</td><td>300</td><td>&quot;P1&quot;</td><td>0.0</td><td>0.0</td><td>0.0</td></tr></tbody></table></div>"
      ],
      "text/plain": [
       "shape: (3_150, 6)\n",
       "┌────────┬────────┬───────────────┬────────────────┬───────────────────────┬───────────────────────┐\n",
       "│ run_id ┆ period ┆ prompt_prefix ┆ price_log_diff ┆ price_log_diff_lag_ow ┆ price_log_diff_lag_co │\n",
       "│ ---    ┆ ---    ┆ ---           ┆ ---            ┆ n                     ┆ mp                    │\n",
       "│ u32    ┆ i64    ┆ str           ┆ f64            ┆ ---                   ┆ ---                   │\n",
       "│        ┆        ┆               ┆                ┆ f64                   ┆ f64                   │\n",
       "╞════════╪════════╪═══════════════╪════════════════╪═══════════════════════╪═══════════════════════╡\n",
       "│ 1      ┆ 2      ┆ P1            ┆ -0.723538      ┆ 0.0                   ┆ 0.0                   │\n",
       "│ 1      ┆ 4      ┆ P1            ┆ 0.064517       ┆ -0.287661             ┆ -0.074133             │\n",
       "│ 1      ┆ 6      ┆ P1            ┆ 0.044437       ┆ -0.086982             ┆ -0.133531             │\n",
       "│ 1      ┆ 8      ┆ P1            ┆ -0.042546      ┆ -0.080018             ┆ 0.083355              │\n",
       "│ 1      ┆ 10     ┆ P1            ┆ 0.016287       ┆ 0.033283              ┆ 0.083355              │\n",
       "│ …      ┆ …      ┆ …             ┆ …              ┆ …                     ┆ …                     │\n",
       "│ 40     ┆ 292    ┆ P1            ┆ 0.0            ┆ 0.0                   ┆ 0.0                   │\n",
       "│ 40     ┆ 294    ┆ P1            ┆ 0.0            ┆ 0.0                   ┆ 0.0                   │\n",
       "│ 40     ┆ 296    ┆ P1            ┆ 0.0            ┆ 0.0                   ┆ 0.0                   │\n",
       "│ 40     ┆ 298    ┆ P1            ┆ 0.0            ┆ 0.0                   ┆ 0.0                   │\n",
       "│ 40     ┆ 300    ┆ P1            ┆ 0.0            ┆ 0.0                   ┆ 0.0                   │\n",
       "└────────┴────────┴───────────────┴────────────────┴───────────────────────┴───────────────────────┘"
      ]
     },
     "execution_count": 500,
     "metadata": {},
     "output_type": "execute_result"
    }
   ],
   "source": [
    "df_fe_p1 = df_fe.filter(pl.col(\"prompt_prefix\") == \"P1\").sort([\"run_id\", \"period\"])\n",
    "df_fe_p1"
   ]
  },
  {
   "cell_type": "code",
   "execution_count": 501,
   "id": "64afa0ef",
   "metadata": {},
   "outputs": [
    {
     "data": {
      "application/vnd.microsoft.datawrangler.viewer.v0+json": {
       "columns": [
        {
         "name": "('run_id', 'period')",
         "rawType": "object",
         "type": "unknown"
        },
        {
         "name": "prompt_prefix",
         "rawType": "object",
         "type": "string"
        },
        {
         "name": "price_log_diff",
         "rawType": "float64",
         "type": "float"
        },
        {
         "name": "price_log_diff_lag_own",
         "rawType": "float64",
         "type": "float"
        },
        {
         "name": "price_log_diff_lag_comp",
         "rawType": "float64",
         "type": "float"
        }
       ],
       "ref": "3fa13e67-de88-47ec-abd6-98e5159d59d6",
       "rows": [
        [
         "(np.uint32(1), np.int64(2))",
         "P1",
         "-0.7235378142649546",
         "0.0",
         "0.0"
        ],
        [
         "(np.uint32(1), np.int64(4))",
         "P1",
         "0.0645171880317903",
         "-0.287660739346",
         "-0.07413258784130083"
        ],
        [
         "(np.uint32(1), np.int64(6))",
         "P1",
         "0.04443658503156789",
         "-0.08698228650367101",
         "-0.13353139262452263"
        ],
        [
         "(np.uint32(1), np.int64(8))",
         "P1",
         "-0.042545701472103126",
         "-0.08001809198595755",
         "0.08335489591043765"
        ],
        [
         "(np.uint32(1), np.int64(10))",
         "P1",
         "0.016286750723976673",
         "0.03328307213903137",
         "0.08335489591043765"
        ]
       ],
       "shape": {
        "columns": 4,
        "rows": 5
       }
      },
      "text/html": [
       "<div>\n",
       "<style scoped>\n",
       "    .dataframe tbody tr th:only-of-type {\n",
       "        vertical-align: middle;\n",
       "    }\n",
       "\n",
       "    .dataframe tbody tr th {\n",
       "        vertical-align: top;\n",
       "    }\n",
       "\n",
       "    .dataframe thead th {\n",
       "        text-align: right;\n",
       "    }\n",
       "</style>\n",
       "<table border=\"1\" class=\"dataframe\">\n",
       "  <thead>\n",
       "    <tr style=\"text-align: right;\">\n",
       "      <th></th>\n",
       "      <th></th>\n",
       "      <th>prompt_prefix</th>\n",
       "      <th>price_log_diff</th>\n",
       "      <th>price_log_diff_lag_own</th>\n",
       "      <th>price_log_diff_lag_comp</th>\n",
       "    </tr>\n",
       "    <tr>\n",
       "      <th>run_id</th>\n",
       "      <th>period</th>\n",
       "      <th></th>\n",
       "      <th></th>\n",
       "      <th></th>\n",
       "      <th></th>\n",
       "    </tr>\n",
       "  </thead>\n",
       "  <tbody>\n",
       "    <tr>\n",
       "      <th rowspan=\"5\" valign=\"top\">1</th>\n",
       "      <th>2</th>\n",
       "      <td>P1</td>\n",
       "      <td>-0.723538</td>\n",
       "      <td>0.000000</td>\n",
       "      <td>0.000000</td>\n",
       "    </tr>\n",
       "    <tr>\n",
       "      <th>4</th>\n",
       "      <td>P1</td>\n",
       "      <td>0.064517</td>\n",
       "      <td>-0.287661</td>\n",
       "      <td>-0.074133</td>\n",
       "    </tr>\n",
       "    <tr>\n",
       "      <th>6</th>\n",
       "      <td>P1</td>\n",
       "      <td>0.044437</td>\n",
       "      <td>-0.086982</td>\n",
       "      <td>-0.133531</td>\n",
       "    </tr>\n",
       "    <tr>\n",
       "      <th>8</th>\n",
       "      <td>P1</td>\n",
       "      <td>-0.042546</td>\n",
       "      <td>-0.080018</td>\n",
       "      <td>0.083355</td>\n",
       "    </tr>\n",
       "    <tr>\n",
       "      <th>10</th>\n",
       "      <td>P1</td>\n",
       "      <td>0.016287</td>\n",
       "      <td>0.033283</td>\n",
       "      <td>0.083355</td>\n",
       "    </tr>\n",
       "  </tbody>\n",
       "</table>\n",
       "</div>"
      ],
      "text/plain": [
       "              prompt_prefix  price_log_diff  price_log_diff_lag_own  \\\n",
       "run_id period                                                         \n",
       "1      2                 P1       -0.723538                0.000000   \n",
       "       4                 P1        0.064517               -0.287661   \n",
       "       6                 P1        0.044437               -0.086982   \n",
       "       8                 P1       -0.042546               -0.080018   \n",
       "       10                P1        0.016287                0.033283   \n",
       "\n",
       "               price_log_diff_lag_comp  \n",
       "run_id period                           \n",
       "1      2                      0.000000  \n",
       "       4                     -0.074133  \n",
       "       6                     -0.133531  \n",
       "       8                      0.083355  \n",
       "       10                     0.083355  "
      ]
     },
     "execution_count": 501,
     "metadata": {},
     "output_type": "execute_result"
    }
   ],
   "source": [
    "df_fe_p1 = df_fe_p1.to_pandas()\n",
    "df_fe_p1.set_index([\"run_id\", \"period\"], inplace=True)\n",
    "df_fe_p1.head()"
   ]
  },
  {
   "cell_type": "code",
   "execution_count": 502,
   "id": "400c5695",
   "metadata": {},
   "outputs": [
    {
     "name": "stdout",
     "output_type": "stream",
     "text": [
      "                          PanelOLS Estimation Summary                           \n",
      "================================================================================\n",
      "Dep. Variable:         price_log_diff   R-squared:                        0.1225\n",
      "Estimator:                   PanelOLS   R-squared (Between):              0.0937\n",
      "No. Observations:                3150   R-squared (Within):               0.1225\n",
      "Date:                Wed, Jul 02 2025   R-squared (Overall):              0.1223\n",
      "Time:                        16:50:50   Log-likelihood                    5957.3\n",
      "Cov. Estimator:                Robust                                           \n",
      "                                        F-statistic:                      218.31\n",
      "Entities:                          21   P-value                           0.0000\n",
      "Avg Obs:                       150.00   Distribution:                  F(2,3127)\n",
      "Min Obs:                       150.00                                           \n",
      "Max Obs:                       150.00   F-statistic (robust):             7.7787\n",
      "                                        P-value                           0.0004\n",
      "Time periods:                     150   Distribution:                  F(2,3127)\n",
      "Avg Obs:                       21.000                                           \n",
      "Min Obs:                       21.000                                           \n",
      "Max Obs:                       21.000                                           \n",
      "                                                                                \n",
      "                                    Parameter Estimates                                    \n",
      "===========================================================================================\n",
      "                         Parameter  Std. Err.     T-stat    P-value    Lower CI    Upper CI\n",
      "-------------------------------------------------------------------------------------------\n",
      "price_log_diff_lag_own     -0.1351     0.0987    -1.3693     0.1710     -0.3285      0.0583\n",
      "price_log_diff_lag_comp     0.4492     0.1184     3.7947     0.0002      0.2171      0.6813\n",
      "===========================================================================================\n",
      "\n",
      "F-test for Poolability: 1.4599\n",
      "P-value: 0.0849\n",
      "Distribution: F(20,3127)\n",
      "\n",
      "Included effects: Entity\n"
     ]
    }
   ],
   "source": [
    "# Run PanelOLS with entity effects (fixed effects)\n",
    "model = PanelOLS.from_formula(\n",
    "    \"price_log_diff ~ price_log_diff_lag_own + price_log_diff_lag_comp + EntityEffects\",\n",
    "    data=df_fe_p1,\n",
    ").fit(cov_type=\"robust\")\n",
    "print(model.summary)"
   ]
  },
  {
   "cell_type": "markdown",
   "id": "232cca0f",
   "metadata": {},
   "source": [
    "## P2vsP2"
   ]
  },
  {
   "cell_type": "code",
   "execution_count": 456,
   "id": "e9284568",
   "metadata": {},
   "outputs": [
    {
     "data": {
      "text/html": [
       "<div><style>\n",
       ".dataframe > thead > tr,\n",
       ".dataframe > tbody > tr {\n",
       "  text-align: right;\n",
       "  white-space: pre-wrap;\n",
       "}\n",
       "</style>\n",
       "<small>shape: (3_150, 6)</small><table border=\"1\" class=\"dataframe\"><thead><tr><th>run_id</th><th>period</th><th>prompt_prefix</th><th>price_diff</th><th>price_diff_lag_own</th><th>price_diff_lag_comp</th></tr><tr><td>u32</td><td>i64</td><td>str</td><td>f64</td><td>f64</td><td>f64</td></tr></thead><tbody><tr><td>2</td><td>2</td><td>&quot;P2&quot;</td><td>-1.897013</td><td>0.0</td><td>0.0</td></tr><tr><td>2</td><td>4</td><td>&quot;P2&quot;</td><td>0.223144</td><td>0.287682</td><td>0.510655</td></tr><tr><td>2</td><td>6</td><td>&quot;P2&quot;</td><td>0.117747</td><td>0.287682</td><td>0.182322</td></tr><tr><td>2</td><td>8</td><td>&quot;P2&quot;</td><td>0.117783</td><td>0.133531</td><td>0.105396</td></tr><tr><td>2</td><td>10</td><td>&quot;P2&quot;</td><td>-0.042546</td><td>0.086982</td><td>-0.057177</td></tr><tr><td>&hellip;</td><td>&hellip;</td><td>&hellip;</td><td>&hellip;</td><td>&hellip;</td><td>&hellip;</td></tr><tr><td>42</td><td>292</td><td>&quot;P2&quot;</td><td>0.0</td><td>0.0</td><td>-0.00031</td></tr><tr><td>42</td><td>294</td><td>&quot;P2&quot;</td><td>0.00031</td><td>0.0</td><td>0.0</td></tr><tr><td>42</td><td>296</td><td>&quot;P2&quot;</td><td>0.0</td><td>0.0</td><td>-0.00031</td></tr><tr><td>42</td><td>298</td><td>&quot;P2&quot;</td><td>0.00031</td><td>0.0</td><td>0.0</td></tr><tr><td>42</td><td>300</td><td>&quot;P2&quot;</td><td>0.0</td><td>0.0</td><td>-0.00031</td></tr></tbody></table></div>"
      ],
      "text/plain": [
       "shape: (3_150, 6)\n",
       "┌────────┬────────┬───────────────┬────────────┬────────────────────┬─────────────────────┐\n",
       "│ run_id ┆ period ┆ prompt_prefix ┆ price_diff ┆ price_diff_lag_own ┆ price_diff_lag_comp │\n",
       "│ ---    ┆ ---    ┆ ---           ┆ ---        ┆ ---                ┆ ---                 │\n",
       "│ u32    ┆ i64    ┆ str           ┆ f64        ┆ f64                ┆ f64                 │\n",
       "╞════════╪════════╪═══════════════╪════════════╪════════════════════╪═════════════════════╡\n",
       "│ 2      ┆ 2      ┆ P2            ┆ -1.897013  ┆ 0.0                ┆ 0.0                 │\n",
       "│ 2      ┆ 4      ┆ P2            ┆ 0.223144   ┆ 0.287682           ┆ 0.510655            │\n",
       "│ 2      ┆ 6      ┆ P2            ┆ 0.117747   ┆ 0.287682           ┆ 0.182322            │\n",
       "│ 2      ┆ 8      ┆ P2            ┆ 0.117783   ┆ 0.133531           ┆ 0.105396            │\n",
       "│ 2      ┆ 10     ┆ P2            ┆ -0.042546  ┆ 0.086982           ┆ -0.057177           │\n",
       "│ …      ┆ …      ┆ …             ┆ …          ┆ …                  ┆ …                   │\n",
       "│ 42     ┆ 292    ┆ P2            ┆ 0.0        ┆ 0.0                ┆ -0.00031            │\n",
       "│ 42     ┆ 294    ┆ P2            ┆ 0.00031    ┆ 0.0                ┆ 0.0                 │\n",
       "│ 42     ┆ 296    ┆ P2            ┆ 0.0        ┆ 0.0                ┆ -0.00031            │\n",
       "│ 42     ┆ 298    ┆ P2            ┆ 0.00031    ┆ 0.0                ┆ 0.0                 │\n",
       "│ 42     ┆ 300    ┆ P2            ┆ 0.0        ┆ 0.0                ┆ -0.00031            │\n",
       "└────────┴────────┴───────────────┴────────────┴────────────────────┴─────────────────────┘"
      ]
     },
     "execution_count": 456,
     "metadata": {},
     "output_type": "execute_result"
    }
   ],
   "source": [
    "df_fe_p2 = df_fe.filter(pl.col(\"prompt_prefix\") == \"P2\").sort([\"run_id\", \"period\"])\n",
    "df_fe_p2"
   ]
  },
  {
   "cell_type": "code",
   "execution_count": 457,
   "id": "b586ef26",
   "metadata": {},
   "outputs": [
    {
     "data": {
      "application/vnd.microsoft.datawrangler.viewer.v0+json": {
       "columns": [
        {
         "name": "('run_id', 'period')",
         "rawType": "object",
         "type": "unknown"
        },
        {
         "name": "prompt_prefix",
         "rawType": "object",
         "type": "string"
        },
        {
         "name": "price_diff",
         "rawType": "float64",
         "type": "float"
        },
        {
         "name": "price_diff_lag_own",
         "rawType": "float64",
         "type": "float"
        },
        {
         "name": "price_diff_lag_comp",
         "rawType": "float64",
         "type": "float"
        }
       ],
       "ref": "0e8c98b2-f823-401c-bed5-5bf5c9c0d03e",
       "rows": [
        [
         "(np.uint32(2), np.int64(2))",
         "P2",
         "-1.8970133239076992",
         "0.0",
         "0.0"
        ],
        [
         "(np.uint32(2), np.int64(4))",
         "P2",
         "0.22314355131420976",
         "0.28768207245178096",
         "0.510654960739721"
        ],
        [
         "(np.uint32(2), np.int64(6))",
         "P2",
         "0.11774747946871406",
         "0.28768207245178096",
         "0.18232155679395456"
        ],
        [
         "(np.uint32(2), np.int64(8))",
         "P2",
         "0.11778303565638337",
         "0.13353139262452263",
         "0.10539607184549571"
        ],
        [
         "(np.uint32(2), np.int64(10))",
         "P2",
         "-0.042545701472103126",
         "0.08698228650367101",
         "-0.05717723754652515"
        ]
       ],
       "shape": {
        "columns": 4,
        "rows": 5
       }
      },
      "text/html": [
       "<div>\n",
       "<style scoped>\n",
       "    .dataframe tbody tr th:only-of-type {\n",
       "        vertical-align: middle;\n",
       "    }\n",
       "\n",
       "    .dataframe tbody tr th {\n",
       "        vertical-align: top;\n",
       "    }\n",
       "\n",
       "    .dataframe thead th {\n",
       "        text-align: right;\n",
       "    }\n",
       "</style>\n",
       "<table border=\"1\" class=\"dataframe\">\n",
       "  <thead>\n",
       "    <tr style=\"text-align: right;\">\n",
       "      <th></th>\n",
       "      <th></th>\n",
       "      <th>prompt_prefix</th>\n",
       "      <th>price_diff</th>\n",
       "      <th>price_diff_lag_own</th>\n",
       "      <th>price_diff_lag_comp</th>\n",
       "    </tr>\n",
       "    <tr>\n",
       "      <th>run_id</th>\n",
       "      <th>period</th>\n",
       "      <th></th>\n",
       "      <th></th>\n",
       "      <th></th>\n",
       "      <th></th>\n",
       "    </tr>\n",
       "  </thead>\n",
       "  <tbody>\n",
       "    <tr>\n",
       "      <th rowspan=\"5\" valign=\"top\">2</th>\n",
       "      <th>2</th>\n",
       "      <td>P2</td>\n",
       "      <td>-1.897013</td>\n",
       "      <td>0.000000</td>\n",
       "      <td>0.000000</td>\n",
       "    </tr>\n",
       "    <tr>\n",
       "      <th>4</th>\n",
       "      <td>P2</td>\n",
       "      <td>0.223144</td>\n",
       "      <td>0.287682</td>\n",
       "      <td>0.510655</td>\n",
       "    </tr>\n",
       "    <tr>\n",
       "      <th>6</th>\n",
       "      <td>P2</td>\n",
       "      <td>0.117747</td>\n",
       "      <td>0.287682</td>\n",
       "      <td>0.182322</td>\n",
       "    </tr>\n",
       "    <tr>\n",
       "      <th>8</th>\n",
       "      <td>P2</td>\n",
       "      <td>0.117783</td>\n",
       "      <td>0.133531</td>\n",
       "      <td>0.105396</td>\n",
       "    </tr>\n",
       "    <tr>\n",
       "      <th>10</th>\n",
       "      <td>P2</td>\n",
       "      <td>-0.042546</td>\n",
       "      <td>0.086982</td>\n",
       "      <td>-0.057177</td>\n",
       "    </tr>\n",
       "  </tbody>\n",
       "</table>\n",
       "</div>"
      ],
      "text/plain": [
       "              prompt_prefix  price_diff  price_diff_lag_own  \\\n",
       "run_id period                                                 \n",
       "2      2                 P2   -1.897013            0.000000   \n",
       "       4                 P2    0.223144            0.287682   \n",
       "       6                 P2    0.117747            0.287682   \n",
       "       8                 P2    0.117783            0.133531   \n",
       "       10                P2   -0.042546            0.086982   \n",
       "\n",
       "               price_diff_lag_comp  \n",
       "run_id period                       \n",
       "2      2                  0.000000  \n",
       "       4                  0.510655  \n",
       "       6                  0.182322  \n",
       "       8                  0.105396  \n",
       "       10                -0.057177  "
      ]
     },
     "execution_count": 457,
     "metadata": {},
     "output_type": "execute_result"
    }
   ],
   "source": [
    "df_fe_p2 = df_fe_p2.to_pandas()\n",
    "df_fe_p2.set_index([\"run_id\", \"period\"], inplace=True)\n",
    "df_fe_p2.head()"
   ]
  },
  {
   "cell_type": "code",
   "execution_count": 458,
   "id": "f8f7bbeb",
   "metadata": {},
   "outputs": [
    {
     "name": "stdout",
     "output_type": "stream",
     "text": [
      "                          PanelOLS Estimation Summary                           \n",
      "================================================================================\n",
      "Dep. Variable:             price_diff   R-squared:                        0.0169\n",
      "Estimator:                   PanelOLS   R-squared (Between):              0.0199\n",
      "No. Observations:                2850   R-squared (Within):               0.0169\n",
      "Date:                Wed, Jul 02 2025   R-squared (Overall):              0.0169\n",
      "Time:                        16:46:51   Log-likelihood                    3320.1\n",
      "Cov. Estimator:                Robust                                           \n",
      "                                        F-statistic:                      24.314\n",
      "Entities:                          19   P-value                           0.0000\n",
      "Avg Obs:                       150.00   Distribution:                  F(2,2829)\n",
      "Min Obs:                       150.00                                           \n",
      "Max Obs:                       150.00   F-statistic (robust):             5.7221\n",
      "                                        P-value                           0.0033\n",
      "Time periods:                     150   Distribution:                  F(2,2829)\n",
      "Avg Obs:                       19.000                                           \n",
      "Min Obs:                       19.000                                           \n",
      "Max Obs:                       19.000                                           \n",
      "                                                                                \n",
      "                                  Parameter Estimates                                  \n",
      "=======================================================================================\n",
      "                     Parameter  Std. Err.     T-stat    P-value    Lower CI    Upper CI\n",
      "---------------------------------------------------------------------------------------\n",
      "price_diff_lag_own     -0.1601     0.1326    -1.2079     0.2272     -0.4201      0.0998\n",
      "price_diff_lag_comp     0.2213     0.0750     2.9500     0.0032      0.0742      0.3684\n",
      "=======================================================================================\n",
      "\n",
      "F-test for Poolability: 1.0501\n",
      "P-value: 0.3985\n",
      "Distribution: F(18,2829)\n",
      "\n",
      "Included effects: Entity\n"
     ]
    },
    {
     "name": "stderr",
     "output_type": "stream",
     "text": [
      "/Users/jr/Library/CloudStorage/GoogleDrive-julian.romero@bse.eu/My Drive/03_term/master_thesis/algorithmic_pricing_llms/.venv/lib/python3.11/site-packages/linearmodels/panel/model.py:1260: MissingValueWarning: \n",
      "Inputs contain missing values. Dropping rows with missing observations.\n",
      "  super().__init__(dependent, exog, weights=weights, check_rank=check_rank)\n"
     ]
    }
   ],
   "source": [
    "# Run PanelOLS with entity effects (fixed effects)\n",
    "model = PanelOLS.from_formula(\n",
    "    \"price_diff ~ price_diff_lag_own + price_diff_lag_comp + EntityEffects\",\n",
    "    data=df_fe_p2,\n",
    ").fit(cov_type=\"robust\")\n",
    "print(model.summary)"
   ]
  }
 ],
 "metadata": {
  "kernelspec": {
   "display_name": "algorithmic-pricing-llms",
   "language": "python",
   "name": "python3"
  },
  "language_info": {
   "codemirror_mode": {
    "name": "ipython",
    "version": 3
   },
   "file_extension": ".py",
   "mimetype": "text/x-python",
   "name": "python",
   "nbconvert_exporter": "python",
   "pygments_lexer": "ipython3",
   "version": "3.11.6"
  }
 },
 "nbformat": 4,
 "nbformat_minor": 5
}
