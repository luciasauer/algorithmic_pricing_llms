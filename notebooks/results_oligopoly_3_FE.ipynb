{
 "cells": [
  {
   "cell_type": "code",
   "execution_count": 141,
   "id": "2702efc9",
   "metadata": {},
   "outputs": [],
   "source": [
    "import os\n",
    "import sys\n",
    "\n",
    "sys.path.append(os.path.abspath(\"..\"))\n",
    "\n",
    "import pandas as pd\n",
    "import polars as pl\n",
    "from pathlib import Path\n",
    "\n",
    "from linearmodels.panel import PanelOLS\n",
    "from statsmodels.tsa.stattools import adfuller\n",
    "\n",
    "OUPUT_PATH = Path(\"../latex/imgs/res/\")\n",
    "OUPUT_PATH.mkdir(parents=True, exist_ok=True)\n",
    "OUPUT_TABLES_PATH = Path(\"../latex/tables/\")\n",
    "OUPUT_TABLES_PATH.mkdir(parents=True, exist_ok=True)\n",
    "DATA_OUTPUT_PATH = Path(\"../data/results/\")\n",
    "DATA_OUTPUT_PATH.mkdir(parents=True, exist_ok=True)\n",
    "\n",
    "DUOPOLY_OUPUT_PATH = Path(OUPUT_PATH) / \"duopoly\"\n",
    "DUOPOLY_OUPUT_PATH.mkdir(parents=True, exist_ok=True)"
   ]
  },
  {
   "cell_type": "code",
   "execution_count": 142,
   "id": "98010813",
   "metadata": {},
   "outputs": [
    {
     "data": {
      "text/html": [
       "<div><style>\n",
       ".dataframe > thead > tr,\n",
       ".dataframe > tbody > tr {\n",
       "  text-align: right;\n",
       "  white-space: pre-wrap;\n",
       "}\n",
       "</style>\n",
       "<small>shape: (37_800, 6)</small><table border=\"1\" class=\"dataframe\"><thead><tr><th>run_firm_id</th><th>run_id</th><th>firm_id</th><th>period</th><th>price</th><th>prompt_prefix</th></tr><tr><td>str</td><td>u32</td><td>u32</td><td>i64</td><td>f64</td><td>str</td></tr></thead><tbody><tr><td>&quot;1_1&quot;</td><td>1</td><td>1</td><td>1</td><td>2.5</td><td>&quot;P1&quot;</td></tr><tr><td>&quot;1_1&quot;</td><td>1</td><td>1</td><td>2</td><td>1.5</td><td>&quot;P1&quot;</td></tr><tr><td>&quot;1_1&quot;</td><td>1</td><td>1</td><td>3</td><td>2.0</td><td>&quot;P1&quot;</td></tr><tr><td>&quot;1_1&quot;</td><td>1</td><td>1</td><td>4</td><td>1.75</td><td>&quot;P1&quot;</td></tr><tr><td>&quot;1_1&quot;</td><td>1</td><td>1</td><td>5</td><td>1.875</td><td>&quot;P1&quot;</td></tr><tr><td>&hellip;</td><td>&hellip;</td><td>&hellip;</td><td>&hellip;</td><td>&hellip;</td><td>&hellip;</td></tr><tr><td>&quot;42_3&quot;</td><td>42</td><td>3</td><td>296</td><td>1.3375</td><td>&quot;P2&quot;</td></tr><tr><td>&quot;42_3&quot;</td><td>42</td><td>3</td><td>297</td><td>1.3406</td><td>&quot;P2&quot;</td></tr><tr><td>&quot;42_3&quot;</td><td>42</td><td>3</td><td>298</td><td>1.3406</td><td>&quot;P2&quot;</td></tr><tr><td>&quot;42_3&quot;</td><td>42</td><td>3</td><td>299</td><td>1.3406</td><td>&quot;P2&quot;</td></tr><tr><td>&quot;42_3&quot;</td><td>42</td><td>3</td><td>300</td><td>1.3281</td><td>&quot;P2&quot;</td></tr></tbody></table></div>"
      ],
      "text/plain": [
       "shape: (37_800, 6)\n",
       "┌─────────────┬────────┬─────────┬────────┬────────┬───────────────┐\n",
       "│ run_firm_id ┆ run_id ┆ firm_id ┆ period ┆ price  ┆ prompt_prefix │\n",
       "│ ---         ┆ ---    ┆ ---     ┆ ---    ┆ ---    ┆ ---           │\n",
       "│ str         ┆ u32    ┆ u32     ┆ i64    ┆ f64    ┆ str           │\n",
       "╞═════════════╪════════╪═════════╪════════╪════════╪═══════════════╡\n",
       "│ 1_1         ┆ 1      ┆ 1       ┆ 1      ┆ 2.5    ┆ P1            │\n",
       "│ 1_1         ┆ 1      ┆ 1       ┆ 2      ┆ 1.5    ┆ P1            │\n",
       "│ 1_1         ┆ 1      ┆ 1       ┆ 3      ┆ 2.0    ┆ P1            │\n",
       "│ 1_1         ┆ 1      ┆ 1       ┆ 4      ┆ 1.75   ┆ P1            │\n",
       "│ 1_1         ┆ 1      ┆ 1       ┆ 5      ┆ 1.875  ┆ P1            │\n",
       "│ …           ┆ …      ┆ …       ┆ …      ┆ …      ┆ …             │\n",
       "│ 42_3        ┆ 42     ┆ 3       ┆ 296    ┆ 1.3375 ┆ P2            │\n",
       "│ 42_3        ┆ 42     ┆ 3       ┆ 297    ┆ 1.3406 ┆ P2            │\n",
       "│ 42_3        ┆ 42     ┆ 3       ┆ 298    ┆ 1.3406 ┆ P2            │\n",
       "│ 42_3        ┆ 42     ┆ 3       ┆ 299    ┆ 1.3406 ┆ P2            │\n",
       "│ 42_3        ┆ 42     ┆ 3       ┆ 300    ┆ 1.3281 ┆ P2            │\n",
       "└─────────────┴────────┴─────────┴────────┴────────┴───────────────┘"
      ]
     },
     "execution_count": 142,
     "metadata": {},
     "output_type": "execute_result"
    }
   ],
   "source": [
    "df = (\n",
    "    pl.read_parquet(DATA_OUTPUT_PATH / \"all_experiments.parquet\")\n",
    "    .filter((pl.col(\"num_agents\") == 3) & (pl.col(\"is_symmetric\")))\n",
    "    .with_columns(\n",
    "        (pl.col(\"experiment_timestamp\").rank(\"dense\")).alias(\"run_id\"),\n",
    "        (pl.col(\"agent\").rank(\"dense\")).alias(\"firm_id\"),\n",
    "        pl.col(\"chosen_price\").truediv(pl.col(\"alpha\")).round(4).alias(\"price\"),\n",
    "    )\n",
    "    .rename(\n",
    "        {\n",
    "            \"round\": \"period\",\n",
    "            \"price\": \"price\",\n",
    "            \"agent_prefix_type\": \"prompt_prefix\",\n",
    "        }\n",
    "    )\n",
    "    .with_columns(\n",
    "        # concat run_id and firm_id to create a unique identifier\n",
    "        pl.concat_str([\"run_id\", \"firm_id\"], separator=\"_\").alias(\"run_firm_id\")\n",
    "    )\n",
    "    .select([\"run_firm_id\", \"run_id\", \"firm_id\", \"period\", \"price\", \"prompt_prefix\"])\n",
    "    .sort([\"run_id\", \"firm_id\", \"period\"])\n",
    ")\n",
    "df"
   ]
  },
  {
   "cell_type": "markdown",
   "id": "b5d5db3d",
   "metadata": {},
   "source": [
    "# Stationarity check\n",
    "---"
   ]
  },
  {
   "cell_type": "markdown",
   "id": "5b862620",
   "metadata": {},
   "source": [
    "- https://www.statsmodels.org/stable/generated/statsmodels.tsa.stattools.adfuller.html\n",
    "\n",
    "The null hypothesis of the Augmented Dickey-Fuller is that there is a unit root, with the alternative that there is no unit root. If the pvalue is above a critical size, then we cannot reject that there is a unit root.\n",
    "\n",
    "The p-values are obtained through regression surface approximation from MacKinnon 1994, but using the updated 2010 tables. If the p-value is close to significant, then the critical values should be used to judge whether to reject the null.\n",
    "\n",
    "The autolag option and maxlag for it are described in Greene."
   ]
  },
  {
   "cell_type": "code",
   "execution_count": 143,
   "id": "dc657e25",
   "metadata": {},
   "outputs": [
    {
     "name": "stdout",
     "output_type": "stream",
     "text": [
      "Summary of ADF Test Results by run_firm_id:\n",
      "            run_firm_id\n",
      "stationary             \n",
      "False                56\n",
      "True                 70\n",
      "\n",
      "Detailed Results:\n",
      "    run_firm_id  test_statistic       p_value  stationary\n",
      "0           3_1       -5.800484  4.643514e-07        True\n",
      "1           5_3       -2.643841  8.427043e-02       False\n",
      "2          22_1      -43.779876  0.000000e+00        True\n",
      "3          21_3       -2.594750  9.408726e-02       False\n",
      "4           6_1       -0.489362  8.940757e-01       False\n",
      "..          ...             ...           ...         ...\n",
      "121        27_1       -5.381684  3.700517e-06        True\n",
      "122        29_2      -10.655906  4.535192e-19        True\n",
      "123        27_3        0.178158  9.710096e-01       False\n",
      "124        24_2       -5.941627  2.253832e-07        True\n",
      "125        27_2       -8.143245  1.014808e-12        True\n",
      "\n",
      "[126 rows x 4 columns]\n",
      "\n",
      "Number of stationary series: 70\n",
      "Number of non-stationary series: 56\n"
     ]
    }
   ],
   "source": [
    "# Initialize counters\n",
    "stationary_count = 0\n",
    "non_stationary_count = 0\n",
    "\n",
    "# Initialize a list to collect results\n",
    "results = []\n",
    "\n",
    "# Iterate through each firm ID\n",
    "for firm_id in df[\"run_firm_id\"].unique():\n",
    "    # Filter series for the current firm_id\n",
    "    series = (\n",
    "        df.filter(pl.col(\"run_firm_id\") == firm_id)\n",
    "        .select(\"price\")\n",
    "        .to_series()\n",
    "        .to_list()\n",
    "    )\n",
    "\n",
    "    # Run ADF test\n",
    "    result = adfuller(series, maxlag=22)\n",
    "\n",
    "    # Interpret the result\n",
    "    test_statistic = result[0]\n",
    "    p_value = result[1]\n",
    "\n",
    "    # Determine stationarity\n",
    "    if p_value < 0.05:\n",
    "        stationary = True\n",
    "        stationary_count += 1\n",
    "    else:\n",
    "        stationary = False\n",
    "        non_stationary_count += 1\n",
    "\n",
    "    # Append result to list\n",
    "    results.append(\n",
    "        {\n",
    "            \"run_firm_id\": firm_id,\n",
    "            \"test_statistic\": test_statistic,\n",
    "            \"p_value\": p_value,\n",
    "            \"stationary\": stationary,\n",
    "        }\n",
    "    )\n",
    "\n",
    "# Create a DataFrame from results\n",
    "results_df = pd.DataFrame(results)\n",
    "\n",
    "# Print summary table\n",
    "print(\"Summary of ADF Test Results by run_firm_id:\")\n",
    "print(results_df[[\"run_firm_id\", \"stationary\"]].groupby(\"stationary\").count())\n",
    "\n",
    "# Optionally, print additional details\n",
    "print(\"\\nDetailed Results:\")\n",
    "print(results_df)\n",
    "\n",
    "# Optionally, you can also print counts\n",
    "print(f\"\\nNumber of stationary series: {stationary_count}\")\n",
    "print(f\"Number of non-stationary series: {non_stationary_count}\")"
   ]
  },
  {
   "cell_type": "code",
   "execution_count": 144,
   "id": "cee6a717",
   "metadata": {},
   "outputs": [
    {
     "name": "stdout",
     "output_type": "stream",
     "text": [
      "Summary of ADF Test Results by run_firm_id:\n",
      "            run_firm_id\n",
      "stationary             \n",
      "False                 5\n",
      "True                121\n",
      "\n",
      "Detailed Results:\n",
      "    run_firm_id  test_statistic       p_value  stationary\n",
      "0           6_2      -24.879145  0.000000e+00        True\n",
      "1          21_1      -16.082950  5.353922e-29        True\n",
      "2          18_3      -12.253149  9.439998e-23        True\n",
      "3           7_3      -11.846522  7.377267e-22        True\n",
      "4          37_1       -7.316531  1.225149e-10        True\n",
      "..          ...             ...           ...         ...\n",
      "121        35_3      -11.851804  7.179251e-22        True\n",
      "122         9_3       -3.584681  6.060737e-03        True\n",
      "123        42_2      -85.942115  0.000000e+00        True\n",
      "124        26_3      -21.846469  0.000000e+00        True\n",
      "125        14_2      -11.642048  2.135344e-21        True\n",
      "\n",
      "[126 rows x 4 columns]\n",
      "\n",
      "Number of stationary series: 121\n",
      "Number of non-stationary series: 5\n"
     ]
    }
   ],
   "source": [
    "# Initialize counters\n",
    "stationary_count = 0\n",
    "non_stationary_count = 0\n",
    "\n",
    "# Initialize a list to collect results\n",
    "results = []\n",
    "\n",
    "# Iterate through each firm ID\n",
    "for firm_id in df[\"run_firm_id\"].unique():\n",
    "    # Filter series for the current firm_id\n",
    "    series = (\n",
    "        df.filter(pl.col(\"run_firm_id\") == firm_id)\n",
    "        .with_columns(\n",
    "            #   pl.col(\"price\").diff(1).fill_null(0).alias(\"price_diff\")\n",
    "            (pl.col(\"price\").log())\n",
    "            .diff(1)\n",
    "            .fill_null(0)\n",
    "            .alias(\"price_diff\")  # NOTE! This uses log differences\n",
    "        )\n",
    "        .select(\"price_diff\")\n",
    "        .to_series()\n",
    "        .to_list()\n",
    "    )\n",
    "\n",
    "    # Run ADF test\n",
    "    result = adfuller(series, maxlag=22)\n",
    "\n",
    "    # Interpret the result\n",
    "    test_statistic = result[0]\n",
    "    p_value = result[1]\n",
    "\n",
    "    # Determine stationarity\n",
    "    if p_value < 0.05:\n",
    "        stationary = True\n",
    "        stationary_count += 1\n",
    "    else:\n",
    "        stationary = False\n",
    "        non_stationary_count += 1\n",
    "\n",
    "    # Append result to list\n",
    "    results.append(\n",
    "        {\n",
    "            \"run_firm_id\": firm_id,\n",
    "            \"test_statistic\": test_statistic,\n",
    "            \"p_value\": p_value,\n",
    "            \"stationary\": stationary,\n",
    "        }\n",
    "    )\n",
    "\n",
    "# Create a DataFrame from results\n",
    "results_df = pd.DataFrame(results)\n",
    "\n",
    "# Print summary table\n",
    "print(\"Summary of ADF Test Results by run_firm_id:\")\n",
    "print(results_df[[\"run_firm_id\", \"stationary\"]].groupby(\"stationary\").count())\n",
    "\n",
    "# Optionally, print additional details\n",
    "print(\"\\nDetailed Results:\")\n",
    "print(results_df)\n",
    "\n",
    "# Optionally, you can also print counts\n",
    "print(f\"\\nNumber of stationary series: {stationary_count}\")\n",
    "print(f\"Number of non-stationary series: {non_stationary_count}\")"
   ]
  },
  {
   "cell_type": "markdown",
   "id": "d6d0e61a",
   "metadata": {},
   "source": [
    "We need to work with price differences."
   ]
  },
  {
   "cell_type": "code",
   "execution_count": 145,
   "id": "c008a28c",
   "metadata": {},
   "outputs": [
    {
     "data": {
      "text/html": [
       "<div><style>\n",
       ".dataframe > thead > tr,\n",
       ".dataframe > tbody > tr {\n",
       "  text-align: right;\n",
       "  white-space: pre-wrap;\n",
       "}\n",
       "</style>\n",
       "<small>shape: (5, 7)</small><table border=\"1\" class=\"dataframe\"><thead><tr><th>run_firm_id</th><th>run_id</th><th>firm_id</th><th>period</th><th>price</th><th>prompt_prefix</th><th>price_log_diff</th></tr><tr><td>str</td><td>u32</td><td>u32</td><td>i64</td><td>f64</td><td>str</td><td>f64</td></tr></thead><tbody><tr><td>&quot;1_1&quot;</td><td>1</td><td>1</td><td>1</td><td>2.5</td><td>&quot;P1&quot;</td><td>0.0</td></tr><tr><td>&quot;1_1&quot;</td><td>1</td><td>1</td><td>2</td><td>1.5</td><td>&quot;P1&quot;</td><td>-0.510826</td></tr><tr><td>&quot;1_1&quot;</td><td>1</td><td>1</td><td>3</td><td>2.0</td><td>&quot;P1&quot;</td><td>0.287682</td></tr><tr><td>&quot;1_1&quot;</td><td>1</td><td>1</td><td>4</td><td>1.75</td><td>&quot;P1&quot;</td><td>-0.133531</td></tr><tr><td>&quot;1_1&quot;</td><td>1</td><td>1</td><td>5</td><td>1.875</td><td>&quot;P1&quot;</td><td>0.068993</td></tr></tbody></table></div>"
      ],
      "text/plain": [
       "shape: (5, 7)\n",
       "┌─────────────┬────────┬─────────┬────────┬───────┬───────────────┬────────────────┐\n",
       "│ run_firm_id ┆ run_id ┆ firm_id ┆ period ┆ price ┆ prompt_prefix ┆ price_log_diff │\n",
       "│ ---         ┆ ---    ┆ ---     ┆ ---    ┆ ---   ┆ ---           ┆ ---            │\n",
       "│ str         ┆ u32    ┆ u32     ┆ i64    ┆ f64   ┆ str           ┆ f64            │\n",
       "╞═════════════╪════════╪═════════╪════════╪═══════╪═══════════════╪════════════════╡\n",
       "│ 1_1         ┆ 1      ┆ 1       ┆ 1      ┆ 2.5   ┆ P1            ┆ 0.0            │\n",
       "│ 1_1         ┆ 1      ┆ 1       ┆ 2      ┆ 1.5   ┆ P1            ┆ -0.510826      │\n",
       "│ 1_1         ┆ 1      ┆ 1       ┆ 3      ┆ 2.0   ┆ P1            ┆ 0.287682       │\n",
       "│ 1_1         ┆ 1      ┆ 1       ┆ 4      ┆ 1.75  ┆ P1            ┆ -0.133531      │\n",
       "│ 1_1         ┆ 1      ┆ 1       ┆ 5      ┆ 1.875 ┆ P1            ┆ 0.068993       │\n",
       "└─────────────┴────────┴─────────┴────────┴───────┴───────────────┴────────────────┘"
      ]
     },
     "execution_count": 145,
     "metadata": {},
     "output_type": "execute_result"
    }
   ],
   "source": [
    "df = df.with_columns(\n",
    "    (pl.col(\"price\").log())\n",
    "    .diff(1)\n",
    "    .over(\"run_firm_id\")\n",
    "    .fill_null(0)\n",
    "    .alias(\"price_log_diff\")  # NOTE! This uses log differences\n",
    ")\n",
    "df.head()"
   ]
  },
  {
   "cell_type": "markdown",
   "id": "0c14d60d",
   "metadata": {},
   "source": [
    "# Fixed effects regression (trigger strategy)\n",
    "---"
   ]
  },
  {
   "cell_type": "markdown",
   "id": "67aec21f",
   "metadata": {},
   "source": [
    "We are interested in the responsiveness of agents to each other since it is a feature of a reward-punishment strategy. We are interested in stickiness since it measures the persistence of such rewards and punishments.\n",
    "\n",
    "To measure responsiveness and stickiness, we perform a linear regression with the following model:\n",
    "$$p_{i,r}^t = \\alpha_{i,r} + \\gamma p_{i,r}^{t-1} + \\delta p_{-i,r}^{t-1}+\\epsilon_{i,r}^{t}$$\n",
    "\n",
    "$$\\Delta \\log(p_{i,r}^t) =   \\gamma \\Delta \\log(p_{i,r}^{t-1}) + \\delta \\Delta \\log(p_{-i,r}^{t-1})+ \\Delta \\epsilon_{i,r}^{t}$$\n",
    "\n",
    "\n",
    "where $p_{i,r}^t$ is the price set by the agent $i$ at period $t$ of run $r$ of the experiment, $p_{i,r}^t$ is the price set by competitors at period $t$ of run $r$ and nd $α_{i,r}$ is a firm-run fixed effect."
   ]
  },
  {
   "cell_type": "code",
   "execution_count": 146,
   "id": "96e0bc9e",
   "metadata": {},
   "outputs": [
    {
     "data": {
      "text/html": [
       "<div><style>\n",
       ".dataframe > thead > tr,\n",
       ".dataframe > tbody > tr {\n",
       "  text-align: right;\n",
       "  white-space: pre-wrap;\n",
       "}\n",
       "</style>\n",
       "<small>shape: (37_800, 7)</small><table border=\"1\" class=\"dataframe\"><thead><tr><th>run_firm_id</th><th>run_id</th><th>firm_id</th><th>period</th><th>price</th><th>prompt_prefix</th><th>price_log_diff</th></tr><tr><td>str</td><td>u32</td><td>u32</td><td>i64</td><td>f64</td><td>str</td><td>f64</td></tr></thead><tbody><tr><td>&quot;1_1&quot;</td><td>1</td><td>1</td><td>1</td><td>2.5</td><td>&quot;P1&quot;</td><td>0.0</td></tr><tr><td>&quot;1_1&quot;</td><td>1</td><td>1</td><td>2</td><td>1.5</td><td>&quot;P1&quot;</td><td>-0.510826</td></tr><tr><td>&quot;1_1&quot;</td><td>1</td><td>1</td><td>3</td><td>2.0</td><td>&quot;P1&quot;</td><td>0.287682</td></tr><tr><td>&quot;1_1&quot;</td><td>1</td><td>1</td><td>4</td><td>1.75</td><td>&quot;P1&quot;</td><td>-0.133531</td></tr><tr><td>&quot;1_1&quot;</td><td>1</td><td>1</td><td>5</td><td>1.875</td><td>&quot;P1&quot;</td><td>0.068993</td></tr><tr><td>&hellip;</td><td>&hellip;</td><td>&hellip;</td><td>&hellip;</td><td>&hellip;</td><td>&hellip;</td><td>&hellip;</td></tr><tr><td>&quot;42_3&quot;</td><td>42</td><td>3</td><td>296</td><td>1.3375</td><td>&quot;P2&quot;</td><td>-0.002315</td></tr><tr><td>&quot;42_3&quot;</td><td>42</td><td>3</td><td>297</td><td>1.3406</td><td>&quot;P2&quot;</td><td>0.002315</td></tr><tr><td>&quot;42_3&quot;</td><td>42</td><td>3</td><td>298</td><td>1.3406</td><td>&quot;P2&quot;</td><td>0.0</td></tr><tr><td>&quot;42_3&quot;</td><td>42</td><td>3</td><td>299</td><td>1.3406</td><td>&quot;P2&quot;</td><td>0.0</td></tr><tr><td>&quot;42_3&quot;</td><td>42</td><td>3</td><td>300</td><td>1.3281</td><td>&quot;P2&quot;</td><td>-0.009368</td></tr></tbody></table></div>"
      ],
      "text/plain": [
       "shape: (37_800, 7)\n",
       "┌─────────────┬────────┬─────────┬────────┬────────┬───────────────┬────────────────┐\n",
       "│ run_firm_id ┆ run_id ┆ firm_id ┆ period ┆ price  ┆ prompt_prefix ┆ price_log_diff │\n",
       "│ ---         ┆ ---    ┆ ---     ┆ ---    ┆ ---    ┆ ---           ┆ ---            │\n",
       "│ str         ┆ u32    ┆ u32     ┆ i64    ┆ f64    ┆ str           ┆ f64            │\n",
       "╞═════════════╪════════╪═════════╪════════╪════════╪═══════════════╪════════════════╡\n",
       "│ 1_1         ┆ 1      ┆ 1       ┆ 1      ┆ 2.5    ┆ P1            ┆ 0.0            │\n",
       "│ 1_1         ┆ 1      ┆ 1       ┆ 2      ┆ 1.5    ┆ P1            ┆ -0.510826      │\n",
       "│ 1_1         ┆ 1      ┆ 1       ┆ 3      ┆ 2.0    ┆ P1            ┆ 0.287682       │\n",
       "│ 1_1         ┆ 1      ┆ 1       ┆ 4      ┆ 1.75   ┆ P1            ┆ -0.133531      │\n",
       "│ 1_1         ┆ 1      ┆ 1       ┆ 5      ┆ 1.875  ┆ P1            ┆ 0.068993       │\n",
       "│ …           ┆ …      ┆ …       ┆ …      ┆ …      ┆ …             ┆ …              │\n",
       "│ 42_3        ┆ 42     ┆ 3       ┆ 296    ┆ 1.3375 ┆ P2            ┆ -0.002315      │\n",
       "│ 42_3        ┆ 42     ┆ 3       ┆ 297    ┆ 1.3406 ┆ P2            ┆ 0.002315       │\n",
       "│ 42_3        ┆ 42     ┆ 3       ┆ 298    ┆ 1.3406 ┆ P2            ┆ 0.0            │\n",
       "│ 42_3        ┆ 42     ┆ 3       ┆ 299    ┆ 1.3406 ┆ P2            ┆ 0.0            │\n",
       "│ 42_3        ┆ 42     ┆ 3       ┆ 300    ┆ 1.3281 ┆ P2            ┆ -0.009368      │\n",
       "└─────────────┴────────┴─────────┴────────┴────────┴───────────────┴────────────────┘"
      ]
     },
     "execution_count": 146,
     "metadata": {},
     "output_type": "execute_result"
    }
   ],
   "source": [
    "df"
   ]
  },
  {
   "cell_type": "code",
   "execution_count": 147,
   "id": "a495cb0f",
   "metadata": {},
   "outputs": [
    {
     "data": {
      "text/html": [
       "<div><style>\n",
       ".dataframe > thead > tr,\n",
       ".dataframe > tbody > tr {\n",
       "  text-align: right;\n",
       "  white-space: pre-wrap;\n",
       "}\n",
       "</style>\n",
       "<small>shape: (6_300, 12)</small><table border=\"1\" class=\"dataframe\"><thead><tr><th>run_id</th><th>period</th><th>prompt_prefix</th><th>1_log_diff</th><th>2_log_diff</th><th>3_log_diff</th><th>1_log_diff_lag</th><th>2_log_diff_lag</th><th>3_log_diff_lag</th><th>price_log_diff</th><th>price_log_diff_lag_own</th><th>price_log_diff_lag_comp_avg</th></tr><tr><td>u32</td><td>i64</td><td>str</td><td>f64</td><td>f64</td><td>f64</td><td>f64</td><td>f64</td><td>f64</td><td>f64</td><td>f64</td><td>f64</td></tr></thead><tbody><tr><td>1</td><td>2</td><td>&quot;P1&quot;</td><td>-0.510826</td><td>-0.133531</td><td>0.693147</td><td>0.0</td><td>0.0</td><td>0.0</td><td>-0.133531</td><td>0.0</td><td>-0.003151</td></tr><tr><td>1</td><td>4</td><td>&quot;P1&quot;</td><td>-0.133531</td><td>-0.510826</td><td>0.287682</td><td>0.287682</td><td>-0.336472</td><td>0.405465</td><td>-0.133531</td><td>0.287682</td><td>-0.002669</td></tr><tr><td>1</td><td>6</td><td>&quot;P1&quot;</td><td>0.013245</td><td>0.111226</td><td>0.182322</td><td>0.068993</td><td>0.125163</td><td>0.223144</td><td>0.182322</td><td>0.223144</td><td>-0.002267</td></tr><tr><td>1</td><td>8</td><td>&quot;P1&quot;</td><td>-0.013245</td><td>0.027399</td><td>0.0</td><td>0.0</td><td>-0.054067</td><td>-0.567984</td><td>0.027399</td><td>-0.054067</td><td>-0.003151</td></tr><tr><td>1</td><td>10</td><td>&quot;P1&quot;</td><td>-0.041385</td><td>-0.014389</td><td>0.0</td><td>-0.013423</td><td>-0.05557</td><td>0.0</td><td>-0.041385</td><td>-0.013423</td><td>-0.002669</td></tr><tr><td>&hellip;</td><td>&hellip;</td><td>&hellip;</td><td>&hellip;</td><td>&hellip;</td><td>&hellip;</td><td>&hellip;</td><td>&hellip;</td><td>&hellip;</td><td>&hellip;</td><td>&hellip;</td><td>&hellip;</td></tr><tr><td>42</td><td>292</td><td>&quot;P2&quot;</td><td>0.0</td><td>0.002396</td><td>0.0</td><td>-0.009153</td><td>0.0</td><td>0.0</td><td>0.0</td><td>-0.009153</td><td>-0.002669</td></tr><tr><td>42</td><td>294</td><td>&quot;P2&quot;</td><td>0.0</td><td>0.0</td><td>0.00231</td><td>0.001103</td><td>-0.002396</td><td>-0.00231</td><td>0.00231</td><td>-0.00231</td><td>-0.002267</td></tr><tr><td>42</td><td>296</td><td>&quot;P2&quot;</td><td>0.0</td><td>0.0</td><td>-0.002315</td><td>0.0</td><td>0.0</td><td>-0.00231</td><td>0.0</td><td>0.0</td><td>-0.003151</td></tr><tr><td>42</td><td>298</td><td>&quot;P2&quot;</td><td>0.0</td><td>0.0</td><td>0.0</td><td>0.0</td><td>0.0</td><td>0.002315</td><td>0.0</td><td>0.0</td><td>-0.002669</td></tr><tr><td>42</td><td>300</td><td>&quot;P2&quot;</td><td>0.0</td><td>0.0</td><td>-0.009368</td><td>0.0</td><td>0.0</td><td>0.0</td><td>-0.009368</td><td>0.0</td><td>-0.002267</td></tr></tbody></table></div>"
      ],
      "text/plain": [
       "shape: (6_300, 12)\n",
       "┌────────┬────────┬────────────┬────────────┬───┬────────────┬────────────┬────────────┬───────────┐\n",
       "│ run_id ┆ period ┆ prompt_pre ┆ 1_log_diff ┆ … ┆ 3_log_diff ┆ price_log_ ┆ price_log_ ┆ price_log │\n",
       "│ ---    ┆ ---    ┆ fix        ┆ ---        ┆   ┆ _lag       ┆ diff       ┆ diff_lag_o ┆ _diff_lag │\n",
       "│ u32    ┆ i64    ┆ ---        ┆ f64        ┆   ┆ ---        ┆ ---        ┆ wn         ┆ _comp_avg │\n",
       "│        ┆        ┆ str        ┆            ┆   ┆ f64        ┆ f64        ┆ ---        ┆ ---       │\n",
       "│        ┆        ┆            ┆            ┆   ┆            ┆            ┆ f64        ┆ f64       │\n",
       "╞════════╪════════╪════════════╪════════════╪═══╪════════════╪════════════╪════════════╪═══════════╡\n",
       "│ 1      ┆ 2      ┆ P1         ┆ -0.510826  ┆ … ┆ 0.0        ┆ -0.133531  ┆ 0.0        ┆ -0.003151 │\n",
       "│ 1      ┆ 4      ┆ P1         ┆ -0.133531  ┆ … ┆ 0.405465   ┆ -0.133531  ┆ 0.287682   ┆ -0.002669 │\n",
       "│ 1      ┆ 6      ┆ P1         ┆ 0.013245   ┆ … ┆ 0.223144   ┆ 0.182322   ┆ 0.223144   ┆ -0.002267 │\n",
       "│ 1      ┆ 8      ┆ P1         ┆ -0.013245  ┆ … ┆ -0.567984  ┆ 0.027399   ┆ -0.054067  ┆ -0.003151 │\n",
       "│ 1      ┆ 10     ┆ P1         ┆ -0.041385  ┆ … ┆ 0.0        ┆ -0.041385  ┆ -0.013423  ┆ -0.002669 │\n",
       "│ …      ┆ …      ┆ …          ┆ …          ┆ … ┆ …          ┆ …          ┆ …          ┆ …         │\n",
       "│ 42     ┆ 292    ┆ P2         ┆ 0.0        ┆ … ┆ 0.0        ┆ 0.0        ┆ -0.009153  ┆ -0.002669 │\n",
       "│ 42     ┆ 294    ┆ P2         ┆ 0.0        ┆ … ┆ -0.00231   ┆ 0.00231    ┆ -0.00231   ┆ -0.002267 │\n",
       "│ 42     ┆ 296    ┆ P2         ┆ 0.0        ┆ … ┆ -0.00231   ┆ 0.0        ┆ 0.0        ┆ -0.003151 │\n",
       "│ 42     ┆ 298    ┆ P2         ┆ 0.0        ┆ … ┆ 0.002315   ┆ 0.0        ┆ 0.0        ┆ -0.002669 │\n",
       "│ 42     ┆ 300    ┆ P2         ┆ 0.0        ┆ … ┆ 0.0        ┆ -0.009368  ┆ 0.0        ┆ -0.002267 │\n",
       "└────────┴────────┴────────────┴────────────┴───┴────────────┴────────────┴────────────┴───────────┘"
      ]
     },
     "execution_count": 147,
     "metadata": {},
     "output_type": "execute_result"
    }
   ],
   "source": [
    "df_fe = (\n",
    "    df.pivot(\n",
    "        values=\"price_log_diff\",\n",
    "        index=[\"run_id\", \"period\", \"prompt_prefix\"],\n",
    "        on=\"firm_id\",\n",
    "    )\n",
    "    .rename(\n",
    "        {\n",
    "            \"1\": \"1_log_diff\",\n",
    "            \"2\": \"2_log_diff\",\n",
    "            \"3\": \"3_log_diff\",\n",
    "        }\n",
    "    )\n",
    "    .with_columns(\n",
    "        [\n",
    "            pl.col(\"1_log_diff\").shift(1).alias(\"1_log_diff_lag\"),\n",
    "            pl.col(\"2_log_diff\").shift(1).alias(\"2_log_diff_lag\"),\n",
    "            pl.col(\"3_log_diff\").shift(1).alias(\"3_log_diff_lag\"),\n",
    "        ]\n",
    "    )\n",
    "    # # Keep only disjoint periods\n",
    "    .filter(pl.col(\"period\") % 2 == 0)  # Adjust based on how you define disjointness\n",
    "    # Alternate firms: period % 3 == 1 → firm 1, period % 3 == 2 → firm 2, period % 3 == 0 → firm 3\n",
    "    .with_columns(\n",
    "        [\n",
    "            pl.when(pl.col(\"period\") % 3 == 1)\n",
    "            .then(pl.col(\"1_log_diff\"))\n",
    "            .when(pl.col(\"period\") % 3 == 2)\n",
    "            .then(pl.col(\"2_log_diff\"))\n",
    "            .otherwise(pl.col(\"3_log_diff\"))\n",
    "            .alias(\"price_log_diff\"),\n",
    "            pl.when(pl.col(\"period\") % 3 == 1)\n",
    "            .then(pl.col(\"1_log_diff_lag\"))\n",
    "            .when(pl.col(\"period\") % 3 == 2)\n",
    "            .then(pl.col(\"2_log_diff_lag\"))\n",
    "            .otherwise(pl.col(\"3_log_diff_lag\"))\n",
    "            .alias(\"price_log_diff_lag_own\"),\n",
    "            pl.when(pl.col(\"period\") % 3 == 1)\n",
    "            .then((pl.col(\"2_log_diff_lag\") + pl.col(\"3_log_diff_lag\")).mean())\n",
    "            .when(pl.col(\"period\") % 3 == 2)\n",
    "            .then((pl.col(\"1_log_diff_lag\") + pl.col(\"3_log_diff_lag\")).mean())\n",
    "            .otherwise((pl.col(\"1_log_diff_lag\") + pl.col(\"2_log_diff_lag\")).mean())\n",
    "            .alias(\"price_log_diff_lag_comp_avg\"),\n",
    "            # pl.when(pl.col(\"period\") % 3 == 1)\n",
    "            # .then(pl.col(\"2_log_diff_lag\"))\n",
    "            # .when(pl.col(\"period\") % 3 == 2)\n",
    "            # .then(pl.col(\"1_log_diff_lag\"))\n",
    "            # .otherwise(pl.col(\"1_log_diff_lag\"))\n",
    "            # .alias(\"price_log_diff_lag_comp_1\"),\n",
    "            # pl.when(pl.col(\"period\") % 3 == 1)\n",
    "            # .then(pl.col(\"3_log_diff_lag\"))\n",
    "            # .when(pl.col(\"period\") % 3 == 2)\n",
    "            # .then(pl.col(\"3_log_diff_lag\"))\n",
    "            # .otherwise(pl.col(\"2_log_diff_lag\"))\n",
    "            # .alias(\"price_log_diff_lag_comp_2\"),\n",
    "        ]\n",
    "    )\n",
    "    .sort([\"run_id\", \"period\", \"prompt_prefix\"])\n",
    ")\n",
    "\n",
    "df_fe"
   ]
  },
  {
   "cell_type": "code",
   "execution_count": 148,
   "id": "4f11d9aa",
   "metadata": {},
   "outputs": [
    {
     "data": {
      "text/html": [
       "<div><style>\n",
       ".dataframe > thead > tr,\n",
       ".dataframe > tbody > tr {\n",
       "  text-align: right;\n",
       "  white-space: pre-wrap;\n",
       "}\n",
       "</style>\n",
       "<small>shape: (6_300, 6)</small><table border=\"1\" class=\"dataframe\"><thead><tr><th>run_id</th><th>period</th><th>prompt_prefix</th><th>price_log_diff</th><th>price_log_diff_lag_own</th><th>price_log_diff_lag_comp_avg</th></tr><tr><td>u32</td><td>i64</td><td>str</td><td>f64</td><td>f64</td><td>f64</td></tr></thead><tbody><tr><td>1</td><td>2</td><td>&quot;P1&quot;</td><td>-0.133531</td><td>0.0</td><td>-0.003151</td></tr><tr><td>1</td><td>4</td><td>&quot;P1&quot;</td><td>-0.133531</td><td>0.287682</td><td>-0.002669</td></tr><tr><td>1</td><td>6</td><td>&quot;P1&quot;</td><td>0.182322</td><td>0.223144</td><td>-0.002267</td></tr><tr><td>1</td><td>8</td><td>&quot;P1&quot;</td><td>0.027399</td><td>-0.054067</td><td>-0.003151</td></tr><tr><td>1</td><td>10</td><td>&quot;P1&quot;</td><td>-0.041385</td><td>-0.013423</td><td>-0.002669</td></tr><tr><td>&hellip;</td><td>&hellip;</td><td>&hellip;</td><td>&hellip;</td><td>&hellip;</td><td>&hellip;</td></tr><tr><td>42</td><td>292</td><td>&quot;P2&quot;</td><td>0.0</td><td>-0.009153</td><td>-0.002669</td></tr><tr><td>42</td><td>294</td><td>&quot;P2&quot;</td><td>0.00231</td><td>-0.00231</td><td>-0.002267</td></tr><tr><td>42</td><td>296</td><td>&quot;P2&quot;</td><td>0.0</td><td>0.0</td><td>-0.003151</td></tr><tr><td>42</td><td>298</td><td>&quot;P2&quot;</td><td>0.0</td><td>0.0</td><td>-0.002669</td></tr><tr><td>42</td><td>300</td><td>&quot;P2&quot;</td><td>-0.009368</td><td>0.0</td><td>-0.002267</td></tr></tbody></table></div>"
      ],
      "text/plain": [
       "shape: (6_300, 6)\n",
       "┌────────┬────────┬───────────────┬────────────────┬───────────────────────┬───────────────────────┐\n",
       "│ run_id ┆ period ┆ prompt_prefix ┆ price_log_diff ┆ price_log_diff_lag_ow ┆ price_log_diff_lag_co │\n",
       "│ ---    ┆ ---    ┆ ---           ┆ ---            ┆ n                     ┆ mp_avg                │\n",
       "│ u32    ┆ i64    ┆ str           ┆ f64            ┆ ---                   ┆ ---                   │\n",
       "│        ┆        ┆               ┆                ┆ f64                   ┆ f64                   │\n",
       "╞════════╪════════╪═══════════════╪════════════════╪═══════════════════════╪═══════════════════════╡\n",
       "│ 1      ┆ 2      ┆ P1            ┆ -0.133531      ┆ 0.0                   ┆ -0.003151             │\n",
       "│ 1      ┆ 4      ┆ P1            ┆ -0.133531      ┆ 0.287682              ┆ -0.002669             │\n",
       "│ 1      ┆ 6      ┆ P1            ┆ 0.182322       ┆ 0.223144              ┆ -0.002267             │\n",
       "│ 1      ┆ 8      ┆ P1            ┆ 0.027399       ┆ -0.054067             ┆ -0.003151             │\n",
       "│ 1      ┆ 10     ┆ P1            ┆ -0.041385      ┆ -0.013423             ┆ -0.002669             │\n",
       "│ …      ┆ …      ┆ …             ┆ …              ┆ …                     ┆ …                     │\n",
       "│ 42     ┆ 292    ┆ P2            ┆ 0.0            ┆ -0.009153             ┆ -0.002669             │\n",
       "│ 42     ┆ 294    ┆ P2            ┆ 0.00231        ┆ -0.00231              ┆ -0.002267             │\n",
       "│ 42     ┆ 296    ┆ P2            ┆ 0.0            ┆ 0.0                   ┆ -0.003151             │\n",
       "│ 42     ┆ 298    ┆ P2            ┆ 0.0            ┆ 0.0                   ┆ -0.002669             │\n",
       "│ 42     ┆ 300    ┆ P2            ┆ -0.009368      ┆ 0.0                   ┆ -0.002267             │\n",
       "└────────┴────────┴───────────────┴────────────────┴───────────────────────┴───────────────────────┘"
      ]
     },
     "execution_count": 148,
     "metadata": {},
     "output_type": "execute_result"
    }
   ],
   "source": [
    "df_fe = df_fe.select(\n",
    "    [\n",
    "        \"run_id\",\n",
    "        \"period\",\n",
    "        \"prompt_prefix\",\n",
    "        \"price_log_diff\",\n",
    "        \"price_log_diff_lag_own\",\n",
    "        \"price_log_diff_lag_comp_avg\",\n",
    "        # \"price_log_diff_lag_comp_1\",\n",
    "        # \"price_log_diff_lag_comp_2\",\n",
    "    ]\n",
    ")\n",
    "df_fe"
   ]
  },
  {
   "cell_type": "code",
   "execution_count": 149,
   "id": "1417b10c",
   "metadata": {},
   "outputs": [
    {
     "data": {
      "text/html": [
       "<div><style>\n",
       ".dataframe > thead > tr,\n",
       ".dataframe > tbody > tr {\n",
       "  text-align: right;\n",
       "  white-space: pre-wrap;\n",
       "}\n",
       "</style>\n",
       "<small>shape: (2, 2)</small><table border=\"1\" class=\"dataframe\"><thead><tr><th>prompt_prefix</th><th>count</th></tr><tr><td>str</td><td>u32</td></tr></thead><tbody><tr><td>&quot;P2&quot;</td><td>3150</td></tr><tr><td>&quot;P1&quot;</td><td>3150</td></tr></tbody></table></div>"
      ],
      "text/plain": [
       "shape: (2, 2)\n",
       "┌───────────────┬───────┐\n",
       "│ prompt_prefix ┆ count │\n",
       "│ ---           ┆ ---   │\n",
       "│ str           ┆ u32   │\n",
       "╞═══════════════╪═══════╡\n",
       "│ P2            ┆ 3150  │\n",
       "│ P1            ┆ 3150  │\n",
       "└───────────────┴───────┘"
      ]
     },
     "execution_count": 149,
     "metadata": {},
     "output_type": "execute_result"
    }
   ],
   "source": [
    "df_fe[\"prompt_prefix\"].value_counts()"
   ]
  },
  {
   "cell_type": "markdown",
   "id": "3234b34e",
   "metadata": {},
   "source": [
    "## P1vsP1"
   ]
  },
  {
   "cell_type": "code",
   "execution_count": 150,
   "id": "9ec0e792",
   "metadata": {},
   "outputs": [
    {
     "data": {
      "text/html": [
       "<div><style>\n",
       ".dataframe > thead > tr,\n",
       ".dataframe > tbody > tr {\n",
       "  text-align: right;\n",
       "  white-space: pre-wrap;\n",
       "}\n",
       "</style>\n",
       "<small>shape: (3_150, 6)</small><table border=\"1\" class=\"dataframe\"><thead><tr><th>run_id</th><th>period</th><th>prompt_prefix</th><th>price_log_diff</th><th>price_log_diff_lag_own</th><th>price_log_diff_lag_comp_avg</th></tr><tr><td>u32</td><td>i64</td><td>str</td><td>f64</td><td>f64</td><td>f64</td></tr></thead><tbody><tr><td>1</td><td>2</td><td>&quot;P1&quot;</td><td>-0.133531</td><td>0.0</td><td>-0.003151</td></tr><tr><td>1</td><td>4</td><td>&quot;P1&quot;</td><td>-0.133531</td><td>0.287682</td><td>-0.002669</td></tr><tr><td>1</td><td>6</td><td>&quot;P1&quot;</td><td>0.182322</td><td>0.223144</td><td>-0.002267</td></tr><tr><td>1</td><td>8</td><td>&quot;P1&quot;</td><td>0.027399</td><td>-0.054067</td><td>-0.003151</td></tr><tr><td>1</td><td>10</td><td>&quot;P1&quot;</td><td>-0.041385</td><td>-0.013423</td><td>-0.002669</td></tr><tr><td>&hellip;</td><td>&hellip;</td><td>&hellip;</td><td>&hellip;</td><td>&hellip;</td><td>&hellip;</td></tr><tr><td>39</td><td>292</td><td>&quot;P1&quot;</td><td>0.0</td><td>0.0</td><td>-0.002669</td></tr><tr><td>39</td><td>294</td><td>&quot;P1&quot;</td><td>0.009803</td><td>-0.009803</td><td>-0.002267</td></tr><tr><td>39</td><td>296</td><td>&quot;P1&quot;</td><td>0.0</td><td>-0.000852</td><td>-0.003151</td></tr><tr><td>39</td><td>298</td><td>&quot;P1&quot;</td><td>0.0</td><td>0.0</td><td>-0.002669</td></tr><tr><td>39</td><td>300</td><td>&quot;P1&quot;</td><td>-0.002006</td><td>-0.002002</td><td>-0.002267</td></tr></tbody></table></div>"
      ],
      "text/plain": [
       "shape: (3_150, 6)\n",
       "┌────────┬────────┬───────────────┬────────────────┬───────────────────────┬───────────────────────┐\n",
       "│ run_id ┆ period ┆ prompt_prefix ┆ price_log_diff ┆ price_log_diff_lag_ow ┆ price_log_diff_lag_co │\n",
       "│ ---    ┆ ---    ┆ ---           ┆ ---            ┆ n                     ┆ mp_avg                │\n",
       "│ u32    ┆ i64    ┆ str           ┆ f64            ┆ ---                   ┆ ---                   │\n",
       "│        ┆        ┆               ┆                ┆ f64                   ┆ f64                   │\n",
       "╞════════╪════════╪═══════════════╪════════════════╪═══════════════════════╪═══════════════════════╡\n",
       "│ 1      ┆ 2      ┆ P1            ┆ -0.133531      ┆ 0.0                   ┆ -0.003151             │\n",
       "│ 1      ┆ 4      ┆ P1            ┆ -0.133531      ┆ 0.287682              ┆ -0.002669             │\n",
       "│ 1      ┆ 6      ┆ P1            ┆ 0.182322       ┆ 0.223144              ┆ -0.002267             │\n",
       "│ 1      ┆ 8      ┆ P1            ┆ 0.027399       ┆ -0.054067             ┆ -0.003151             │\n",
       "│ 1      ┆ 10     ┆ P1            ┆ -0.041385      ┆ -0.013423             ┆ -0.002669             │\n",
       "│ …      ┆ …      ┆ …             ┆ …              ┆ …                     ┆ …                     │\n",
       "│ 39     ┆ 292    ┆ P1            ┆ 0.0            ┆ 0.0                   ┆ -0.002669             │\n",
       "│ 39     ┆ 294    ┆ P1            ┆ 0.009803       ┆ -0.009803             ┆ -0.002267             │\n",
       "│ 39     ┆ 296    ┆ P1            ┆ 0.0            ┆ -0.000852             ┆ -0.003151             │\n",
       "│ 39     ┆ 298    ┆ P1            ┆ 0.0            ┆ 0.0                   ┆ -0.002669             │\n",
       "│ 39     ┆ 300    ┆ P1            ┆ -0.002006      ┆ -0.002002             ┆ -0.002267             │\n",
       "└────────┴────────┴───────────────┴────────────────┴───────────────────────┴───────────────────────┘"
      ]
     },
     "execution_count": 150,
     "metadata": {},
     "output_type": "execute_result"
    }
   ],
   "source": [
    "df_fe_p1 = df_fe.filter(pl.col(\"prompt_prefix\") == \"P1\").sort([\"run_id\", \"period\"])\n",
    "df_fe_p1"
   ]
  },
  {
   "cell_type": "code",
   "execution_count": 151,
   "id": "64afa0ef",
   "metadata": {},
   "outputs": [
    {
     "data": {
      "application/vnd.microsoft.datawrangler.viewer.v0+json": {
       "columns": [
        {
         "name": "('run_id', 'period')",
         "rawType": "object",
         "type": "unknown"
        },
        {
         "name": "prompt_prefix",
         "rawType": "object",
         "type": "string"
        },
        {
         "name": "price_log_diff",
         "rawType": "float64",
         "type": "float"
        },
        {
         "name": "price_log_diff_lag_own",
         "rawType": "float64",
         "type": "float"
        },
        {
         "name": "price_log_diff_lag_comp_avg",
         "rawType": "float64",
         "type": "float"
        }
       ],
       "ref": "dae3b6b0-2f48-455d-b39e-1927a1085ccd",
       "rows": [
        [
         "(np.uint32(1), np.int64(2))",
         "P1",
         "-0.13353139262452252",
         "0.0",
         "-0.0031514387201771253"
        ],
        [
         "(np.uint32(1), np.int64(4))",
         "P1",
         "-0.13353139262452263",
         "0.2876820724517809",
         "-0.0026691072376521102"
        ],
        [
         "(np.uint32(1), np.int64(6))",
         "P1",
         "0.18232155679395468",
         "0.22314355131420982",
         "-0.002267110415526103"
        ],
        [
         "(np.uint32(1), np.int64(8))",
         "P1",
         "0.027398974188114433",
         "-0.054067221270275634",
         "-0.0031514387201771253"
        ],
        [
         "(np.uint32(1), np.int64(10))",
         "P1",
         "-0.0413852161628544",
         "-0.0134230203321406",
         "-0.0026691072376521102"
        ]
       ],
       "shape": {
        "columns": 4,
        "rows": 5
       }
      },
      "text/html": [
       "<div>\n",
       "<style scoped>\n",
       "    .dataframe tbody tr th:only-of-type {\n",
       "        vertical-align: middle;\n",
       "    }\n",
       "\n",
       "    .dataframe tbody tr th {\n",
       "        vertical-align: top;\n",
       "    }\n",
       "\n",
       "    .dataframe thead th {\n",
       "        text-align: right;\n",
       "    }\n",
       "</style>\n",
       "<table border=\"1\" class=\"dataframe\">\n",
       "  <thead>\n",
       "    <tr style=\"text-align: right;\">\n",
       "      <th></th>\n",
       "      <th></th>\n",
       "      <th>prompt_prefix</th>\n",
       "      <th>price_log_diff</th>\n",
       "      <th>price_log_diff_lag_own</th>\n",
       "      <th>price_log_diff_lag_comp_avg</th>\n",
       "    </tr>\n",
       "    <tr>\n",
       "      <th>run_id</th>\n",
       "      <th>period</th>\n",
       "      <th></th>\n",
       "      <th></th>\n",
       "      <th></th>\n",
       "      <th></th>\n",
       "    </tr>\n",
       "  </thead>\n",
       "  <tbody>\n",
       "    <tr>\n",
       "      <th rowspan=\"5\" valign=\"top\">1</th>\n",
       "      <th>2</th>\n",
       "      <td>P1</td>\n",
       "      <td>-0.133531</td>\n",
       "      <td>0.000000</td>\n",
       "      <td>-0.003151</td>\n",
       "    </tr>\n",
       "    <tr>\n",
       "      <th>4</th>\n",
       "      <td>P1</td>\n",
       "      <td>-0.133531</td>\n",
       "      <td>0.287682</td>\n",
       "      <td>-0.002669</td>\n",
       "    </tr>\n",
       "    <tr>\n",
       "      <th>6</th>\n",
       "      <td>P1</td>\n",
       "      <td>0.182322</td>\n",
       "      <td>0.223144</td>\n",
       "      <td>-0.002267</td>\n",
       "    </tr>\n",
       "    <tr>\n",
       "      <th>8</th>\n",
       "      <td>P1</td>\n",
       "      <td>0.027399</td>\n",
       "      <td>-0.054067</td>\n",
       "      <td>-0.003151</td>\n",
       "    </tr>\n",
       "    <tr>\n",
       "      <th>10</th>\n",
       "      <td>P1</td>\n",
       "      <td>-0.041385</td>\n",
       "      <td>-0.013423</td>\n",
       "      <td>-0.002669</td>\n",
       "    </tr>\n",
       "  </tbody>\n",
       "</table>\n",
       "</div>"
      ],
      "text/plain": [
       "              prompt_prefix  price_log_diff  price_log_diff_lag_own  \\\n",
       "run_id period                                                         \n",
       "1      2                 P1       -0.133531                0.000000   \n",
       "       4                 P1       -0.133531                0.287682   \n",
       "       6                 P1        0.182322                0.223144   \n",
       "       8                 P1        0.027399               -0.054067   \n",
       "       10                P1       -0.041385               -0.013423   \n",
       "\n",
       "               price_log_diff_lag_comp_avg  \n",
       "run_id period                               \n",
       "1      2                         -0.003151  \n",
       "       4                         -0.002669  \n",
       "       6                         -0.002267  \n",
       "       8                         -0.003151  \n",
       "       10                        -0.002669  "
      ]
     },
     "execution_count": 151,
     "metadata": {},
     "output_type": "execute_result"
    }
   ],
   "source": [
    "df_fe_p1 = df_fe_p1.to_pandas()\n",
    "df_fe_p1.set_index([\"run_id\", \"period\"], inplace=True)\n",
    "df_fe_p1.head()"
   ]
  },
  {
   "cell_type": "code",
   "execution_count": 152,
   "id": "400c5695",
   "metadata": {},
   "outputs": [
    {
     "name": "stdout",
     "output_type": "stream",
     "text": [
      "                          PanelOLS Estimation Summary                           \n",
      "================================================================================\n",
      "Dep. Variable:         price_log_diff   R-squared:                        0.0169\n",
      "Estimator:                   PanelOLS   R-squared (Between):              0.4244\n",
      "No. Observations:                3150   R-squared (Within):               0.0169\n",
      "Date:                Wed, Jul 02 2025   R-squared (Overall):              0.0205\n",
      "Time:                        17:28:06   Log-likelihood                    5808.3\n",
      "Cov. Estimator:                Robust                                           \n",
      "                                        F-statistic:                      26.829\n",
      "Entities:                          21   P-value                           0.0000\n",
      "Avg Obs:                       150.00   Distribution:                  F(2,3127)\n",
      "Min Obs:                       150.00                                           \n",
      "Max Obs:                       150.00   F-statistic (robust):             2.9612\n",
      "                                        P-value                           0.0519\n",
      "Time periods:                     150   Distribution:                  F(2,3127)\n",
      "Avg Obs:                       21.000                                           \n",
      "Min Obs:                       21.000                                           \n",
      "Max Obs:                       21.000                                           \n",
      "                                                                                \n",
      "                                      Parameter Estimates                                      \n",
      "===============================================================================================\n",
      "                             Parameter  Std. Err.     T-stat    P-value    Lower CI    Upper CI\n",
      "-----------------------------------------------------------------------------------------------\n",
      "price_log_diff_lag_own          0.2199     0.0908     2.4224     0.0155      0.0419      0.3979\n",
      "price_log_diff_lag_comp_avg     0.7828     2.2731     0.3444     0.7306     -3.6741      5.2397\n",
      "===============================================================================================\n",
      "\n",
      "F-test for Poolability: 0.8276\n",
      "P-value: 0.6816\n",
      "Distribution: F(20,3127)\n",
      "\n",
      "Included effects: Entity\n"
     ]
    }
   ],
   "source": [
    "# Run PanelOLS with entity effects (fixed effects)\n",
    "model = PanelOLS.from_formula(\n",
    "    \"price_log_diff ~ price_log_diff_lag_own + price_log_diff_lag_comp_avg + EntityEffects\",\n",
    "    data=df_fe_p1,\n",
    ").fit(cov_type=\"robust\")\n",
    "print(model.summary)"
   ]
  },
  {
   "cell_type": "markdown",
   "id": "232cca0f",
   "metadata": {},
   "source": [
    "## P2vsP2"
   ]
  },
  {
   "cell_type": "code",
   "execution_count": 153,
   "id": "e9284568",
   "metadata": {},
   "outputs": [
    {
     "data": {
      "text/html": [
       "<div><style>\n",
       ".dataframe > thead > tr,\n",
       ".dataframe > tbody > tr {\n",
       "  text-align: right;\n",
       "  white-space: pre-wrap;\n",
       "}\n",
       "</style>\n",
       "<small>shape: (3_150, 6)</small><table border=\"1\" class=\"dataframe\"><thead><tr><th>run_id</th><th>period</th><th>prompt_prefix</th><th>price_log_diff</th><th>price_log_diff_lag_own</th><th>price_log_diff_lag_comp_avg</th></tr><tr><td>u32</td><td>i64</td><td>str</td><td>f64</td><td>f64</td><td>f64</td></tr></thead><tbody><tr><td>2</td><td>2</td><td>&quot;P2&quot;</td><td>-0.223144</td><td>0.0</td><td>-0.003151</td></tr><tr><td>2</td><td>4</td><td>&quot;P2&quot;</td><td>-0.257829</td><td>0.09531</td><td>-0.002669</td></tr><tr><td>2</td><td>6</td><td>&quot;P2&quot;</td><td>-0.029853</td><td>0.04512</td><td>-0.002267</td></tr><tr><td>2</td><td>8</td><td>&quot;P2&quot;</td><td>-0.033902</td><td>-0.03279</td><td>-0.003151</td></tr><tr><td>2</td><td>10</td><td>&quot;P2&quot;</td><td>-0.015748</td><td>0.015748</td><td>-0.002669</td></tr><tr><td>&hellip;</td><td>&hellip;</td><td>&hellip;</td><td>&hellip;</td><td>&hellip;</td><td>&hellip;</td></tr><tr><td>42</td><td>292</td><td>&quot;P2&quot;</td><td>0.0</td><td>-0.009153</td><td>-0.002669</td></tr><tr><td>42</td><td>294</td><td>&quot;P2&quot;</td><td>0.00231</td><td>-0.00231</td><td>-0.002267</td></tr><tr><td>42</td><td>296</td><td>&quot;P2&quot;</td><td>0.0</td><td>0.0</td><td>-0.003151</td></tr><tr><td>42</td><td>298</td><td>&quot;P2&quot;</td><td>0.0</td><td>0.0</td><td>-0.002669</td></tr><tr><td>42</td><td>300</td><td>&quot;P2&quot;</td><td>-0.009368</td><td>0.0</td><td>-0.002267</td></tr></tbody></table></div>"
      ],
      "text/plain": [
       "shape: (3_150, 6)\n",
       "┌────────┬────────┬───────────────┬────────────────┬───────────────────────┬───────────────────────┐\n",
       "│ run_id ┆ period ┆ prompt_prefix ┆ price_log_diff ┆ price_log_diff_lag_ow ┆ price_log_diff_lag_co │\n",
       "│ ---    ┆ ---    ┆ ---           ┆ ---            ┆ n                     ┆ mp_avg                │\n",
       "│ u32    ┆ i64    ┆ str           ┆ f64            ┆ ---                   ┆ ---                   │\n",
       "│        ┆        ┆               ┆                ┆ f64                   ┆ f64                   │\n",
       "╞════════╪════════╪═══════════════╪════════════════╪═══════════════════════╪═══════════════════════╡\n",
       "│ 2      ┆ 2      ┆ P2            ┆ -0.223144      ┆ 0.0                   ┆ -0.003151             │\n",
       "│ 2      ┆ 4      ┆ P2            ┆ -0.257829      ┆ 0.09531               ┆ -0.002669             │\n",
       "│ 2      ┆ 6      ┆ P2            ┆ -0.029853      ┆ 0.04512               ┆ -0.002267             │\n",
       "│ 2      ┆ 8      ┆ P2            ┆ -0.033902      ┆ -0.03279              ┆ -0.003151             │\n",
       "│ 2      ┆ 10     ┆ P2            ┆ -0.015748      ┆ 0.015748              ┆ -0.002669             │\n",
       "│ …      ┆ …      ┆ …             ┆ …              ┆ …                     ┆ …                     │\n",
       "│ 42     ┆ 292    ┆ P2            ┆ 0.0            ┆ -0.009153             ┆ -0.002669             │\n",
       "│ 42     ┆ 294    ┆ P2            ┆ 0.00231        ┆ -0.00231              ┆ -0.002267             │\n",
       "│ 42     ┆ 296    ┆ P2            ┆ 0.0            ┆ 0.0                   ┆ -0.003151             │\n",
       "│ 42     ┆ 298    ┆ P2            ┆ 0.0            ┆ 0.0                   ┆ -0.002669             │\n",
       "│ 42     ┆ 300    ┆ P2            ┆ -0.009368      ┆ 0.0                   ┆ -0.002267             │\n",
       "└────────┴────────┴───────────────┴────────────────┴───────────────────────┴───────────────────────┘"
      ]
     },
     "execution_count": 153,
     "metadata": {},
     "output_type": "execute_result"
    }
   ],
   "source": [
    "df_fe_p2 = df_fe.filter(pl.col(\"prompt_prefix\") == \"P2\").sort([\"run_id\", \"period\"])\n",
    "df_fe_p2"
   ]
  },
  {
   "cell_type": "code",
   "execution_count": 154,
   "id": "b586ef26",
   "metadata": {},
   "outputs": [
    {
     "data": {
      "application/vnd.microsoft.datawrangler.viewer.v0+json": {
       "columns": [
        {
         "name": "('run_id', 'period')",
         "rawType": "object",
         "type": "unknown"
        },
        {
         "name": "prompt_prefix",
         "rawType": "object",
         "type": "string"
        },
        {
         "name": "price_log_diff",
         "rawType": "float64",
         "type": "float"
        },
        {
         "name": "price_log_diff_lag_own",
         "rawType": "float64",
         "type": "float"
        },
        {
         "name": "price_log_diff_lag_comp_avg",
         "rawType": "float64",
         "type": "float"
        }
       ],
       "ref": "2a4878d2-3d9a-4479-9e2d-cb355a584d7e",
       "rows": [
        [
         "(np.uint32(2), np.int64(2))",
         "P2",
         "-0.22314355131420982",
         "0.0",
         "-0.0031514387201771253"
        ],
        [
         "(np.uint32(2), np.int64(4))",
         "P2",
         "-0.2578291093020999",
         "0.09531017980432499",
         "-0.0026691072376521102"
        ],
        [
         "(np.uint32(2), np.int64(6))",
         "P2",
         "-0.029852963149681222",
         "0.04512043528046955",
         "-0.002267110415526103"
        ],
        [
         "(np.uint32(2), np.int64(8))",
         "P2",
         "-0.033901551675681374",
         "-0.03278982282299092",
         "-0.0031514387201771253"
        ],
        [
         "(np.uint32(2), np.int64(10))",
         "P2",
         "-0.015748356968139254",
         "0.015748356968139254",
         "-0.0026691072376521102"
        ]
       ],
       "shape": {
        "columns": 4,
        "rows": 5
       }
      },
      "text/html": [
       "<div>\n",
       "<style scoped>\n",
       "    .dataframe tbody tr th:only-of-type {\n",
       "        vertical-align: middle;\n",
       "    }\n",
       "\n",
       "    .dataframe tbody tr th {\n",
       "        vertical-align: top;\n",
       "    }\n",
       "\n",
       "    .dataframe thead th {\n",
       "        text-align: right;\n",
       "    }\n",
       "</style>\n",
       "<table border=\"1\" class=\"dataframe\">\n",
       "  <thead>\n",
       "    <tr style=\"text-align: right;\">\n",
       "      <th></th>\n",
       "      <th></th>\n",
       "      <th>prompt_prefix</th>\n",
       "      <th>price_log_diff</th>\n",
       "      <th>price_log_diff_lag_own</th>\n",
       "      <th>price_log_diff_lag_comp_avg</th>\n",
       "    </tr>\n",
       "    <tr>\n",
       "      <th>run_id</th>\n",
       "      <th>period</th>\n",
       "      <th></th>\n",
       "      <th></th>\n",
       "      <th></th>\n",
       "      <th></th>\n",
       "    </tr>\n",
       "  </thead>\n",
       "  <tbody>\n",
       "    <tr>\n",
       "      <th rowspan=\"5\" valign=\"top\">2</th>\n",
       "      <th>2</th>\n",
       "      <td>P2</td>\n",
       "      <td>-0.223144</td>\n",
       "      <td>0.000000</td>\n",
       "      <td>-0.003151</td>\n",
       "    </tr>\n",
       "    <tr>\n",
       "      <th>4</th>\n",
       "      <td>P2</td>\n",
       "      <td>-0.257829</td>\n",
       "      <td>0.095310</td>\n",
       "      <td>-0.002669</td>\n",
       "    </tr>\n",
       "    <tr>\n",
       "      <th>6</th>\n",
       "      <td>P2</td>\n",
       "      <td>-0.029853</td>\n",
       "      <td>0.045120</td>\n",
       "      <td>-0.002267</td>\n",
       "    </tr>\n",
       "    <tr>\n",
       "      <th>8</th>\n",
       "      <td>P2</td>\n",
       "      <td>-0.033902</td>\n",
       "      <td>-0.032790</td>\n",
       "      <td>-0.003151</td>\n",
       "    </tr>\n",
       "    <tr>\n",
       "      <th>10</th>\n",
       "      <td>P2</td>\n",
       "      <td>-0.015748</td>\n",
       "      <td>0.015748</td>\n",
       "      <td>-0.002669</td>\n",
       "    </tr>\n",
       "  </tbody>\n",
       "</table>\n",
       "</div>"
      ],
      "text/plain": [
       "              prompt_prefix  price_log_diff  price_log_diff_lag_own  \\\n",
       "run_id period                                                         \n",
       "2      2                 P2       -0.223144                0.000000   \n",
       "       4                 P2       -0.257829                0.095310   \n",
       "       6                 P2       -0.029853                0.045120   \n",
       "       8                 P2       -0.033902               -0.032790   \n",
       "       10                P2       -0.015748                0.015748   \n",
       "\n",
       "               price_log_diff_lag_comp_avg  \n",
       "run_id period                               \n",
       "2      2                         -0.003151  \n",
       "       4                         -0.002669  \n",
       "       6                         -0.002267  \n",
       "       8                         -0.003151  \n",
       "       10                        -0.002669  "
      ]
     },
     "execution_count": 154,
     "metadata": {},
     "output_type": "execute_result"
    }
   ],
   "source": [
    "df_fe_p2 = df_fe_p2.to_pandas()\n",
    "df_fe_p2.set_index([\"run_id\", \"period\"], inplace=True)\n",
    "df_fe_p2.head()"
   ]
  },
  {
   "cell_type": "code",
   "execution_count": 155,
   "id": "f8f7bbeb",
   "metadata": {},
   "outputs": [
    {
     "name": "stdout",
     "output_type": "stream",
     "text": [
      "                          PanelOLS Estimation Summary                           \n",
      "================================================================================\n",
      "Dep. Variable:         price_log_diff   R-squared:                        0.0043\n",
      "Estimator:                   PanelOLS   R-squared (Between):             -4.9300\n",
      "No. Observations:                3150   R-squared (Within):               0.0043\n",
      "Date:                Wed, Jul 02 2025   R-squared (Overall):             -0.0251\n",
      "Time:                        17:28:06   Log-likelihood                    5051.7\n",
      "Cov. Estimator:                Robust                                           \n",
      "                                        F-statistic:                      6.7595\n",
      "Entities:                          21   P-value                           0.0012\n",
      "Avg Obs:                       150.00   Distribution:                  F(2,3127)\n",
      "Min Obs:                       150.00                                           \n",
      "Max Obs:                       150.00   F-statistic (robust):             1.2587\n",
      "                                        P-value                           0.2842\n",
      "Time periods:                     150   Distribution:                  F(2,3127)\n",
      "Avg Obs:                       21.000                                           \n",
      "Min Obs:                       21.000                                           \n",
      "Max Obs:                       21.000                                           \n",
      "                                                                                \n",
      "                                      Parameter Estimates                                      \n",
      "===============================================================================================\n",
      "                             Parameter  Std. Err.     T-stat    P-value    Lower CI    Upper CI\n",
      "-----------------------------------------------------------------------------------------------\n",
      "price_log_diff_lag_own         -0.0933     0.0904    -1.0322     0.3020     -0.2707      0.0840\n",
      "price_log_diff_lag_comp_avg     3.3770     2.8822     1.1717     0.2414     -2.2742      9.0282\n",
      "===============================================================================================\n",
      "\n",
      "F-test for Poolability: 0.9179\n",
      "P-value: 0.5639\n",
      "Distribution: F(20,3127)\n",
      "\n",
      "Included effects: Entity\n"
     ]
    }
   ],
   "source": [
    "# Run PanelOLS with entity effects (fixed effects)\n",
    "model = PanelOLS.from_formula(\n",
    "    \"price_log_diff ~ price_log_diff_lag_own + price_log_diff_lag_comp_avg + EntityEffects\",\n",
    "    data=df_fe_p2,\n",
    ").fit(cov_type=\"robust\")\n",
    "print(model.summary)"
   ]
  }
 ],
 "metadata": {
  "kernelspec": {
   "display_name": "algorithmic-pricing-llms",
   "language": "python",
   "name": "python3"
  },
  "language_info": {
   "codemirror_mode": {
    "name": "ipython",
    "version": 3
   },
   "file_extension": ".py",
   "mimetype": "text/x-python",
   "name": "python",
   "nbconvert_exporter": "python",
   "pygments_lexer": "ipython3",
   "version": "3.11.6"
  }
 },
 "nbformat": 4,
 "nbformat_minor": 5
}
