{
 "cells": [
  {
   "cell_type": "code",
   "execution_count": 412,
   "id": "2702efc9",
   "metadata": {},
   "outputs": [],
   "source": [
    "import os\n",
    "import sys\n",
    "\n",
    "sys.path.append(os.path.abspath(\"..\"))\n",
    "\n",
    "import polars as pl\n",
    "from pathlib import Path\n",
    "\n",
    "from linearmodels.panel import PanelOLS\n",
    "\n",
    "OUPUT_PATH = Path(\"../latex/imgs/res/\")\n",
    "OUPUT_PATH.mkdir(parents=True, exist_ok=True)\n",
    "OUPUT_TABLES_PATH = Path(\"../latex/tables/\")\n",
    "OUPUT_TABLES_PATH.mkdir(parents=True, exist_ok=True)\n",
    "DATA_OUTPUT_PATH = Path(\"../data/results/\")\n",
    "DATA_OUTPUT_PATH.mkdir(parents=True, exist_ok=True)\n",
    "\n",
    "DUOPOLY_OUPUT_PATH = Path(OUPUT_PATH) / \"duopoly\"\n",
    "DUOPOLY_OUPUT_PATH.mkdir(parents=True, exist_ok=True)"
   ]
  },
  {
   "cell_type": "code",
   "execution_count": 413,
   "id": "98010813",
   "metadata": {},
   "outputs": [
    {
     "data": {
      "text/html": [
       "<div><style>\n",
       ".dataframe > thead > tr,\n",
       ".dataframe > tbody > tr {\n",
       "  text-align: right;\n",
       "  white-space: pre-wrap;\n",
       "}\n",
       "</style>\n",
       "<small>shape: (25_200, 6)</small><table border=\"1\" class=\"dataframe\"><thead><tr><th>run_firm_id</th><th>run_id</th><th>firm_id</th><th>period</th><th>price</th><th>prompt_prefix</th></tr><tr><td>str</td><td>u32</td><td>u32</td><td>i64</td><td>f64</td><td>str</td></tr></thead><tbody><tr><td>&quot;1_1&quot;</td><td>1</td><td>1</td><td>1</td><td>4.51</td><td>&quot;P1&quot;</td></tr><tr><td>&quot;1_1&quot;</td><td>1</td><td>1</td><td>2</td><td>2.1875</td><td>&quot;P1&quot;</td></tr><tr><td>&quot;1_1&quot;</td><td>1</td><td>1</td><td>3</td><td>2.0312</td><td>&quot;P1&quot;</td></tr><tr><td>&quot;1_1&quot;</td><td>1</td><td>1</td><td>4</td><td>1.875</td><td>&quot;P1&quot;</td></tr><tr><td>&quot;1_1&quot;</td><td>1</td><td>1</td><td>5</td><td>1.7188</td><td>&quot;P1&quot;</td></tr><tr><td>&hellip;</td><td>&hellip;</td><td>&hellip;</td><td>&hellip;</td><td>&hellip;</td><td>&hellip;</td></tr><tr><td>&quot;42_2&quot;</td><td>42</td><td>2</td><td>296</td><td>1.5605</td><td>&quot;P2&quot;</td></tr><tr><td>&quot;42_2&quot;</td><td>42</td><td>2</td><td>297</td><td>1.5605</td><td>&quot;P2&quot;</td></tr><tr><td>&quot;42_2&quot;</td><td>42</td><td>2</td><td>298</td><td>1.5605</td><td>&quot;P2&quot;</td></tr><tr><td>&quot;42_2&quot;</td><td>42</td><td>2</td><td>299</td><td>1.5605</td><td>&quot;P2&quot;</td></tr><tr><td>&quot;42_2&quot;</td><td>42</td><td>2</td><td>300</td><td>1.5605</td><td>&quot;P2&quot;</td></tr></tbody></table></div>"
      ],
      "text/plain": [
       "shape: (25_200, 6)\n",
       "┌─────────────┬────────┬─────────┬────────┬────────┬───────────────┐\n",
       "│ run_firm_id ┆ run_id ┆ firm_id ┆ period ┆ price  ┆ prompt_prefix │\n",
       "│ ---         ┆ ---    ┆ ---     ┆ ---    ┆ ---    ┆ ---           │\n",
       "│ str         ┆ u32    ┆ u32     ┆ i64    ┆ f64    ┆ str           │\n",
       "╞═════════════╪════════╪═════════╪════════╪════════╪═══════════════╡\n",
       "│ 1_1         ┆ 1      ┆ 1       ┆ 1      ┆ 4.51   ┆ P1            │\n",
       "│ 1_1         ┆ 1      ┆ 1       ┆ 2      ┆ 2.1875 ┆ P1            │\n",
       "│ 1_1         ┆ 1      ┆ 1       ┆ 3      ┆ 2.0312 ┆ P1            │\n",
       "│ 1_1         ┆ 1      ┆ 1       ┆ 4      ┆ 1.875  ┆ P1            │\n",
       "│ 1_1         ┆ 1      ┆ 1       ┆ 5      ┆ 1.7188 ┆ P1            │\n",
       "│ …           ┆ …      ┆ …       ┆ …      ┆ …      ┆ …             │\n",
       "│ 42_2        ┆ 42     ┆ 2       ┆ 296    ┆ 1.5605 ┆ P2            │\n",
       "│ 42_2        ┆ 42     ┆ 2       ┆ 297    ┆ 1.5605 ┆ P2            │\n",
       "│ 42_2        ┆ 42     ┆ 2       ┆ 298    ┆ 1.5605 ┆ P2            │\n",
       "│ 42_2        ┆ 42     ┆ 2       ┆ 299    ┆ 1.5605 ┆ P2            │\n",
       "│ 42_2        ┆ 42     ┆ 2       ┆ 300    ┆ 1.5605 ┆ P2            │\n",
       "└─────────────┴────────┴─────────┴────────┴────────┴───────────────┘"
      ]
     },
     "execution_count": 413,
     "metadata": {},
     "output_type": "execute_result"
    }
   ],
   "source": [
    "df = (\n",
    "    pl.read_parquet(DATA_OUTPUT_PATH / \"all_experiments.parquet\")\n",
    "    .filter((pl.col(\"num_agents\") == 2) & (pl.col(\"is_symmetric\")))\n",
    "    .with_columns(\n",
    "        (pl.col(\"experiment_timestamp\").rank(\"dense\")).alias(\"run_id\"),\n",
    "        (pl.col(\"agent\").rank(\"dense\")).alias(\"firm_id\"),\n",
    "        pl.col(\"chosen_price\").truediv(pl.col(\"alpha\")).round(4).alias(\"price\"),\n",
    "    )\n",
    "    .rename(\n",
    "        {\n",
    "            \"round\": \"period\",\n",
    "            \"price\": \"price\",\n",
    "            \"agent_prefix_type\": \"prompt_prefix\",\n",
    "        }\n",
    "    )\n",
    "    .with_columns(\n",
    "        # concat run_id and firm_id to create a unique identifier\n",
    "        pl.concat_str([\"run_id\", \"firm_id\"], separator=\"_\").alias(\"run_firm_id\")\n",
    "    )\n",
    "    .select([\"run_firm_id\", \"run_id\", \"firm_id\", \"period\", \"price\", \"prompt_prefix\"])\n",
    "    .sort([\"run_id\", \"firm_id\", \"period\"])\n",
    ")\n",
    "df"
   ]
  },
  {
   "cell_type": "markdown",
   "id": "b5d5db3d",
   "metadata": {},
   "source": [
    "# Stationarity check\n",
    "---"
   ]
  },
  {
   "cell_type": "markdown",
   "id": "5b862620",
   "metadata": {},
   "source": [
    "- https://www.statsmodels.org/stable/generated/statsmodels.tsa.stattools.adfuller.html\n",
    "\n",
    "The null hypothesis of the Augmented Dickey-Fuller is that there is a unit root, with the alternative that there is no unit root. If the pvalue is above a critical size, then we cannot reject that there is a unit root.\n",
    "\n",
    "The p-values are obtained through regression surface approximation from MacKinnon 1994, but using the updated 2010 tables. If the p-value is close to significant, then the critical values should be used to judge whether to reject the null.\n",
    "\n",
    "The autolag option and maxlag for it are described in Greene."
   ]
  },
  {
   "cell_type": "code",
   "execution_count": 414,
   "id": "70bcacc5",
   "metadata": {},
   "outputs": [
    {
     "name": "stdout",
     "output_type": "stream",
     "text": [
      "Test statistic: -2.1509734348584275\n",
      "P-value: 0.22451767002607304\n",
      "Used lag: 5\n",
      "Number of observations: 294\n",
      "Critical values:\n",
      "  1%: -3.452789844280995\n",
      "  5%: -2.871421512222641\n",
      "  10%: -2.5720351510944512\n",
      "The series is non-stationary (fail to reject the null hypothesis of a unit root).\n"
     ]
    }
   ],
   "source": [
    "# run an ADF test on the price series for each firm\n",
    "from statsmodels.tsa.stattools import adfuller\n",
    "\n",
    "series = df.filter(pl.col(\"run_firm_id\") == \"1_1\").select(\"price\").to_series().to_list()\n",
    "result = adfuller(series, maxlag=22)\n",
    "# interpret the result\n",
    "result = {\n",
    "    \"test_statistic\": result[0],\n",
    "    \"p_value\": result[1],\n",
    "    \"used_lag\": result[2],\n",
    "    \"n_obs\": result[3],\n",
    "    \"critical_values\": result[4],\n",
    "    \"icbest\": result[5],\n",
    "}\n",
    "print(f\"Test statistic: {result['test_statistic']}\")\n",
    "print(f\"P-value: {result['p_value']}\")\n",
    "print(f\"Used lag: {result['used_lag']}\")\n",
    "print(f\"Number of observations: {result['n_obs']}\")\n",
    "print(\"Critical values:\")\n",
    "for key, value in result[\"critical_values\"].items():\n",
    "    print(f\"  {key}: {value}\")\n",
    "\n",
    "if result[\"p_value\"] < 0.05:\n",
    "    print(\"The series is stationary (reject the null hypothesis of a unit root).\")\n",
    "else:\n",
    "    print(\n",
    "        \"The series is non-stationary (fail to reject the null hypothesis of a unit root).\"\n",
    "    )"
   ]
  },
  {
   "cell_type": "code",
   "execution_count": 415,
   "id": "dc657e25",
   "metadata": {},
   "outputs": [
    {
     "name": "stdout",
     "output_type": "stream",
     "text": [
      "Summary of ADF Test Results by run_firm_id:\n",
      "            run_firm_id\n",
      "stationary             \n",
      "False                47\n",
      "True                 37\n",
      "\n",
      "Detailed Results:\n",
      "   run_firm_id  test_statistic   p_value  stationary\n",
      "0         20_2       -0.281503  0.928084       False\n",
      "1         19_2       -0.782008  0.824350       False\n",
      "2          3_2      -19.171754  0.000000        True\n",
      "3         28_2       -1.427426  0.569060       False\n",
      "4          1_1       -2.150973  0.224518       False\n",
      "..         ...             ...       ...         ...\n",
      "79         1_2       -1.090181  0.718972       False\n",
      "80        18_1       -1.524748  0.521235       False\n",
      "81        36_2       -0.135059  0.945833       False\n",
      "82        40_2       -2.686332  0.076433       False\n",
      "83        17_1       -3.121623  0.024994        True\n",
      "\n",
      "[84 rows x 4 columns]\n",
      "\n",
      "Number of stationary series: 37\n",
      "Number of non-stationary series: 47\n"
     ]
    }
   ],
   "source": [
    "from statsmodels.tsa.stattools import adfuller\n",
    "import pandas as pd\n",
    "\n",
    "# Initialize counters\n",
    "stationary_count = 0\n",
    "non_stationary_count = 0\n",
    "\n",
    "# Initialize a list to collect results\n",
    "results = []\n",
    "\n",
    "# Iterate through each firm ID\n",
    "for firm_id in df[\"run_firm_id\"].unique():\n",
    "    # Filter series for the current firm_id\n",
    "    series = (\n",
    "        df.filter(pl.col(\"run_firm_id\") == firm_id)\n",
    "        .select(\"price\")\n",
    "        .to_series()\n",
    "        .to_list()\n",
    "    )\n",
    "\n",
    "    # Run ADF test\n",
    "    result = adfuller(series, maxlag=22)\n",
    "\n",
    "    # Interpret the result\n",
    "    test_statistic = result[0]\n",
    "    p_value = result[1]\n",
    "\n",
    "    # Determine stationarity\n",
    "    if p_value < 0.05:\n",
    "        stationary = True\n",
    "        stationary_count += 1\n",
    "    else:\n",
    "        stationary = False\n",
    "        non_stationary_count += 1\n",
    "\n",
    "    # Append result to list\n",
    "    results.append(\n",
    "        {\n",
    "            \"run_firm_id\": firm_id,\n",
    "            \"test_statistic\": test_statistic,\n",
    "            \"p_value\": p_value,\n",
    "            \"stationary\": stationary,\n",
    "        }\n",
    "    )\n",
    "\n",
    "# Create a DataFrame from results\n",
    "results_df = pd.DataFrame(results)\n",
    "\n",
    "# Print summary table\n",
    "print(\"Summary of ADF Test Results by run_firm_id:\")\n",
    "print(results_df[[\"run_firm_id\", \"stationary\"]].groupby(\"stationary\").count())\n",
    "\n",
    "# Optionally, print additional details\n",
    "print(\"\\nDetailed Results:\")\n",
    "print(results_df)\n",
    "\n",
    "# Optionally, you can also print counts\n",
    "print(f\"\\nNumber of stationary series: {stationary_count}\")\n",
    "print(f\"Number of non-stationary series: {non_stationary_count}\")"
   ]
  },
  {
   "cell_type": "code",
   "execution_count": 416,
   "id": "cee6a717",
   "metadata": {},
   "outputs": [
    {
     "name": "stdout",
     "output_type": "stream",
     "text": [
      "Summary of ADF Test Results by run_firm_id:\n",
      "            run_firm_id\n",
      "stationary             \n",
      "False                 5\n",
      "True                 79\n",
      "\n",
      "Detailed Results:\n",
      "   run_firm_id  test_statistic       p_value  stationary\n",
      "0          4_1       -7.246624  1.825140e-10        True\n",
      "1         27_1       -2.211265  2.021822e-01       False\n",
      "2         30_1      -20.959286  0.000000e+00        True\n",
      "3         23_1       -8.345288  3.097298e-13        True\n",
      "4          2_1      -21.722200  0.000000e+00        True\n",
      "..         ...             ...           ...         ...\n",
      "79        25_1       -5.349245  4.325877e-06        True\n",
      "80        33_1      -19.851029  0.000000e+00        True\n",
      "81         6_2      -17.743153  3.395238e-30        True\n",
      "82        12_2      -26.582581  0.000000e+00        True\n",
      "83        20_2      -10.759965  2.535621e-19        True\n",
      "\n",
      "[84 rows x 4 columns]\n",
      "\n",
      "Number of stationary series: 79\n",
      "Number of non-stationary series: 5\n"
     ]
    }
   ],
   "source": [
    "from statsmodels.tsa.stattools import adfuller\n",
    "import pandas as pd\n",
    "\n",
    "# Initialize counters\n",
    "stationary_count = 0\n",
    "non_stationary_count = 0\n",
    "\n",
    "# Initialize a list to collect results\n",
    "results = []\n",
    "\n",
    "# Iterate through each firm ID\n",
    "for firm_id in df[\"run_firm_id\"].unique():\n",
    "    # Filter series for the current firm_id\n",
    "    series = (\n",
    "        df.filter(pl.col(\"run_firm_id\") == firm_id)\n",
    "        .with_columns(\n",
    "            #   pl.col(\"price\").diff(1).fill_null(0).alias(\"price_diff\")\n",
    "            (pl.col(\"price\").log())\n",
    "            .diff(1)\n",
    "            .fill_null(0)\n",
    "            .alias(\"price_diff\")  # NOTE! This uses log differences\n",
    "        )\n",
    "        .select(\"price_diff\")\n",
    "        .to_series()\n",
    "        .to_list()\n",
    "    )\n",
    "\n",
    "    # Run ADF test\n",
    "    result = adfuller(series, maxlag=22)\n",
    "\n",
    "    # Interpret the result\n",
    "    test_statistic = result[0]\n",
    "    p_value = result[1]\n",
    "\n",
    "    # Determine stationarity\n",
    "    if p_value < 0.05:\n",
    "        stationary = True\n",
    "        stationary_count += 1\n",
    "    else:\n",
    "        stationary = False\n",
    "        non_stationary_count += 1\n",
    "\n",
    "    # Append result to list\n",
    "    results.append(\n",
    "        {\n",
    "            \"run_firm_id\": firm_id,\n",
    "            \"test_statistic\": test_statistic,\n",
    "            \"p_value\": p_value,\n",
    "            \"stationary\": stationary,\n",
    "        }\n",
    "    )\n",
    "\n",
    "# Create a DataFrame from results\n",
    "results_df = pd.DataFrame(results)\n",
    "\n",
    "# Print summary table\n",
    "print(\"Summary of ADF Test Results by run_firm_id:\")\n",
    "print(results_df[[\"run_firm_id\", \"stationary\"]].groupby(\"stationary\").count())\n",
    "\n",
    "# Optionally, print additional details\n",
    "print(\"\\nDetailed Results:\")\n",
    "print(results_df)\n",
    "\n",
    "# Optionally, you can also print counts\n",
    "print(f\"\\nNumber of stationary series: {stationary_count}\")\n",
    "print(f\"Number of non-stationary series: {non_stationary_count}\")"
   ]
  },
  {
   "cell_type": "markdown",
   "id": "d6d0e61a",
   "metadata": {},
   "source": [
    "We need to work with price differences."
   ]
  },
  {
   "cell_type": "code",
   "execution_count": 417,
   "id": "c008a28c",
   "metadata": {},
   "outputs": [
    {
     "data": {
      "text/html": [
       "<div><style>\n",
       ".dataframe > thead > tr,\n",
       ".dataframe > tbody > tr {\n",
       "  text-align: right;\n",
       "  white-space: pre-wrap;\n",
       "}\n",
       "</style>\n",
       "<small>shape: (5, 7)</small><table border=\"1\" class=\"dataframe\"><thead><tr><th>run_firm_id</th><th>run_id</th><th>firm_id</th><th>period</th><th>price</th><th>prompt_prefix</th><th>price_diff</th></tr><tr><td>str</td><td>u32</td><td>u32</td><td>i64</td><td>f64</td><td>str</td><td>f64</td></tr></thead><tbody><tr><td>&quot;1_1&quot;</td><td>1</td><td>1</td><td>1</td><td>4.51</td><td>&quot;P1&quot;</td><td>0.0</td></tr><tr><td>&quot;1_1&quot;</td><td>1</td><td>1</td><td>2</td><td>2.1875</td><td>&quot;P1&quot;</td><td>-0.723538</td></tr><tr><td>&quot;1_1&quot;</td><td>1</td><td>1</td><td>3</td><td>2.0312</td><td>&quot;P1&quot;</td><td>-0.074133</td></tr><tr><td>&quot;1_1&quot;</td><td>1</td><td>1</td><td>4</td><td>1.875</td><td>&quot;P1&quot;</td><td>-0.080018</td></tr><tr><td>&quot;1_1&quot;</td><td>1</td><td>1</td><td>5</td><td>1.7188</td><td>&quot;P1&quot;</td><td>-0.086982</td></tr></tbody></table></div>"
      ],
      "text/plain": [
       "shape: (5, 7)\n",
       "┌─────────────┬────────┬─────────┬────────┬────────┬───────────────┬────────────┐\n",
       "│ run_firm_id ┆ run_id ┆ firm_id ┆ period ┆ price  ┆ prompt_prefix ┆ price_diff │\n",
       "│ ---         ┆ ---    ┆ ---     ┆ ---    ┆ ---    ┆ ---           ┆ ---        │\n",
       "│ str         ┆ u32    ┆ u32     ┆ i64    ┆ f64    ┆ str           ┆ f64        │\n",
       "╞═════════════╪════════╪═════════╪════════╪════════╪═══════════════╪════════════╡\n",
       "│ 1_1         ┆ 1      ┆ 1       ┆ 1      ┆ 4.51   ┆ P1            ┆ 0.0        │\n",
       "│ 1_1         ┆ 1      ┆ 1       ┆ 2      ┆ 2.1875 ┆ P1            ┆ -0.723538  │\n",
       "│ 1_1         ┆ 1      ┆ 1       ┆ 3      ┆ 2.0312 ┆ P1            ┆ -0.074133  │\n",
       "│ 1_1         ┆ 1      ┆ 1       ┆ 4      ┆ 1.875  ┆ P1            ┆ -0.080018  │\n",
       "│ 1_1         ┆ 1      ┆ 1       ┆ 5      ┆ 1.7188 ┆ P1            ┆ -0.086982  │\n",
       "└─────────────┴────────┴─────────┴────────┴────────┴───────────────┴────────────┘"
      ]
     },
     "execution_count": 417,
     "metadata": {},
     "output_type": "execute_result"
    }
   ],
   "source": [
    "df = df.with_columns(\n",
    "    # pl.col(\"price\").diff(1).over(\"run_firm_id\").fill_null(0).alias(\"price_diff\")\n",
    "    (pl.col(\"price\").log())\n",
    "    .diff(1)\n",
    "    .over(\"run_firm_id\")\n",
    "    .fill_null(0)\n",
    "    .alias(\"price_diff\")  # NOTE! This uses log differences\n",
    ")\n",
    "df.head()"
   ]
  },
  {
   "cell_type": "markdown",
   "id": "0c14d60d",
   "metadata": {},
   "source": [
    "# Fixed effects regression (trigger strategy)\n",
    "---"
   ]
  },
  {
   "cell_type": "markdown",
   "id": "67aec21f",
   "metadata": {},
   "source": [
    "We are interested in the responsiveness of agents to each other since it is a feature of a reward-punishment strategy. We are interested in stickiness since it measures the persistence of such rewards and punishments.\n",
    "\n",
    "To measure responsiveness and stickiness, we perform a linear regression with the following model:\n",
    "$$p_{i,r}^t = \\alpha_{i,r} + \\gamma p_{i,r}^{t-1} + \\delta p_{-i,r}^{t-1}+\\epsilon_{i,r}^{t}$$\n",
    "\n",
    "where $p_{i,r}^t$ is the price set by the agent $i$ at period $t$ of run $r$ of the experiment, $p_{i,r}^t$ is the price set by competitors at period $t$ of run $r$ and nd $α_{i,r}$ is a firm-run fixed effect."
   ]
  },
  {
   "cell_type": "code",
   "execution_count": 418,
   "id": "96e0bc9e",
   "metadata": {},
   "outputs": [
    {
     "data": {
      "text/html": [
       "<div><style>\n",
       ".dataframe > thead > tr,\n",
       ".dataframe > tbody > tr {\n",
       "  text-align: right;\n",
       "  white-space: pre-wrap;\n",
       "}\n",
       "</style>\n",
       "<small>shape: (25_200, 7)</small><table border=\"1\" class=\"dataframe\"><thead><tr><th>run_firm_id</th><th>run_id</th><th>firm_id</th><th>period</th><th>price</th><th>prompt_prefix</th><th>price_diff</th></tr><tr><td>str</td><td>u32</td><td>u32</td><td>i64</td><td>f64</td><td>str</td><td>f64</td></tr></thead><tbody><tr><td>&quot;1_1&quot;</td><td>1</td><td>1</td><td>1</td><td>4.51</td><td>&quot;P1&quot;</td><td>0.0</td></tr><tr><td>&quot;1_1&quot;</td><td>1</td><td>1</td><td>2</td><td>2.1875</td><td>&quot;P1&quot;</td><td>-0.723538</td></tr><tr><td>&quot;1_1&quot;</td><td>1</td><td>1</td><td>3</td><td>2.0312</td><td>&quot;P1&quot;</td><td>-0.074133</td></tr><tr><td>&quot;1_1&quot;</td><td>1</td><td>1</td><td>4</td><td>1.875</td><td>&quot;P1&quot;</td><td>-0.080018</td></tr><tr><td>&quot;1_1&quot;</td><td>1</td><td>1</td><td>5</td><td>1.7188</td><td>&quot;P1&quot;</td><td>-0.086982</td></tr><tr><td>&hellip;</td><td>&hellip;</td><td>&hellip;</td><td>&hellip;</td><td>&hellip;</td><td>&hellip;</td><td>&hellip;</td></tr><tr><td>&quot;42_2&quot;</td><td>42</td><td>2</td><td>296</td><td>1.5605</td><td>&quot;P2&quot;</td><td>0.0</td></tr><tr><td>&quot;42_2&quot;</td><td>42</td><td>2</td><td>297</td><td>1.5605</td><td>&quot;P2&quot;</td><td>0.0</td></tr><tr><td>&quot;42_2&quot;</td><td>42</td><td>2</td><td>298</td><td>1.5605</td><td>&quot;P2&quot;</td><td>0.0</td></tr><tr><td>&quot;42_2&quot;</td><td>42</td><td>2</td><td>299</td><td>1.5605</td><td>&quot;P2&quot;</td><td>0.0</td></tr><tr><td>&quot;42_2&quot;</td><td>42</td><td>2</td><td>300</td><td>1.5605</td><td>&quot;P2&quot;</td><td>0.0</td></tr></tbody></table></div>"
      ],
      "text/plain": [
       "shape: (25_200, 7)\n",
       "┌─────────────┬────────┬─────────┬────────┬────────┬───────────────┬────────────┐\n",
       "│ run_firm_id ┆ run_id ┆ firm_id ┆ period ┆ price  ┆ prompt_prefix ┆ price_diff │\n",
       "│ ---         ┆ ---    ┆ ---     ┆ ---    ┆ ---    ┆ ---           ┆ ---        │\n",
       "│ str         ┆ u32    ┆ u32     ┆ i64    ┆ f64    ┆ str           ┆ f64        │\n",
       "╞═════════════╪════════╪═════════╪════════╪════════╪═══════════════╪════════════╡\n",
       "│ 1_1         ┆ 1      ┆ 1       ┆ 1      ┆ 4.51   ┆ P1            ┆ 0.0        │\n",
       "│ 1_1         ┆ 1      ┆ 1       ┆ 2      ┆ 2.1875 ┆ P1            ┆ -0.723538  │\n",
       "│ 1_1         ┆ 1      ┆ 1       ┆ 3      ┆ 2.0312 ┆ P1            ┆ -0.074133  │\n",
       "│ 1_1         ┆ 1      ┆ 1       ┆ 4      ┆ 1.875  ┆ P1            ┆ -0.080018  │\n",
       "│ 1_1         ┆ 1      ┆ 1       ┆ 5      ┆ 1.7188 ┆ P1            ┆ -0.086982  │\n",
       "│ …           ┆ …      ┆ …       ┆ …      ┆ …      ┆ …             ┆ …          │\n",
       "│ 42_2        ┆ 42     ┆ 2       ┆ 296    ┆ 1.5605 ┆ P2            ┆ 0.0        │\n",
       "│ 42_2        ┆ 42     ┆ 2       ┆ 297    ┆ 1.5605 ┆ P2            ┆ 0.0        │\n",
       "│ 42_2        ┆ 42     ┆ 2       ┆ 298    ┆ 1.5605 ┆ P2            ┆ 0.0        │\n",
       "│ 42_2        ┆ 42     ┆ 2       ┆ 299    ┆ 1.5605 ┆ P2            ┆ 0.0        │\n",
       "│ 42_2        ┆ 42     ┆ 2       ┆ 300    ┆ 1.5605 ┆ P2            ┆ 0.0        │\n",
       "└─────────────┴────────┴─────────┴────────┴────────┴───────────────┴────────────┘"
      ]
     },
     "execution_count": 418,
     "metadata": {},
     "output_type": "execute_result"
    }
   ],
   "source": [
    "df"
   ]
  },
  {
   "cell_type": "code",
   "execution_count": null,
   "id": "a495cb0f",
   "metadata": {},
   "outputs": [
    {
     "data": {
      "text/html": [
       "<div><style>\n",
       ".dataframe > thead > tr,\n",
       ".dataframe > tbody > tr {\n",
       "  text-align: right;\n",
       "  white-space: pre-wrap;\n",
       "}\n",
       "</style>\n",
       "<small>shape: (4_200, 10)</small><table border=\"1\" class=\"dataframe\"><thead><tr><th>run_id</th><th>period</th><th>prompt_prefix</th><th>1_diff</th><th>2_diff</th><th>1_diff_lag</th><th>2_diff_lag</th><th>price_diff</th><th>price_diff_lag_own</th><th>price_diff_lag_comp</th></tr><tr><td>u32</td><td>i64</td><td>str</td><td>f64</td><td>f64</td><td>f64</td><td>f64</td><td>f64</td><td>f64</td><td>f64</td></tr></thead><tbody><tr><td>1</td><td>102</td><td>&quot;P1&quot;</td><td>-0.005244</td><td>-0.001748</td><td>0.005244</td><td>-0.003487</td><td>-0.005244</td><td>0.005244</td><td>-0.003487</td></tr><tr><td>1</td><td>104</td><td>&quot;P1&quot;</td><td>-0.001757</td><td>-0.003568</td><td>-0.001811</td><td>-0.001751</td><td>-0.003568</td><td>-0.001751</td><td>-0.001811</td></tr><tr><td>1</td><td>106</td><td>&quot;P1&quot;</td><td>-0.001757</td><td>0.00176</td><td>0.001757</td><td>-0.00176</td><td>-0.001757</td><td>0.001757</td><td>-0.00176</td></tr><tr><td>1</td><td>108</td><td>&quot;P1&quot;</td><td>-0.001757</td><td>-0.001767</td><td>0.001757</td><td>-0.003581</td><td>-0.001767</td><td>-0.003581</td><td>0.001757</td></tr><tr><td>1</td><td>110</td><td>&quot;P1&quot;</td><td>0.001811</td><td>-0.001773</td><td>0.001757</td><td>-0.00177</td><td>0.001811</td><td>0.001757</td><td>-0.00177</td></tr><tr><td>&hellip;</td><td>&hellip;</td><td>&hellip;</td><td>&hellip;</td><td>&hellip;</td><td>&hellip;</td><td>&hellip;</td><td>&hellip;</td><td>&hellip;</td><td>&hellip;</td></tr><tr><td>42</td><td>292</td><td>&quot;P2&quot;</td><td>0.00031</td><td>0.0</td><td>-0.00031</td><td>0.0</td><td>0.0</td><td>0.0</td><td>-0.00031</td></tr><tr><td>42</td><td>294</td><td>&quot;P2&quot;</td><td>0.00031</td><td>0.0</td><td>0.0</td><td>0.0</td><td>0.00031</td><td>0.0</td><td>0.0</td></tr><tr><td>42</td><td>296</td><td>&quot;P2&quot;</td><td>-0.00031</td><td>0.0</td><td>-0.00031</td><td>0.0</td><td>0.0</td><td>0.0</td><td>-0.00031</td></tr><tr><td>42</td><td>298</td><td>&quot;P2&quot;</td><td>0.00031</td><td>0.0</td><td>0.0</td><td>0.0</td><td>0.00031</td><td>0.0</td><td>0.0</td></tr><tr><td>42</td><td>300</td><td>&quot;P2&quot;</td><td>0.00031</td><td>0.0</td><td>-0.00031</td><td>0.0</td><td>0.0</td><td>0.0</td><td>-0.00031</td></tr></tbody></table></div>"
      ],
      "text/plain": [
       "shape: (4_200, 10)\n",
       "┌────────┬────────┬────────────┬───────────┬───┬────────────┬────────────┬────────────┬────────────┐\n",
       "│ run_id ┆ period ┆ prompt_pre ┆ 1_diff    ┆ … ┆ 2_diff_lag ┆ price_diff ┆ price_diff ┆ price_diff │\n",
       "│ ---    ┆ ---    ┆ fix        ┆ ---       ┆   ┆ ---        ┆ ---        ┆ _lag_own   ┆ _lag_comp  │\n",
       "│ u32    ┆ i64    ┆ ---        ┆ f64       ┆   ┆ f64        ┆ f64        ┆ ---        ┆ ---        │\n",
       "│        ┆        ┆ str        ┆           ┆   ┆            ┆            ┆ f64        ┆ f64        │\n",
       "╞════════╪════════╪════════════╪═══════════╪═══╪════════════╪════════════╪════════════╪════════════╡\n",
       "│ 1      ┆ 102    ┆ P1         ┆ -0.005244 ┆ … ┆ -0.003487  ┆ -0.005244  ┆ 0.005244   ┆ -0.003487  │\n",
       "│ 1      ┆ 104    ┆ P1         ┆ -0.001757 ┆ … ┆ -0.001751  ┆ -0.003568  ┆ -0.001751  ┆ -0.001811  │\n",
       "│ 1      ┆ 106    ┆ P1         ┆ -0.001757 ┆ … ┆ -0.00176   ┆ -0.001757  ┆ 0.001757   ┆ -0.00176   │\n",
       "│ 1      ┆ 108    ┆ P1         ┆ -0.001757 ┆ … ┆ -0.003581  ┆ -0.001767  ┆ -0.003581  ┆ 0.001757   │\n",
       "│ 1      ┆ 110    ┆ P1         ┆ 0.001811  ┆ … ┆ -0.00177   ┆ 0.001811   ┆ 0.001757   ┆ -0.00177   │\n",
       "│ …      ┆ …      ┆ …          ┆ …         ┆ … ┆ …          ┆ …          ┆ …          ┆ …          │\n",
       "│ 42     ┆ 292    ┆ P2         ┆ 0.00031   ┆ … ┆ 0.0        ┆ 0.0        ┆ 0.0        ┆ -0.00031   │\n",
       "│ 42     ┆ 294    ┆ P2         ┆ 0.00031   ┆ … ┆ 0.0        ┆ 0.00031    ┆ 0.0        ┆ 0.0        │\n",
       "│ 42     ┆ 296    ┆ P2         ┆ -0.00031  ┆ … ┆ 0.0        ┆ 0.0        ┆ 0.0        ┆ -0.00031   │\n",
       "│ 42     ┆ 298    ┆ P2         ┆ 0.00031   ┆ … ┆ 0.0        ┆ 0.00031    ┆ 0.0        ┆ 0.0        │\n",
       "│ 42     ┆ 300    ┆ P2         ┆ 0.00031   ┆ … ┆ 0.0        ┆ 0.0        ┆ 0.0        ┆ -0.00031   │\n",
       "└────────┴────────┴────────────┴───────────┴───┴────────────┴────────────┴────────────┴────────────┘"
      ]
     },
     "execution_count": 419,
     "metadata": {},
     "output_type": "execute_result"
    }
   ],
   "source": [
    "# Get competitor's price by reshaping the table (pivot)\n",
    "df_fe = (\n",
    "    df.pivot(\n",
    "        values=\"price_diff\",\n",
    "        index=[\"run_id\", \"period\", \"prompt_prefix\"],\n",
    "        on=\"firm_id\",\n",
    "    )\n",
    "    .rename(\n",
    "        {\n",
    "            \"1\": \"1_diff\",\n",
    "            \"2\": \"2_diff\",\n",
    "        }\n",
    "    )\n",
    "    .with_columns(\n",
    "        [\n",
    "            pl.col(\"1_diff\").shift(1).alias(\"1_diff_lag\"),\n",
    "            pl.col(\"2_diff\").shift(1).alias(\"2_diff_lag\"),\n",
    "        ]\n",
    "    )\n",
    "    # Filter the periods where the agents had no full memory\n",
    "    .filter(pl.col(\"period\") > 1)\n",
    "    # .filter(pl.col(\"period\")<101)\n",
    "    # Filter and keep only disjoint periods\n",
    "    .filter(pl.col(\"period\") % 2 == 0)\n",
    "    # Alternate between the firms. Keep only\n",
    "    .with_columns(\n",
    "        [\n",
    "            pl.when(pl.col(\"period\") % 4 == 2)\n",
    "            .then(pl.col(\"1_diff\"))\n",
    "            .otherwise(pl.col(\"2_diff\"))\n",
    "            .alias(\"price_diff\"),\n",
    "            pl.when(pl.col(\"period\") % 4 == 2)\n",
    "            .then(pl.col(\"1_diff_lag\"))\n",
    "            .otherwise(pl.col(\"2_diff_lag\"))\n",
    "            .alias(\"price_diff_lag_own\"),\n",
    "            pl.when(pl.col(\"period\") % 4 == 2)\n",
    "            .then(pl.col(\"2_diff_lag\"))\n",
    "            .otherwise(pl.col(\"1_diff_lag\"))\n",
    "            .alias(\"price_diff_lag_comp\"),\n",
    "        ]\n",
    "    )\n",
    "    .sort([\"run_id\", \"period\", \"prompt_prefix\"])\n",
    ")\n",
    "df_fe"
   ]
  },
  {
   "cell_type": "code",
   "execution_count": 420,
   "id": "4f11d9aa",
   "metadata": {},
   "outputs": [
    {
     "data": {
      "text/html": [
       "<div><style>\n",
       ".dataframe > thead > tr,\n",
       ".dataframe > tbody > tr {\n",
       "  text-align: right;\n",
       "  white-space: pre-wrap;\n",
       "}\n",
       "</style>\n",
       "<small>shape: (4_200, 6)</small><table border=\"1\" class=\"dataframe\"><thead><tr><th>run_id</th><th>period</th><th>prompt_prefix</th><th>price_diff</th><th>price_diff_lag_own</th><th>price_diff_lag_comp</th></tr><tr><td>u32</td><td>i64</td><td>str</td><td>f64</td><td>f64</td><td>f64</td></tr></thead><tbody><tr><td>1</td><td>102</td><td>&quot;P1&quot;</td><td>-0.005244</td><td>0.005244</td><td>-0.003487</td></tr><tr><td>1</td><td>104</td><td>&quot;P1&quot;</td><td>-0.003568</td><td>-0.001751</td><td>-0.001811</td></tr><tr><td>1</td><td>106</td><td>&quot;P1&quot;</td><td>-0.001757</td><td>0.001757</td><td>-0.00176</td></tr><tr><td>1</td><td>108</td><td>&quot;P1&quot;</td><td>-0.001767</td><td>-0.003581</td><td>0.001757</td></tr><tr><td>1</td><td>110</td><td>&quot;P1&quot;</td><td>0.001811</td><td>0.001757</td><td>-0.00177</td></tr><tr><td>&hellip;</td><td>&hellip;</td><td>&hellip;</td><td>&hellip;</td><td>&hellip;</td><td>&hellip;</td></tr><tr><td>42</td><td>292</td><td>&quot;P2&quot;</td><td>0.0</td><td>0.0</td><td>-0.00031</td></tr><tr><td>42</td><td>294</td><td>&quot;P2&quot;</td><td>0.00031</td><td>0.0</td><td>0.0</td></tr><tr><td>42</td><td>296</td><td>&quot;P2&quot;</td><td>0.0</td><td>0.0</td><td>-0.00031</td></tr><tr><td>42</td><td>298</td><td>&quot;P2&quot;</td><td>0.00031</td><td>0.0</td><td>0.0</td></tr><tr><td>42</td><td>300</td><td>&quot;P2&quot;</td><td>0.0</td><td>0.0</td><td>-0.00031</td></tr></tbody></table></div>"
      ],
      "text/plain": [
       "shape: (4_200, 6)\n",
       "┌────────┬────────┬───────────────┬────────────┬────────────────────┬─────────────────────┐\n",
       "│ run_id ┆ period ┆ prompt_prefix ┆ price_diff ┆ price_diff_lag_own ┆ price_diff_lag_comp │\n",
       "│ ---    ┆ ---    ┆ ---           ┆ ---        ┆ ---                ┆ ---                 │\n",
       "│ u32    ┆ i64    ┆ str           ┆ f64        ┆ f64                ┆ f64                 │\n",
       "╞════════╪════════╪═══════════════╪════════════╪════════════════════╪═════════════════════╡\n",
       "│ 1      ┆ 102    ┆ P1            ┆ -0.005244  ┆ 0.005244           ┆ -0.003487           │\n",
       "│ 1      ┆ 104    ┆ P1            ┆ -0.003568  ┆ -0.001751          ┆ -0.001811           │\n",
       "│ 1      ┆ 106    ┆ P1            ┆ -0.001757  ┆ 0.001757           ┆ -0.00176            │\n",
       "│ 1      ┆ 108    ┆ P1            ┆ -0.001767  ┆ -0.003581          ┆ 0.001757            │\n",
       "│ 1      ┆ 110    ┆ P1            ┆ 0.001811   ┆ 0.001757           ┆ -0.00177            │\n",
       "│ …      ┆ …      ┆ …             ┆ …          ┆ …                  ┆ …                   │\n",
       "│ 42     ┆ 292    ┆ P2            ┆ 0.0        ┆ 0.0                ┆ -0.00031            │\n",
       "│ 42     ┆ 294    ┆ P2            ┆ 0.00031    ┆ 0.0                ┆ 0.0                 │\n",
       "│ 42     ┆ 296    ┆ P2            ┆ 0.0        ┆ 0.0                ┆ -0.00031            │\n",
       "│ 42     ┆ 298    ┆ P2            ┆ 0.00031    ┆ 0.0                ┆ 0.0                 │\n",
       "│ 42     ┆ 300    ┆ P2            ┆ 0.0        ┆ 0.0                ┆ -0.00031            │\n",
       "└────────┴────────┴───────────────┴────────────┴────────────────────┴─────────────────────┘"
      ]
     },
     "execution_count": 420,
     "metadata": {},
     "output_type": "execute_result"
    }
   ],
   "source": [
    "df_fe = df_fe.select(\n",
    "    [\n",
    "        \"run_id\",\n",
    "        \"period\",\n",
    "        \"prompt_prefix\",\n",
    "        \"price_diff\",\n",
    "        \"price_diff_lag_own\",\n",
    "        \"price_diff_lag_comp\",\n",
    "    ]\n",
    ")\n",
    "df_fe"
   ]
  },
  {
   "cell_type": "code",
   "execution_count": 421,
   "id": "1417b10c",
   "metadata": {},
   "outputs": [
    {
     "data": {
      "text/html": [
       "<div><style>\n",
       ".dataframe > thead > tr,\n",
       ".dataframe > tbody > tr {\n",
       "  text-align: right;\n",
       "  white-space: pre-wrap;\n",
       "}\n",
       "</style>\n",
       "<small>shape: (2, 2)</small><table border=\"1\" class=\"dataframe\"><thead><tr><th>prompt_prefix</th><th>count</th></tr><tr><td>str</td><td>u32</td></tr></thead><tbody><tr><td>&quot;P1&quot;</td><td>2100</td></tr><tr><td>&quot;P2&quot;</td><td>2100</td></tr></tbody></table></div>"
      ],
      "text/plain": [
       "shape: (2, 2)\n",
       "┌───────────────┬───────┐\n",
       "│ prompt_prefix ┆ count │\n",
       "│ ---           ┆ ---   │\n",
       "│ str           ┆ u32   │\n",
       "╞═══════════════╪═══════╡\n",
       "│ P1            ┆ 2100  │\n",
       "│ P2            ┆ 2100  │\n",
       "└───────────────┴───────┘"
      ]
     },
     "execution_count": 421,
     "metadata": {},
     "output_type": "execute_result"
    }
   ],
   "source": [
    "df_fe[\"prompt_prefix\"].value_counts()"
   ]
  },
  {
   "cell_type": "markdown",
   "id": "3234b34e",
   "metadata": {},
   "source": [
    "## P1vsP1"
   ]
  },
  {
   "cell_type": "code",
   "execution_count": 422,
   "id": "9ec0e792",
   "metadata": {},
   "outputs": [
    {
     "data": {
      "text/html": [
       "<div><style>\n",
       ".dataframe > thead > tr,\n",
       ".dataframe > tbody > tr {\n",
       "  text-align: right;\n",
       "  white-space: pre-wrap;\n",
       "}\n",
       "</style>\n",
       "<small>shape: (2_100, 6)</small><table border=\"1\" class=\"dataframe\"><thead><tr><th>run_id</th><th>period</th><th>prompt_prefix</th><th>price_diff</th><th>price_diff_lag_own</th><th>price_diff_lag_comp</th></tr><tr><td>u32</td><td>i64</td><td>str</td><td>f64</td><td>f64</td><td>f64</td></tr></thead><tbody><tr><td>1</td><td>102</td><td>&quot;P1&quot;</td><td>-0.005244</td><td>0.005244</td><td>-0.003487</td></tr><tr><td>1</td><td>104</td><td>&quot;P1&quot;</td><td>-0.003568</td><td>-0.001751</td><td>-0.001811</td></tr><tr><td>1</td><td>106</td><td>&quot;P1&quot;</td><td>-0.001757</td><td>0.001757</td><td>-0.00176</td></tr><tr><td>1</td><td>108</td><td>&quot;P1&quot;</td><td>-0.001767</td><td>-0.003581</td><td>0.001757</td></tr><tr><td>1</td><td>110</td><td>&quot;P1&quot;</td><td>0.001811</td><td>0.001757</td><td>-0.00177</td></tr><tr><td>&hellip;</td><td>&hellip;</td><td>&hellip;</td><td>&hellip;</td><td>&hellip;</td><td>&hellip;</td></tr><tr><td>40</td><td>292</td><td>&quot;P1&quot;</td><td>0.0</td><td>0.0</td><td>0.0</td></tr><tr><td>40</td><td>294</td><td>&quot;P1&quot;</td><td>0.0</td><td>0.0</td><td>0.0</td></tr><tr><td>40</td><td>296</td><td>&quot;P1&quot;</td><td>0.0</td><td>0.0</td><td>0.0</td></tr><tr><td>40</td><td>298</td><td>&quot;P1&quot;</td><td>0.0</td><td>0.0</td><td>0.0</td></tr><tr><td>40</td><td>300</td><td>&quot;P1&quot;</td><td>0.0</td><td>0.0</td><td>0.0</td></tr></tbody></table></div>"
      ],
      "text/plain": [
       "shape: (2_100, 6)\n",
       "┌────────┬────────┬───────────────┬────────────┬────────────────────┬─────────────────────┐\n",
       "│ run_id ┆ period ┆ prompt_prefix ┆ price_diff ┆ price_diff_lag_own ┆ price_diff_lag_comp │\n",
       "│ ---    ┆ ---    ┆ ---           ┆ ---        ┆ ---                ┆ ---                 │\n",
       "│ u32    ┆ i64    ┆ str           ┆ f64        ┆ f64                ┆ f64                 │\n",
       "╞════════╪════════╪═══════════════╪════════════╪════════════════════╪═════════════════════╡\n",
       "│ 1      ┆ 102    ┆ P1            ┆ -0.005244  ┆ 0.005244           ┆ -0.003487           │\n",
       "│ 1      ┆ 104    ┆ P1            ┆ -0.003568  ┆ -0.001751          ┆ -0.001811           │\n",
       "│ 1      ┆ 106    ┆ P1            ┆ -0.001757  ┆ 0.001757           ┆ -0.00176            │\n",
       "│ 1      ┆ 108    ┆ P1            ┆ -0.001767  ┆ -0.003581          ┆ 0.001757            │\n",
       "│ 1      ┆ 110    ┆ P1            ┆ 0.001811   ┆ 0.001757           ┆ -0.00177            │\n",
       "│ …      ┆ …      ┆ …             ┆ …          ┆ …                  ┆ …                   │\n",
       "│ 40     ┆ 292    ┆ P1            ┆ 0.0        ┆ 0.0                ┆ 0.0                 │\n",
       "│ 40     ┆ 294    ┆ P1            ┆ 0.0        ┆ 0.0                ┆ 0.0                 │\n",
       "│ 40     ┆ 296    ┆ P1            ┆ 0.0        ┆ 0.0                ┆ 0.0                 │\n",
       "│ 40     ┆ 298    ┆ P1            ┆ 0.0        ┆ 0.0                ┆ 0.0                 │\n",
       "│ 40     ┆ 300    ┆ P1            ┆ 0.0        ┆ 0.0                ┆ 0.0                 │\n",
       "└────────┴────────┴───────────────┴────────────┴────────────────────┴─────────────────────┘"
      ]
     },
     "execution_count": 422,
     "metadata": {},
     "output_type": "execute_result"
    }
   ],
   "source": [
    "df_fe_p1 = df_fe.filter(pl.col(\"prompt_prefix\") == \"P1\").sort([\"run_id\", \"period\"])\n",
    "df_fe_p1"
   ]
  },
  {
   "cell_type": "code",
   "execution_count": 423,
   "id": "64afa0ef",
   "metadata": {},
   "outputs": [
    {
     "data": {
      "application/vnd.microsoft.datawrangler.viewer.v0+json": {
       "columns": [
        {
         "name": "('run_id', 'period')",
         "rawType": "object",
         "type": "unknown"
        },
        {
         "name": "prompt_prefix",
         "rawType": "object",
         "type": "string"
        },
        {
         "name": "price_diff",
         "rawType": "float64",
         "type": "float"
        },
        {
         "name": "price_diff_lag_own",
         "rawType": "float64",
         "type": "float"
        },
        {
         "name": "price_diff_lag_comp",
         "rawType": "float64",
         "type": "float"
        }
       ],
       "ref": "b7e27f32-2aa0-4971-b8bc-bab158e26a7e",
       "rows": [
        [
         "(np.uint32(1), np.int64(102))",
         "P1",
         "-0.005244027918665739",
         "0.005244027918665739",
         "-0.0034868715380310666"
        ],
        [
         "(np.uint32(1), np.int64(104))",
         "P1",
         "-0.0035680948568127535",
         "-0.0017510666207871672",
         "-0.0018107746007097747"
        ],
        [
         "(np.uint32(1), np.int64(106))",
         "P1",
         "-0.0017573202561029788",
         "0.0017573202561029788",
         "-0.0017604138678495307"
        ],
        [
         "(np.uint32(1), np.int64(108))",
         "P1",
         "-0.0017667345660666856",
         "-0.00358087176052857",
         "0.0017573202561029788"
        ],
        [
         "(np.uint32(1), np.int64(110))",
         "P1",
         "0.0018107746007097747",
         "0.0017573202561029788",
         "-0.0017698614422687609"
        ]
       ],
       "shape": {
        "columns": 4,
        "rows": 5
       }
      },
      "text/html": [
       "<div>\n",
       "<style scoped>\n",
       "    .dataframe tbody tr th:only-of-type {\n",
       "        vertical-align: middle;\n",
       "    }\n",
       "\n",
       "    .dataframe tbody tr th {\n",
       "        vertical-align: top;\n",
       "    }\n",
       "\n",
       "    .dataframe thead th {\n",
       "        text-align: right;\n",
       "    }\n",
       "</style>\n",
       "<table border=\"1\" class=\"dataframe\">\n",
       "  <thead>\n",
       "    <tr style=\"text-align: right;\">\n",
       "      <th></th>\n",
       "      <th></th>\n",
       "      <th>prompt_prefix</th>\n",
       "      <th>price_diff</th>\n",
       "      <th>price_diff_lag_own</th>\n",
       "      <th>price_diff_lag_comp</th>\n",
       "    </tr>\n",
       "    <tr>\n",
       "      <th>run_id</th>\n",
       "      <th>period</th>\n",
       "      <th></th>\n",
       "      <th></th>\n",
       "      <th></th>\n",
       "      <th></th>\n",
       "    </tr>\n",
       "  </thead>\n",
       "  <tbody>\n",
       "    <tr>\n",
       "      <th rowspan=\"5\" valign=\"top\">1</th>\n",
       "      <th>102</th>\n",
       "      <td>P1</td>\n",
       "      <td>-0.005244</td>\n",
       "      <td>0.005244</td>\n",
       "      <td>-0.003487</td>\n",
       "    </tr>\n",
       "    <tr>\n",
       "      <th>104</th>\n",
       "      <td>P1</td>\n",
       "      <td>-0.003568</td>\n",
       "      <td>-0.001751</td>\n",
       "      <td>-0.001811</td>\n",
       "    </tr>\n",
       "    <tr>\n",
       "      <th>106</th>\n",
       "      <td>P1</td>\n",
       "      <td>-0.001757</td>\n",
       "      <td>0.001757</td>\n",
       "      <td>-0.001760</td>\n",
       "    </tr>\n",
       "    <tr>\n",
       "      <th>108</th>\n",
       "      <td>P1</td>\n",
       "      <td>-0.001767</td>\n",
       "      <td>-0.003581</td>\n",
       "      <td>0.001757</td>\n",
       "    </tr>\n",
       "    <tr>\n",
       "      <th>110</th>\n",
       "      <td>P1</td>\n",
       "      <td>0.001811</td>\n",
       "      <td>0.001757</td>\n",
       "      <td>-0.001770</td>\n",
       "    </tr>\n",
       "  </tbody>\n",
       "</table>\n",
       "</div>"
      ],
      "text/plain": [
       "              prompt_prefix  price_diff  price_diff_lag_own  \\\n",
       "run_id period                                                 \n",
       "1      102               P1   -0.005244            0.005244   \n",
       "       104               P1   -0.003568           -0.001751   \n",
       "       106               P1   -0.001757            0.001757   \n",
       "       108               P1   -0.001767           -0.003581   \n",
       "       110               P1    0.001811            0.001757   \n",
       "\n",
       "               price_diff_lag_comp  \n",
       "run_id period                       \n",
       "1      102               -0.003487  \n",
       "       104               -0.001811  \n",
       "       106               -0.001760  \n",
       "       108                0.001757  \n",
       "       110               -0.001770  "
      ]
     },
     "execution_count": 423,
     "metadata": {},
     "output_type": "execute_result"
    }
   ],
   "source": [
    "df_fe_p1 = df_fe_p1.to_pandas()\n",
    "df_fe_p1.set_index([\"run_id\", \"period\"], inplace=True)\n",
    "df_fe_p1.head()"
   ]
  },
  {
   "cell_type": "code",
   "execution_count": 424,
   "id": "400c5695",
   "metadata": {},
   "outputs": [
    {
     "name": "stdout",
     "output_type": "stream",
     "text": [
      "                          PanelOLS Estimation Summary                           \n",
      "================================================================================\n",
      "Dep. Variable:             price_diff   R-squared:                        0.0289\n",
      "Estimator:                   PanelOLS   R-squared (Between):              0.1592\n",
      "No. Observations:                2100   R-squared (Within):               0.0289\n",
      "Date:                Wed, Jul 02 2025   R-squared (Overall):              0.0327\n",
      "Time:                        15:23:28   Log-likelihood                    8903.7\n",
      "Cov. Estimator:                Robust                                           \n",
      "                                        F-statistic:                      30.881\n",
      "Entities:                          21   P-value                           0.0000\n",
      "Avg Obs:                      100.000   Distribution:                  F(2,2077)\n",
      "Min Obs:                      100.000                                           \n",
      "Max Obs:                      100.000   F-statistic (robust):             2.6217\n",
      "                                        P-value                           0.0729\n",
      "Time periods:                     100   Distribution:                  F(2,2077)\n",
      "Avg Obs:                       21.000                                           \n",
      "Min Obs:                       21.000                                           \n",
      "Max Obs:                       21.000                                           \n",
      "                                                                                \n",
      "                                  Parameter Estimates                                  \n",
      "=======================================================================================\n",
      "                     Parameter  Std. Err.     T-stat    P-value    Lower CI    Upper CI\n",
      "---------------------------------------------------------------------------------------\n",
      "price_diff_lag_own      0.1717     0.0903     1.9026     0.0572     -0.0053      0.3488\n",
      "price_diff_lag_comp    -0.0090     0.0122    -0.7368     0.4613     -0.0329      0.0149\n",
      "=======================================================================================\n",
      "\n",
      "F-test for Poolability: 2.0035\n",
      "P-value: 0.0052\n",
      "Distribution: F(20,2077)\n",
      "\n",
      "Included effects: Entity\n"
     ]
    }
   ],
   "source": [
    "# Run PanelOLS with entity effects (fixed effects)\n",
    "model = PanelOLS.from_formula(\n",
    "    \"price_diff ~ price_diff_lag_own + price_diff_lag_comp + EntityEffects\",\n",
    "    data=df_fe_p1,\n",
    ").fit(cov_type=\"robust\")\n",
    "print(model.summary)"
   ]
  },
  {
   "cell_type": "markdown",
   "id": "59e8a28b",
   "metadata": {},
   "source": [
    "Excellent work applying the ADF test, transforming the data properly, and estimating the differenced model — that's exactly the rigorous approach you want.\n",
    "\n",
    "Let's unpack the interpretation **step by step**, especially considering that you're now working with **log-differenced series**, which essentially represents **percentage changes**, and how to interpret the signs of your coefficients.\n",
    "\n",
    "---\n",
    "\n",
    "## **1. What Does \"Price Diff\" Mean Here?**\n",
    "\n",
    "You've applied the **log difference** transformation:\n",
    "\n",
    "$$\n",
    "\\Delta \\log(p_{i,t}) = \\log(p_{i,t}) - \\log(p_{i,t-1}) \\approx \\frac{p_{i,t} - p_{i,t-1}}{p_{i,t-1}}\n",
    "$$\n",
    "\n",
    "Thus, `price_diff` is approximately the **percentage change in price** from period $t-1$ to period $t$.\n",
    "\n",
    "Similarly:\n",
    "\n",
    "* `price_diff_lag_own`: Percentage change in own price from $t-2$ to $t-1$.\n",
    "* `price_diff_lag_comp`: Percentage change in competitor's price from $t-2$ to $t-1$.\n",
    "\n",
    "---\n",
    "\n",
    "## **2. Interpreting the Coefficients**\n",
    "\n",
    "### **Own Lagged Price Change: Coefficient = -0.1351 (p = 0.1710, not significant)**\n",
    "\n",
    "* A negative coefficient suggests that if the firm increased its price in the previous period, it tends to reduce its price in the current period (and vice versa).\n",
    "* However, the coefficient is **not statistically significant**, so you can't draw strong conclusions from this.\n",
    "* This could suggest mild mean-reversion in own pricing behavior, but with no statistically robust evidence.\n",
    "\n",
    "---\n",
    "\n",
    "### **Competitor's Lagged Price Change: Coefficient = 0.4492 (p = 0.0002, significant)**\n",
    "\n",
    "* A positive and statistically significant coefficient implies that:\n",
    "\n",
    "  * If the competitor increased their price last period by, say, 1%, the firm tends to **also** increase its price this period by approximately 0.45%.\n",
    "  * Conversely, if the competitor decreased their price, the firm tends to follow with a price decrease.\n",
    "\n",
    "### **Interpretation in Economic Terms:**\n",
    "\n",
    "✅ This behavior reflects **positive responsiveness or price-following** behavior.\n",
    "✅ In the context of the experiment (likely tacit collusion or strategic interaction), it implies the firm responds to competitor price movements, possibly as part of a reward-punishment or tit-for-tat dynamic.\n",
    "✅ Importantly, you're capturing *adjustments* rather than levels, so this reflects how firms **adjust prices in response to recent changes**, not in absolute price levels.\n",
    "\n",
    "---\n",
    "\n",
    "## **3. Does This Make Sense in the Log-Differenced Scenario?**\n",
    "\n",
    "Yes, it does, and here's why:\n",
    "\n",
    "| Variable              | Interpretation of Coefficient                                                                               |\n",
    "| --------------------- | ----------------------------------------------------------------------------------------------------------- |\n",
    "| `price_diff_lag_own`  | Measures inertia or correction: if own price increased last period, does the firm adjust further or revert? |\n",
    "| `price_diff_lag_comp` | Measures responsiveness: does the firm follow the competitor's price change?                                |\n",
    "\n",
    "Given that:\n",
    "\n",
    "* Own price change isn't significant → little evidence for systematic self-correction.\n",
    "* Competitor's price change is positive and significant → suggests clear **reactive pricing**, consistent with strategic interaction.\n",
    "\n",
    "---\n",
    "\n",
    "## **4. Additional Notes**\n",
    "\n",
    "* The **R² of 0.12** is entirely reasonable for a differenced model — much lower than the level model, which often artificially inflates R² in presence of non-stationarity.\n",
    "* The **Poolability F-test p-value (0.0849)** suggests *some heterogeneity* across entities (firms/runs), but it's borderline — not a major concern.\n",
    "* The use of **entity fixed effects** is appropriate; you could explore time fixed effects too, but may not be necessary if time dynamics are minimal.\n",
    "\n",
    "---\n",
    "\n",
    "## **5. Optional Further Robustness Suggestions**\n",
    "\n",
    "✅ Try including **two-period lagged price changes** to see if reactions persist beyond one period.\n",
    "✅ Run the same regression separately for different prompt conditions (P1 vs. P2) as the paper did, to explore if responsiveness differs.\n",
    "✅ Check residuals for serial correlation to ensure no remaining dynamic structure violates model assumptions.\n",
    "✅ Consider Arellano-Bond GMM for further robustness, though with differenced data and lag structure, you're already in good shape.\n",
    "\n",
    "---\n",
    "\n",
    "## **6. Conclusion: Clear Interpretation**\n",
    "\n",
    "Your findings are:\n",
    "\n",
    "* After appropriately differencing the series to handle unit roots, there's solid evidence that **firms adjust their price in response to competitor's past price changes**, consistent with strategic interaction or collusion dynamics.\n",
    "* No strong evidence for own-price adjustment beyond what's captured by the differencing.\n",
    "* The signs make economic sense, especially in a competitive duopoly with potential reward-punishment schemes.\n",
    "\n",
    "---\n",
    "\n",
    "**If you want, I can help code the separation by prompt conditions or suggest an Arellano-Bond implementation. Just say the word.**\n"
   ]
  },
  {
   "cell_type": "markdown",
   "id": "232cca0f",
   "metadata": {},
   "source": [
    "## P2vsP2"
   ]
  },
  {
   "cell_type": "code",
   "execution_count": 425,
   "id": "e9284568",
   "metadata": {},
   "outputs": [
    {
     "data": {
      "text/html": [
       "<div><style>\n",
       ".dataframe > thead > tr,\n",
       ".dataframe > tbody > tr {\n",
       "  text-align: right;\n",
       "  white-space: pre-wrap;\n",
       "}\n",
       "</style>\n",
       "<small>shape: (2_100, 6)</small><table border=\"1\" class=\"dataframe\"><thead><tr><th>run_id</th><th>period</th><th>prompt_prefix</th><th>price_diff</th><th>price_diff_lag_own</th><th>price_diff_lag_comp</th></tr><tr><td>u32</td><td>i64</td><td>str</td><td>f64</td><td>f64</td><td>f64</td></tr></thead><tbody><tr><td>2</td><td>102</td><td>&quot;P2&quot;</td><td>0.006969</td><td>-0.001733</td><td>0.000409</td></tr><tr><td>2</td><td>104</td><td>&quot;P2&quot;</td><td>0.0</td><td>0.0</td><td>-0.005236</td></tr><tr><td>2</td><td>106</td><td>&quot;P2&quot;</td><td>0.0</td><td>-0.002624</td><td>0.0</td></tr><tr><td>2</td><td>108</td><td>&quot;P2&quot;</td><td>0.0</td><td>0.0</td><td>0.0</td></tr><tr><td>2</td><td>110</td><td>&quot;P2&quot;</td><td>-0.001736</td><td>-0.000895</td><td>0.0</td></tr><tr><td>&hellip;</td><td>&hellip;</td><td>&hellip;</td><td>&hellip;</td><td>&hellip;</td><td>&hellip;</td></tr><tr><td>42</td><td>292</td><td>&quot;P2&quot;</td><td>0.0</td><td>0.0</td><td>-0.00031</td></tr><tr><td>42</td><td>294</td><td>&quot;P2&quot;</td><td>0.00031</td><td>0.0</td><td>0.0</td></tr><tr><td>42</td><td>296</td><td>&quot;P2&quot;</td><td>0.0</td><td>0.0</td><td>-0.00031</td></tr><tr><td>42</td><td>298</td><td>&quot;P2&quot;</td><td>0.00031</td><td>0.0</td><td>0.0</td></tr><tr><td>42</td><td>300</td><td>&quot;P2&quot;</td><td>0.0</td><td>0.0</td><td>-0.00031</td></tr></tbody></table></div>"
      ],
      "text/plain": [
       "shape: (2_100, 6)\n",
       "┌────────┬────────┬───────────────┬────────────┬────────────────────┬─────────────────────┐\n",
       "│ run_id ┆ period ┆ prompt_prefix ┆ price_diff ┆ price_diff_lag_own ┆ price_diff_lag_comp │\n",
       "│ ---    ┆ ---    ┆ ---           ┆ ---        ┆ ---                ┆ ---                 │\n",
       "│ u32    ┆ i64    ┆ str           ┆ f64        ┆ f64                ┆ f64                 │\n",
       "╞════════╪════════╪═══════════════╪════════════╪════════════════════╪═════════════════════╡\n",
       "│ 2      ┆ 102    ┆ P2            ┆ 0.006969   ┆ -0.001733          ┆ 0.000409            │\n",
       "│ 2      ┆ 104    ┆ P2            ┆ 0.0        ┆ 0.0                ┆ -0.005236           │\n",
       "│ 2      ┆ 106    ┆ P2            ┆ 0.0        ┆ -0.002624          ┆ 0.0                 │\n",
       "│ 2      ┆ 108    ┆ P2            ┆ 0.0        ┆ 0.0                ┆ 0.0                 │\n",
       "│ 2      ┆ 110    ┆ P2            ┆ -0.001736  ┆ -0.000895          ┆ 0.0                 │\n",
       "│ …      ┆ …      ┆ …             ┆ …          ┆ …                  ┆ …                   │\n",
       "│ 42     ┆ 292    ┆ P2            ┆ 0.0        ┆ 0.0                ┆ -0.00031            │\n",
       "│ 42     ┆ 294    ┆ P2            ┆ 0.00031    ┆ 0.0                ┆ 0.0                 │\n",
       "│ 42     ┆ 296    ┆ P2            ┆ 0.0        ┆ 0.0                ┆ -0.00031            │\n",
       "│ 42     ┆ 298    ┆ P2            ┆ 0.00031    ┆ 0.0                ┆ 0.0                 │\n",
       "│ 42     ┆ 300    ┆ P2            ┆ 0.0        ┆ 0.0                ┆ -0.00031            │\n",
       "└────────┴────────┴───────────────┴────────────┴────────────────────┴─────────────────────┘"
      ]
     },
     "execution_count": 425,
     "metadata": {},
     "output_type": "execute_result"
    }
   ],
   "source": [
    "df_fe_p2 = df_fe.filter(pl.col(\"prompt_prefix\") == \"P2\").sort([\"run_id\", \"period\"])\n",
    "df_fe_p2"
   ]
  },
  {
   "cell_type": "code",
   "execution_count": 426,
   "id": "b586ef26",
   "metadata": {},
   "outputs": [
    {
     "data": {
      "application/vnd.microsoft.datawrangler.viewer.v0+json": {
       "columns": [
        {
         "name": "('run_id', 'period')",
         "rawType": "object",
         "type": "unknown"
        },
        {
         "name": "prompt_prefix",
         "rawType": "object",
         "type": "string"
        },
        {
         "name": "price_diff",
         "rawType": "float64",
         "type": "float"
        },
        {
         "name": "price_diff_lag_own",
         "rawType": "float64",
         "type": "float"
        },
        {
         "name": "price_diff_lag_comp",
         "rawType": "float64",
         "type": "float"
        }
       ],
       "ref": "f6665a7c-1a59-4259-8f0d-3ce3d5879ee8",
       "rows": [
        [
         "(np.uint32(2), np.int64(102))",
         "P2",
         "0.006968669316093301",
         "-0.0017327636318927864",
         "0.00040922510874796814"
        ],
        [
         "(np.uint32(2), np.int64(104))",
         "P2",
         "0.0",
         "0.0",
         "-0.005235905684200515"
        ],
        [
         "(np.uint32(2), np.int64(106))",
         "P2",
         "0.0",
         "-0.0026235745881256767",
         "0.0"
        ],
        [
         "(np.uint32(2), np.int64(108))",
         "P2",
         "0.0",
         "0.0",
         "0.0"
        ],
        [
         "(np.uint32(2), np.int64(110))",
         "P2",
         "-0.001735771314053114",
         "-0.0008947045276143095",
         "0.0"
        ]
       ],
       "shape": {
        "columns": 4,
        "rows": 5
       }
      },
      "text/html": [
       "<div>\n",
       "<style scoped>\n",
       "    .dataframe tbody tr th:only-of-type {\n",
       "        vertical-align: middle;\n",
       "    }\n",
       "\n",
       "    .dataframe tbody tr th {\n",
       "        vertical-align: top;\n",
       "    }\n",
       "\n",
       "    .dataframe thead th {\n",
       "        text-align: right;\n",
       "    }\n",
       "</style>\n",
       "<table border=\"1\" class=\"dataframe\">\n",
       "  <thead>\n",
       "    <tr style=\"text-align: right;\">\n",
       "      <th></th>\n",
       "      <th></th>\n",
       "      <th>prompt_prefix</th>\n",
       "      <th>price_diff</th>\n",
       "      <th>price_diff_lag_own</th>\n",
       "      <th>price_diff_lag_comp</th>\n",
       "    </tr>\n",
       "    <tr>\n",
       "      <th>run_id</th>\n",
       "      <th>period</th>\n",
       "      <th></th>\n",
       "      <th></th>\n",
       "      <th></th>\n",
       "      <th></th>\n",
       "    </tr>\n",
       "  </thead>\n",
       "  <tbody>\n",
       "    <tr>\n",
       "      <th rowspan=\"5\" valign=\"top\">2</th>\n",
       "      <th>102</th>\n",
       "      <td>P2</td>\n",
       "      <td>0.006969</td>\n",
       "      <td>-0.001733</td>\n",
       "      <td>0.000409</td>\n",
       "    </tr>\n",
       "    <tr>\n",
       "      <th>104</th>\n",
       "      <td>P2</td>\n",
       "      <td>0.000000</td>\n",
       "      <td>0.000000</td>\n",
       "      <td>-0.005236</td>\n",
       "    </tr>\n",
       "    <tr>\n",
       "      <th>106</th>\n",
       "      <td>P2</td>\n",
       "      <td>0.000000</td>\n",
       "      <td>-0.002624</td>\n",
       "      <td>0.000000</td>\n",
       "    </tr>\n",
       "    <tr>\n",
       "      <th>108</th>\n",
       "      <td>P2</td>\n",
       "      <td>0.000000</td>\n",
       "      <td>0.000000</td>\n",
       "      <td>0.000000</td>\n",
       "    </tr>\n",
       "    <tr>\n",
       "      <th>110</th>\n",
       "      <td>P2</td>\n",
       "      <td>-0.001736</td>\n",
       "      <td>-0.000895</td>\n",
       "      <td>0.000000</td>\n",
       "    </tr>\n",
       "  </tbody>\n",
       "</table>\n",
       "</div>"
      ],
      "text/plain": [
       "              prompt_prefix  price_diff  price_diff_lag_own  \\\n",
       "run_id period                                                 \n",
       "2      102               P2    0.006969           -0.001733   \n",
       "       104               P2    0.000000            0.000000   \n",
       "       106               P2    0.000000           -0.002624   \n",
       "       108               P2    0.000000            0.000000   \n",
       "       110               P2   -0.001736           -0.000895   \n",
       "\n",
       "               price_diff_lag_comp  \n",
       "run_id period                       \n",
       "2      102                0.000409  \n",
       "       104               -0.005236  \n",
       "       106                0.000000  \n",
       "       108                0.000000  \n",
       "       110                0.000000  "
      ]
     },
     "execution_count": 426,
     "metadata": {},
     "output_type": "execute_result"
    }
   ],
   "source": [
    "df_fe_p2 = df_fe_p2.to_pandas()\n",
    "df_fe_p2.set_index([\"run_id\", \"period\"], inplace=True)\n",
    "df_fe_p2.head()"
   ]
  },
  {
   "cell_type": "code",
   "execution_count": 427,
   "id": "f8f7bbeb",
   "metadata": {},
   "outputs": [
    {
     "name": "stdout",
     "output_type": "stream",
     "text": [
      "                          PanelOLS Estimation Summary                           \n",
      "================================================================================\n",
      "Dep. Variable:             price_diff   R-squared:                        0.0408\n",
      "Estimator:                   PanelOLS   R-squared (Between):             -0.1858\n",
      "No. Observations:                2100   R-squared (Within):               0.0408\n",
      "Date:                Wed, Jul 02 2025   R-squared (Overall):              0.0399\n",
      "Time:                        15:23:28   Log-likelihood                    6360.9\n",
      "Cov. Estimator:                Robust                                           \n",
      "                                        F-statistic:                      44.168\n",
      "Entities:                          21   P-value                           0.0000\n",
      "Avg Obs:                      100.000   Distribution:                  F(2,2077)\n",
      "Min Obs:                      100.000                                           \n",
      "Max Obs:                      100.000   F-statistic (robust):             3.3010\n",
      "                                        P-value                           0.0370\n",
      "Time periods:                     100   Distribution:                  F(2,2077)\n",
      "Avg Obs:                       21.000                                           \n",
      "Min Obs:                       21.000                                           \n",
      "Max Obs:                       21.000                                           \n",
      "                                                                                \n",
      "                                  Parameter Estimates                                  \n",
      "=======================================================================================\n",
      "                     Parameter  Std. Err.     T-stat    P-value    Lower CI    Upper CI\n",
      "---------------------------------------------------------------------------------------\n",
      "price_diff_lag_own     -0.1891     0.0887    -2.1322     0.0331     -0.3631     -0.0152\n",
      "price_diff_lag_comp    -0.0267     0.0164    -1.6278     0.1037     -0.0589      0.0055\n",
      "=======================================================================================\n",
      "\n",
      "F-test for Poolability: 0.3782\n",
      "P-value: 0.9943\n",
      "Distribution: F(20,2077)\n",
      "\n",
      "Included effects: Entity\n"
     ]
    }
   ],
   "source": [
    "# Run PanelOLS with entity effects (fixed effects)\n",
    "model = PanelOLS.from_formula(\n",
    "    \"price_diff ~ price_diff_lag_own + price_diff_lag_comp + EntityEffects\",\n",
    "    data=df_fe_p2,\n",
    ").fit(cov_type=\"robust\")\n",
    "print(model.summary)"
   ]
  }
 ],
 "metadata": {
  "kernelspec": {
   "display_name": "algorithmic-pricing-llms",
   "language": "python",
   "name": "python3"
  },
  "language_info": {
   "codemirror_mode": {
    "name": "ipython",
    "version": 3
   },
   "file_extension": ".py",
   "mimetype": "text/x-python",
   "name": "python",
   "nbconvert_exporter": "python",
   "pygments_lexer": "ipython3",
   "version": "3.11.6"
  }
 },
 "nbformat": 4,
 "nbformat_minor": 5
}
