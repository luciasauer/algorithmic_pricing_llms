{
 "cells": [
  {
   "cell_type": "code",
   "execution_count": 1,
   "id": "2702efc9",
   "metadata": {},
   "outputs": [],
   "source": [
    "import os\n",
    "import sys\n",
    "\n",
    "sys.path.append(os.path.abspath(\"..\"))\n",
    "\n",
    "import pandas as pd\n",
    "import polars as pl\n",
    "from pathlib import Path\n",
    "\n",
    "from linearmodels.panel import PanelOLS\n",
    "from statsmodels.tsa.stattools import adfuller\n",
    "\n",
    "OUPUT_PATH = Path(\"../latex/imgs/res/\")\n",
    "OUPUT_PATH.mkdir(parents=True, exist_ok=True)\n",
    "OUPUT_TABLES_PATH = Path(\"../latex/tables/\")\n",
    "OUPUT_TABLES_PATH.mkdir(parents=True, exist_ok=True)\n",
    "DATA_OUTPUT_PATH = Path(\"../data/results/\")\n",
    "DATA_OUTPUT_PATH.mkdir(parents=True, exist_ok=True)\n",
    "\n",
    "DUOPOLY_OUPUT_PATH = Path(OUPUT_PATH) / \"duopoly\"\n",
    "DUOPOLY_OUPUT_PATH.mkdir(parents=True, exist_ok=True)"
   ]
  },
  {
   "cell_type": "code",
   "execution_count": 2,
   "id": "98010813",
   "metadata": {},
   "outputs": [
    {
     "data": {
      "text/html": [
       "<div><style>\n",
       ".dataframe > thead > tr,\n",
       ".dataframe > tbody > tr {\n",
       "  text-align: right;\n",
       "  white-space: pre-wrap;\n",
       "}\n",
       "</style>\n",
       "<small>shape: (63_000, 6)</small><table border=\"1\" class=\"dataframe\"><thead><tr><th>run_firm_id</th><th>run_id</th><th>firm_id</th><th>period</th><th>price</th><th>prompt_prefix</th></tr><tr><td>str</td><td>u32</td><td>u32</td><td>i64</td><td>f64</td><td>str</td></tr></thead><tbody><tr><td>&quot;1_1&quot;</td><td>1</td><td>1</td><td>1</td><td>2.75</td><td>&quot;P1&quot;</td></tr><tr><td>&quot;1_1&quot;</td><td>1</td><td>1</td><td>2</td><td>3.0</td><td>&quot;P1&quot;</td></tr><tr><td>&quot;1_1&quot;</td><td>1</td><td>1</td><td>3</td><td>3.25</td><td>&quot;P1&quot;</td></tr><tr><td>&quot;1_1&quot;</td><td>1</td><td>1</td><td>4</td><td>2.9</td><td>&quot;P1&quot;</td></tr><tr><td>&quot;1_1&quot;</td><td>1</td><td>1</td><td>5</td><td>3.1</td><td>&quot;P1&quot;</td></tr><tr><td>&hellip;</td><td>&hellip;</td><td>&hellip;</td><td>&hellip;</td><td>&hellip;</td><td>&hellip;</td></tr><tr><td>&quot;42_5&quot;</td><td>42</td><td>5</td><td>296</td><td>1.401</td><td>&quot;P1&quot;</td></tr><tr><td>&quot;42_5&quot;</td><td>42</td><td>5</td><td>297</td><td>1.402</td><td>&quot;P1&quot;</td></tr><tr><td>&quot;42_5&quot;</td><td>42</td><td>5</td><td>298</td><td>1.401</td><td>&quot;P1&quot;</td></tr><tr><td>&quot;42_5&quot;</td><td>42</td><td>5</td><td>299</td><td>1.403</td><td>&quot;P1&quot;</td></tr><tr><td>&quot;42_5&quot;</td><td>42</td><td>5</td><td>300</td><td>1.402</td><td>&quot;P1&quot;</td></tr></tbody></table></div>"
      ],
      "text/plain": [
       "shape: (63_000, 6)\n",
       "┌─────────────┬────────┬─────────┬────────┬───────┬───────────────┐\n",
       "│ run_firm_id ┆ run_id ┆ firm_id ┆ period ┆ price ┆ prompt_prefix │\n",
       "│ ---         ┆ ---    ┆ ---     ┆ ---    ┆ ---   ┆ ---           │\n",
       "│ str         ┆ u32    ┆ u32     ┆ i64    ┆ f64   ┆ str           │\n",
       "╞═════════════╪════════╪═════════╪════════╪═══════╪═══════════════╡\n",
       "│ 1_1         ┆ 1      ┆ 1       ┆ 1      ┆ 2.75  ┆ P1            │\n",
       "│ 1_1         ┆ 1      ┆ 1       ┆ 2      ┆ 3.0   ┆ P1            │\n",
       "│ 1_1         ┆ 1      ┆ 1       ┆ 3      ┆ 3.25  ┆ P1            │\n",
       "│ 1_1         ┆ 1      ┆ 1       ┆ 4      ┆ 2.9   ┆ P1            │\n",
       "│ 1_1         ┆ 1      ┆ 1       ┆ 5      ┆ 3.1   ┆ P1            │\n",
       "│ …           ┆ …      ┆ …       ┆ …      ┆ …     ┆ …             │\n",
       "│ 42_5        ┆ 42     ┆ 5       ┆ 296    ┆ 1.401 ┆ P1            │\n",
       "│ 42_5        ┆ 42     ┆ 5       ┆ 297    ┆ 1.402 ┆ P1            │\n",
       "│ 42_5        ┆ 42     ┆ 5       ┆ 298    ┆ 1.401 ┆ P1            │\n",
       "│ 42_5        ┆ 42     ┆ 5       ┆ 299    ┆ 1.403 ┆ P1            │\n",
       "│ 42_5        ┆ 42     ┆ 5       ┆ 300    ┆ 1.402 ┆ P1            │\n",
       "└─────────────┴────────┴─────────┴────────┴───────┴───────────────┘"
      ]
     },
     "execution_count": 2,
     "metadata": {},
     "output_type": "execute_result"
    }
   ],
   "source": [
    "df = (\n",
    "    pl.read_parquet(DATA_OUTPUT_PATH / \"all_experiments.parquet\")\n",
    "    .filter((pl.col(\"num_agents\") == 5) & (pl.col(\"is_symmetric\")))\n",
    "    .with_columns(\n",
    "        (pl.col(\"experiment_timestamp\").rank(\"dense\")).alias(\"run_id\"),\n",
    "        (pl.col(\"agent\").rank(\"dense\")).alias(\"firm_id\"),\n",
    "        pl.col(\"chosen_price\").truediv(pl.col(\"alpha\")).round(4).alias(\"price\"),\n",
    "    )\n",
    "    .rename(\n",
    "        {\n",
    "            \"round\": \"period\",\n",
    "            \"price\": \"price\",\n",
    "            \"agent_prefix_type\": \"prompt_prefix\",\n",
    "        }\n",
    "    )\n",
    "    .with_columns(\n",
    "        # concat run_id and firm_id to create a unique identifier\n",
    "        pl.concat_str([\"run_id\", \"firm_id\"], separator=\"_\").alias(\"run_firm_id\")\n",
    "    )\n",
    "    .select([\"run_firm_id\", \"run_id\", \"firm_id\", \"period\", \"price\", \"prompt_prefix\"])\n",
    "    .sort([\"run_id\", \"firm_id\", \"period\"])\n",
    ")\n",
    "df"
   ]
  },
  {
   "cell_type": "markdown",
   "id": "b5d5db3d",
   "metadata": {},
   "source": [
    "# Stationarity check\n",
    "---"
   ]
  },
  {
   "cell_type": "markdown",
   "id": "5b862620",
   "metadata": {},
   "source": [
    "- https://www.statsmodels.org/stable/generated/statsmodels.tsa.stattools.adfuller.html\n",
    "\n",
    "The null hypothesis of the Augmented Dickey-Fuller is that there is a unit root, with the alternative that there is no unit root. If the pvalue is above a critical size, then we cannot reject that there is a unit root.\n",
    "\n",
    "The p-values are obtained through regression surface approximation from MacKinnon 1994, but using the updated 2010 tables. If the p-value is close to significant, then the critical values should be used to judge whether to reject the null.\n",
    "\n",
    "The autolag option and maxlag for it are described in Greene."
   ]
  },
  {
   "cell_type": "code",
   "execution_count": 3,
   "id": "dc657e25",
   "metadata": {},
   "outputs": [
    {
     "name": "stdout",
     "output_type": "stream",
     "text": [
      "Summary of ADF Test Results by run_firm_id:\n",
      "            run_firm_id\n",
      "stationary             \n",
      "False               101\n",
      "True                109\n",
      "\n",
      "Detailed Results:\n",
      "    run_firm_id  test_statistic       p_value  stationary\n",
      "0          35_4       -7.344848  1.042101e-10        True\n",
      "1          28_3       -4.281334  4.784612e-04        True\n",
      "2          40_1        0.583560  9.872033e-01       False\n",
      "3          26_5       -4.232471  5.802920e-04        True\n",
      "4           9_2       -1.542180  5.125520e-01       False\n",
      "..          ...             ...           ...         ...\n",
      "205        24_3       -0.293809  9.263766e-01       False\n",
      "206        41_5       -1.658884  4.524115e-01       False\n",
      "207        42_1       -2.356443  1.544093e-01       False\n",
      "208        19_4       -5.800252  4.649006e-07        True\n",
      "209        35_3       -5.332251  4.693298e-06        True\n",
      "\n",
      "[210 rows x 4 columns]\n",
      "\n",
      "Number of stationary series: 109\n",
      "Number of non-stationary series: 101\n"
     ]
    }
   ],
   "source": [
    "# Initialize counters\n",
    "stationary_count = 0\n",
    "non_stationary_count = 0\n",
    "\n",
    "# Initialize a list to collect results\n",
    "results = []\n",
    "\n",
    "# Iterate through each firm ID\n",
    "for firm_id in df[\"run_firm_id\"].unique():\n",
    "    # Filter series for the current firm_id\n",
    "    series = (\n",
    "        df.filter(pl.col(\"run_firm_id\") == firm_id)\n",
    "        .select(\"price\")\n",
    "        .to_series()\n",
    "        .to_list()\n",
    "    )\n",
    "\n",
    "    # Run ADF test\n",
    "    result = adfuller(series, maxlag=22)\n",
    "\n",
    "    # Interpret the result\n",
    "    test_statistic = result[0]\n",
    "    p_value = result[1]\n",
    "\n",
    "    # Determine stationarity\n",
    "    if p_value < 0.05:\n",
    "        stationary = True\n",
    "        stationary_count += 1\n",
    "    else:\n",
    "        stationary = False\n",
    "        non_stationary_count += 1\n",
    "\n",
    "    # Append result to list\n",
    "    results.append(\n",
    "        {\n",
    "            \"run_firm_id\": firm_id,\n",
    "            \"test_statistic\": test_statistic,\n",
    "            \"p_value\": p_value,\n",
    "            \"stationary\": stationary,\n",
    "        }\n",
    "    )\n",
    "\n",
    "# Create a DataFrame from results\n",
    "results_df = pd.DataFrame(results)\n",
    "\n",
    "# Print summary table\n",
    "print(\"Summary of ADF Test Results by run_firm_id:\")\n",
    "print(results_df[[\"run_firm_id\", \"stationary\"]].groupby(\"stationary\").count())\n",
    "\n",
    "# Optionally, print additional details\n",
    "print(\"\\nDetailed Results:\")\n",
    "print(results_df)\n",
    "\n",
    "# Optionally, you can also print counts\n",
    "print(f\"\\nNumber of stationary series: {stationary_count}\")\n",
    "print(f\"Number of non-stationary series: {non_stationary_count}\")"
   ]
  },
  {
   "cell_type": "code",
   "execution_count": 4,
   "id": "cee6a717",
   "metadata": {},
   "outputs": [
    {
     "name": "stdout",
     "output_type": "stream",
     "text": [
      "Summary of ADF Test Results by run_firm_id:\n",
      "            run_firm_id\n",
      "stationary             \n",
      "False                 8\n",
      "True                202\n",
      "\n",
      "Detailed Results:\n",
      "    run_firm_id  test_statistic       p_value  stationary\n",
      "0           1_2       -7.110508  3.950368e-10        True\n",
      "1          30_5      -44.666714  0.000000e+00        True\n",
      "2          23_3      -10.352273  2.518631e-18        True\n",
      "3          27_4       -9.924325  2.934251e-17        True\n",
      "4          26_4      -11.641835  2.137738e-21        True\n",
      "..          ...             ...           ...         ...\n",
      "205         4_3       -9.479771  3.901131e-16        True\n",
      "206         8_2      -11.375884  8.748260e-21        True\n",
      "207        19_4       -5.842719  3.744694e-07        True\n",
      "208         4_1      -72.148876  0.000000e+00        True\n",
      "209        29_2       -7.839178  6.000908e-12        True\n",
      "\n",
      "[210 rows x 4 columns]\n",
      "\n",
      "Number of stationary series: 202\n",
      "Number of non-stationary series: 8\n"
     ]
    }
   ],
   "source": [
    "# Initialize counters\n",
    "stationary_count = 0\n",
    "non_stationary_count = 0\n",
    "\n",
    "# Initialize a list to collect results\n",
    "results = []\n",
    "\n",
    "# Iterate through each firm ID\n",
    "for firm_id in df[\"run_firm_id\"].unique():\n",
    "    # Filter series for the current firm_id\n",
    "    series = (\n",
    "        df.filter(pl.col(\"run_firm_id\") == firm_id)\n",
    "        .with_columns(\n",
    "            #   pl.col(\"price\").diff(1).fill_null(0).alias(\"price_diff\")\n",
    "            (pl.col(\"price\").log())\n",
    "            .diff(1)\n",
    "            .fill_null(0)\n",
    "            .alias(\"price_diff\")  # NOTE! This uses log differences\n",
    "        )\n",
    "        .filter(~pl.col(\"price_diff\").is_in([float(\"inf\"), float(\"-inf\")]))\n",
    "        .select(\"price_diff\")\n",
    "        .to_series()\n",
    "        .to_list()\n",
    "    )\n",
    "\n",
    "    # Run ADF test\n",
    "    result = adfuller(series, maxlag=22)\n",
    "\n",
    "    # Interpret the result\n",
    "    test_statistic = result[0]\n",
    "    p_value = result[1]\n",
    "\n",
    "    # Determine stationarity\n",
    "    if p_value < 0.05:\n",
    "        stationary = True\n",
    "        stationary_count += 1\n",
    "    else:\n",
    "        stationary = False\n",
    "        non_stationary_count += 1\n",
    "\n",
    "    # Append result to list\n",
    "    results.append(\n",
    "        {\n",
    "            \"run_firm_id\": firm_id,\n",
    "            \"test_statistic\": test_statistic,\n",
    "            \"p_value\": p_value,\n",
    "            \"stationary\": stationary,\n",
    "        }\n",
    "    )\n",
    "\n",
    "# Create a DataFrame from results\n",
    "results_df = pd.DataFrame(results)\n",
    "\n",
    "# Print summary table\n",
    "print(\"Summary of ADF Test Results by run_firm_id:\")\n",
    "print(results_df[[\"run_firm_id\", \"stationary\"]].groupby(\"stationary\").count())\n",
    "\n",
    "# Optionally, print additional details\n",
    "print(\"\\nDetailed Results:\")\n",
    "print(results_df)\n",
    "\n",
    "# Optionally, you can also print counts\n",
    "print(f\"\\nNumber of stationary series: {stationary_count}\")\n",
    "print(f\"Number of non-stationary series: {non_stationary_count}\")"
   ]
  },
  {
   "cell_type": "markdown",
   "id": "d6d0e61a",
   "metadata": {},
   "source": [
    "We need to work with price differences."
   ]
  },
  {
   "cell_type": "code",
   "execution_count": 5,
   "id": "c008a28c",
   "metadata": {},
   "outputs": [
    {
     "data": {
      "text/html": [
       "<div><style>\n",
       ".dataframe > thead > tr,\n",
       ".dataframe > tbody > tr {\n",
       "  text-align: right;\n",
       "  white-space: pre-wrap;\n",
       "}\n",
       "</style>\n",
       "<small>shape: (63_000, 7)</small><table border=\"1\" class=\"dataframe\"><thead><tr><th>run_firm_id</th><th>run_id</th><th>firm_id</th><th>period</th><th>price</th><th>prompt_prefix</th><th>price_log_diff</th></tr><tr><td>str</td><td>u32</td><td>u32</td><td>i64</td><td>f64</td><td>str</td><td>f64</td></tr></thead><tbody><tr><td>&quot;1_1&quot;</td><td>1</td><td>1</td><td>1</td><td>2.75</td><td>&quot;P1&quot;</td><td>0.0</td></tr><tr><td>&quot;1_1&quot;</td><td>1</td><td>1</td><td>2</td><td>3.0</td><td>&quot;P1&quot;</td><td>0.087011</td></tr><tr><td>&quot;1_1&quot;</td><td>1</td><td>1</td><td>3</td><td>3.25</td><td>&quot;P1&quot;</td><td>0.080043</td></tr><tr><td>&quot;1_1&quot;</td><td>1</td><td>1</td><td>4</td><td>2.9</td><td>&quot;P1&quot;</td><td>-0.113944</td></tr><tr><td>&quot;1_1&quot;</td><td>1</td><td>1</td><td>5</td><td>3.1</td><td>&quot;P1&quot;</td><td>0.066691</td></tr><tr><td>&hellip;</td><td>&hellip;</td><td>&hellip;</td><td>&hellip;</td><td>&hellip;</td><td>&hellip;</td><td>&hellip;</td></tr><tr><td>&quot;42_5&quot;</td><td>42</td><td>5</td><td>296</td><td>1.401</td><td>&quot;P1&quot;</td><td>-0.000714</td></tr><tr><td>&quot;42_5&quot;</td><td>42</td><td>5</td><td>297</td><td>1.402</td><td>&quot;P1&quot;</td><td>0.000714</td></tr><tr><td>&quot;42_5&quot;</td><td>42</td><td>5</td><td>298</td><td>1.401</td><td>&quot;P1&quot;</td><td>-0.000714</td></tr><tr><td>&quot;42_5&quot;</td><td>42</td><td>5</td><td>299</td><td>1.403</td><td>&quot;P1&quot;</td><td>0.001427</td></tr><tr><td>&quot;42_5&quot;</td><td>42</td><td>5</td><td>300</td><td>1.402</td><td>&quot;P1&quot;</td><td>-0.000713</td></tr></tbody></table></div>"
      ],
      "text/plain": [
       "shape: (63_000, 7)\n",
       "┌─────────────┬────────┬─────────┬────────┬───────┬───────────────┬────────────────┐\n",
       "│ run_firm_id ┆ run_id ┆ firm_id ┆ period ┆ price ┆ prompt_prefix ┆ price_log_diff │\n",
       "│ ---         ┆ ---    ┆ ---     ┆ ---    ┆ ---   ┆ ---           ┆ ---            │\n",
       "│ str         ┆ u32    ┆ u32     ┆ i64    ┆ f64   ┆ str           ┆ f64            │\n",
       "╞═════════════╪════════╪═════════╪════════╪═══════╪═══════════════╪════════════════╡\n",
       "│ 1_1         ┆ 1      ┆ 1       ┆ 1      ┆ 2.75  ┆ P1            ┆ 0.0            │\n",
       "│ 1_1         ┆ 1      ┆ 1       ┆ 2      ┆ 3.0   ┆ P1            ┆ 0.087011       │\n",
       "│ 1_1         ┆ 1      ┆ 1       ┆ 3      ┆ 3.25  ┆ P1            ┆ 0.080043       │\n",
       "│ 1_1         ┆ 1      ┆ 1       ┆ 4      ┆ 2.9   ┆ P1            ┆ -0.113944      │\n",
       "│ 1_1         ┆ 1      ┆ 1       ┆ 5      ┆ 3.1   ┆ P1            ┆ 0.066691       │\n",
       "│ …           ┆ …      ┆ …       ┆ …      ┆ …     ┆ …             ┆ …              │\n",
       "│ 42_5        ┆ 42     ┆ 5       ┆ 296    ┆ 1.401 ┆ P1            ┆ -0.000714      │\n",
       "│ 42_5        ┆ 42     ┆ 5       ┆ 297    ┆ 1.402 ┆ P1            ┆ 0.000714       │\n",
       "│ 42_5        ┆ 42     ┆ 5       ┆ 298    ┆ 1.401 ┆ P1            ┆ -0.000714      │\n",
       "│ 42_5        ┆ 42     ┆ 5       ┆ 299    ┆ 1.403 ┆ P1            ┆ 0.001427       │\n",
       "│ 42_5        ┆ 42     ┆ 5       ┆ 300    ┆ 1.402 ┆ P1            ┆ -0.000713      │\n",
       "└─────────────┴────────┴─────────┴────────┴───────┴───────────────┴────────────────┘"
      ]
     },
     "execution_count": 5,
     "metadata": {},
     "output_type": "execute_result"
    }
   ],
   "source": [
    "df = df.with_columns(\n",
    "    (pl.col(\"price\").log())\n",
    "    .diff(1)\n",
    "    .over(\"run_firm_id\")\n",
    "    .fill_null(0)\n",
    "    .alias(\"price_log_diff\")  # NOTE! This uses log differences\n",
    ")\n",
    "\n",
    "df = df.with_columns(\n",
    "    pl.when(pl.col(\"price_log_diff\").is_infinite())\n",
    "    .then(0)\n",
    "    .otherwise(pl.col(\"price_log_diff\"))\n",
    "    .alias(\"price_log_diff\")\n",
    ")\n",
    "df"
   ]
  },
  {
   "cell_type": "markdown",
   "id": "0c14d60d",
   "metadata": {},
   "source": [
    "# Fixed effects regression (trigger strategy)\n",
    "---"
   ]
  },
  {
   "cell_type": "markdown",
   "id": "67aec21f",
   "metadata": {},
   "source": [
    "We are interested in the responsiveness of agents to each other since it is a feature of a reward-punishment strategy. We are interested in stickiness since it measures the persistence of such rewards and punishments.\n",
    "\n",
    "To measure responsiveness and stickiness, we perform a linear regression with the following model:\n",
    "$$p_{i,r}^t = \\alpha_{i,r} + \\gamma p_{i,r}^{t-1} + \\delta p_{-i,r}^{t-1}+\\epsilon_{i,r}^{t}$$\n",
    "\n",
    "$$\\Delta \\log(p_{i,r}^t) =   \\gamma \\Delta \\log(p_{i,r}^{t-1}) + \\delta \\Delta \\log(p_{-i,r}^{t-1})+ \\Delta \\epsilon_{i,r}^{t}$$\n",
    "\n",
    "\n",
    "where $p_{i,r}^t$ is the price set by the agent $i$ at period $t$ of run $r$ of the experiment, $p_{i,r}^t$ is the price set by competitors at period $t$ of run $r$ and nd $α_{i,r}$ is a firm-run fixed effect."
   ]
  },
  {
   "cell_type": "code",
   "execution_count": 6,
   "id": "96e0bc9e",
   "metadata": {},
   "outputs": [
    {
     "data": {
      "text/html": [
       "<div><style>\n",
       ".dataframe > thead > tr,\n",
       ".dataframe > tbody > tr {\n",
       "  text-align: right;\n",
       "  white-space: pre-wrap;\n",
       "}\n",
       "</style>\n",
       "<small>shape: (63_000, 7)</small><table border=\"1\" class=\"dataframe\"><thead><tr><th>run_firm_id</th><th>run_id</th><th>firm_id</th><th>period</th><th>price</th><th>prompt_prefix</th><th>price_log_diff</th></tr><tr><td>str</td><td>u32</td><td>u32</td><td>i64</td><td>f64</td><td>str</td><td>f64</td></tr></thead><tbody><tr><td>&quot;1_1&quot;</td><td>1</td><td>1</td><td>1</td><td>2.75</td><td>&quot;P1&quot;</td><td>0.0</td></tr><tr><td>&quot;1_1&quot;</td><td>1</td><td>1</td><td>2</td><td>3.0</td><td>&quot;P1&quot;</td><td>0.087011</td></tr><tr><td>&quot;1_1&quot;</td><td>1</td><td>1</td><td>3</td><td>3.25</td><td>&quot;P1&quot;</td><td>0.080043</td></tr><tr><td>&quot;1_1&quot;</td><td>1</td><td>1</td><td>4</td><td>2.9</td><td>&quot;P1&quot;</td><td>-0.113944</td></tr><tr><td>&quot;1_1&quot;</td><td>1</td><td>1</td><td>5</td><td>3.1</td><td>&quot;P1&quot;</td><td>0.066691</td></tr><tr><td>&hellip;</td><td>&hellip;</td><td>&hellip;</td><td>&hellip;</td><td>&hellip;</td><td>&hellip;</td><td>&hellip;</td></tr><tr><td>&quot;42_5&quot;</td><td>42</td><td>5</td><td>296</td><td>1.401</td><td>&quot;P1&quot;</td><td>-0.000714</td></tr><tr><td>&quot;42_5&quot;</td><td>42</td><td>5</td><td>297</td><td>1.402</td><td>&quot;P1&quot;</td><td>0.000714</td></tr><tr><td>&quot;42_5&quot;</td><td>42</td><td>5</td><td>298</td><td>1.401</td><td>&quot;P1&quot;</td><td>-0.000714</td></tr><tr><td>&quot;42_5&quot;</td><td>42</td><td>5</td><td>299</td><td>1.403</td><td>&quot;P1&quot;</td><td>0.001427</td></tr><tr><td>&quot;42_5&quot;</td><td>42</td><td>5</td><td>300</td><td>1.402</td><td>&quot;P1&quot;</td><td>-0.000713</td></tr></tbody></table></div>"
      ],
      "text/plain": [
       "shape: (63_000, 7)\n",
       "┌─────────────┬────────┬─────────┬────────┬───────┬───────────────┬────────────────┐\n",
       "│ run_firm_id ┆ run_id ┆ firm_id ┆ period ┆ price ┆ prompt_prefix ┆ price_log_diff │\n",
       "│ ---         ┆ ---    ┆ ---     ┆ ---    ┆ ---   ┆ ---           ┆ ---            │\n",
       "│ str         ┆ u32    ┆ u32     ┆ i64    ┆ f64   ┆ str           ┆ f64            │\n",
       "╞═════════════╪════════╪═════════╪════════╪═══════╪═══════════════╪════════════════╡\n",
       "│ 1_1         ┆ 1      ┆ 1       ┆ 1      ┆ 2.75  ┆ P1            ┆ 0.0            │\n",
       "│ 1_1         ┆ 1      ┆ 1       ┆ 2      ┆ 3.0   ┆ P1            ┆ 0.087011       │\n",
       "│ 1_1         ┆ 1      ┆ 1       ┆ 3      ┆ 3.25  ┆ P1            ┆ 0.080043       │\n",
       "│ 1_1         ┆ 1      ┆ 1       ┆ 4      ┆ 2.9   ┆ P1            ┆ -0.113944      │\n",
       "│ 1_1         ┆ 1      ┆ 1       ┆ 5      ┆ 3.1   ┆ P1            ┆ 0.066691       │\n",
       "│ …           ┆ …      ┆ …       ┆ …      ┆ …     ┆ …             ┆ …              │\n",
       "│ 42_5        ┆ 42     ┆ 5       ┆ 296    ┆ 1.401 ┆ P1            ┆ -0.000714      │\n",
       "│ 42_5        ┆ 42     ┆ 5       ┆ 297    ┆ 1.402 ┆ P1            ┆ 0.000714       │\n",
       "│ 42_5        ┆ 42     ┆ 5       ┆ 298    ┆ 1.401 ┆ P1            ┆ -0.000714      │\n",
       "│ 42_5        ┆ 42     ┆ 5       ┆ 299    ┆ 1.403 ┆ P1            ┆ 0.001427       │\n",
       "│ 42_5        ┆ 42     ┆ 5       ┆ 300    ┆ 1.402 ┆ P1            ┆ -0.000713      │\n",
       "└─────────────┴────────┴─────────┴────────┴───────┴───────────────┴────────────────┘"
      ]
     },
     "execution_count": 6,
     "metadata": {},
     "output_type": "execute_result"
    }
   ],
   "source": [
    "df"
   ]
  },
  {
   "cell_type": "code",
   "execution_count": 7,
   "id": "a495cb0f",
   "metadata": {},
   "outputs": [
    {
     "data": {
      "text/html": [
       "<div><style>\n",
       ".dataframe > thead > tr,\n",
       ".dataframe > tbody > tr {\n",
       "  text-align: right;\n",
       "  white-space: pre-wrap;\n",
       "}\n",
       "</style>\n",
       "<small>shape: (2_058, 16)</small><table border=\"1\" class=\"dataframe\"><thead><tr><th>run_id</th><th>period</th><th>prompt_prefix</th><th>1_log_diff</th><th>2_log_diff</th><th>3_log_diff</th><th>4_log_diff</th><th>5_log_diff</th><th>1_log_diff_lag</th><th>2_log_diff_lag</th><th>3_log_diff_lag</th><th>4_log_diff_lag</th><th>5_log_diff_lag</th><th>price_log_diff</th><th>price_log_diff_lag_own</th><th>price_log_diff_lag_comp_avg</th></tr><tr><td>u32</td><td>i64</td><td>str</td><td>f64</td><td>f64</td><td>f64</td><td>f64</td><td>f64</td><td>f64</td><td>f64</td><td>f64</td><td>f64</td><td>f64</td><td>f64</td><td>f64</td><td>f64</td></tr></thead><tbody><tr><td>1</td><td>2</td><td>&quot;P1&quot;</td><td>0.087011</td><td>-0.120003</td><td>0.223144</td><td>-0.133531</td><td>0.405465</td><td>0.0</td><td>0.0</td><td>0.0</td><td>0.0</td><td>0.0</td><td>-0.120003</td><td>0.0</td><td>0.0</td></tr><tr><td>1</td><td>4</td><td>&quot;P1&quot;</td><td>-0.113944</td><td>-0.154151</td><td>0.154151</td><td>-0.087011</td><td>-0.105361</td><td>0.080043</td><td>-0.133531</td><td>0.182322</td><td>-0.154151</td><td>-0.182322</td><td>-0.087011</td><td>-0.154151</td><td>-0.013372</td></tr><tr><td>1</td><td>6</td><td>&quot;P1&quot;</td><td>-0.101783</td><td>-0.09531</td><td>-0.064539</td><td>-0.061875</td><td>-0.024098</td><td>0.066691</td><td>-0.087011</td><td>0.133531</td><td>-0.09531</td><td>-0.068993</td><td>-0.101783</td><td>0.066691</td><td>-0.029446</td></tr><tr><td>1</td><td>8</td><td>&quot;P1&quot;</td><td>-0.070204</td><td>-0.117783</td><td>-0.080043</td><td>-0.021979</td><td>-0.014052</td><td>0.052186</td><td>-0.105361</td><td>-0.143101</td><td>-0.021506</td><td>0.047628</td><td>-0.080043</td><td>-0.143101</td><td>-0.006763</td></tr><tr><td>1</td><td>10</td><td>&quot;P1&quot;</td><td>-0.054067</td><td>-0.154151</td><td>0.017094</td><td>-0.031322</td><td>-0.014528</td><td>0.035718</td><td>-0.133531</td><td>-0.033902</td><td>0.00885</td><td>-0.019048</td><td>-0.014528</td><td>-0.019048</td><td>-0.030716</td></tr><tr><td>&hellip;</td><td>&hellip;</td><td>&hellip;</td><td>&hellip;</td><td>&hellip;</td><td>&hellip;</td><td>&hellip;</td><td>&hellip;</td><td>&hellip;</td><td>&hellip;</td><td>&hellip;</td><td>&hellip;</td><td>&hellip;</td><td>&hellip;</td><td>&hellip;</td><td>&hellip;</td></tr><tr><td>42</td><td>90</td><td>&quot;P1&quot;</td><td>0.0</td><td>-0.000825</td><td>-0.000632</td><td>0.0</td><td>0.0</td><td>0.0</td><td>-0.000824</td><td>-0.001263</td><td>-0.00068</td><td>0.0</td><td>0.0</td><td>0.0</td><td>-0.000692</td></tr><tr><td>42</td><td>92</td><td>&quot;P1&quot;</td><td>0.0</td><td>-0.000826</td><td>-0.000633</td><td>-0.000681</td><td>0.0</td><td>0.0</td><td>-0.000825</td><td>-0.000632</td><td>-0.000681</td><td>0.0</td><td>-0.000826</td><td>-0.000825</td><td>-0.000328</td></tr><tr><td>42</td><td>94</td><td>&quot;P1&quot;</td><td>0.0008</td><td>-0.000827</td><td>-0.000634</td><td>-0.001364</td><td>0.0</td><td>0.0</td><td>-0.000827</td><td>-0.000633</td><td>-0.000681</td><td>0.0</td><td>-0.001364</td><td>-0.000681</td><td>-0.000365</td></tr><tr><td>42</td><td>96</td><td>&quot;P1&quot;</td><td>-0.003203</td><td>-0.000829</td><td>-0.000634</td><td>-0.001371</td><td>0.0</td><td>0.0008</td><td>-0.000828</td><td>-0.000634</td><td>-0.003419</td><td>0.0</td><td>-0.003203</td><td>0.0008</td><td>-0.00122</td></tr><tr><td>42</td><td>98</td><td>&quot;P1&quot;</td><td>0.000801</td><td>0.000827</td><td>0.004426</td><td>-0.006906</td><td>-0.000713</td><td>0.000802</td><td>0.001657</td><td>0.001268</td><td>-0.003435</td><td>-0.000712</td><td>0.004426</td><td>0.001268</td><td>-0.000422</td></tr></tbody></table></div>"
      ],
      "text/plain": [
       "shape: (2_058, 16)\n",
       "┌────────┬────────┬────────────┬────────────┬───┬────────────┬────────────┬────────────┬───────────┐\n",
       "│ run_id ┆ period ┆ prompt_pre ┆ 1_log_diff ┆ … ┆ 5_log_diff ┆ price_log_ ┆ price_log_ ┆ price_log │\n",
       "│ ---    ┆ ---    ┆ fix        ┆ ---        ┆   ┆ _lag       ┆ diff       ┆ diff_lag_o ┆ _diff_lag │\n",
       "│ u32    ┆ i64    ┆ ---        ┆ f64        ┆   ┆ ---        ┆ ---        ┆ wn         ┆ _comp_avg │\n",
       "│        ┆        ┆ str        ┆            ┆   ┆ f64        ┆ f64        ┆ ---        ┆ ---       │\n",
       "│        ┆        ┆            ┆            ┆   ┆            ┆            ┆ f64        ┆ f64       │\n",
       "╞════════╪════════╪════════════╪════════════╪═══╪════════════╪════════════╪════════════╪═══════════╡\n",
       "│ 1      ┆ 2      ┆ P1         ┆ 0.087011   ┆ … ┆ 0.0        ┆ -0.120003  ┆ 0.0        ┆ 0.0       │\n",
       "│ 1      ┆ 4      ┆ P1         ┆ -0.113944  ┆ … ┆ -0.182322  ┆ -0.087011  ┆ -0.154151  ┆ -0.013372 │\n",
       "│ 1      ┆ 6      ┆ P1         ┆ -0.101783  ┆ … ┆ -0.068993  ┆ -0.101783  ┆ 0.066691   ┆ -0.029446 │\n",
       "│ 1      ┆ 8      ┆ P1         ┆ -0.070204  ┆ … ┆ 0.047628   ┆ -0.080043  ┆ -0.143101  ┆ -0.006763 │\n",
       "│ 1      ┆ 10     ┆ P1         ┆ -0.054067  ┆ … ┆ -0.019048  ┆ -0.014528  ┆ -0.019048  ┆ -0.030716 │\n",
       "│ …      ┆ …      ┆ …          ┆ …          ┆ … ┆ …          ┆ …          ┆ …          ┆ …         │\n",
       "│ 42     ┆ 90     ┆ P1         ┆ 0.0        ┆ … ┆ 0.0        ┆ 0.0        ┆ 0.0        ┆ -0.000692 │\n",
       "│ 42     ┆ 92     ┆ P1         ┆ 0.0        ┆ … ┆ 0.0        ┆ -0.000826  ┆ -0.000825  ┆ -0.000328 │\n",
       "│ 42     ┆ 94     ┆ P1         ┆ 0.0008     ┆ … ┆ 0.0        ┆ -0.001364  ┆ -0.000681  ┆ -0.000365 │\n",
       "│ 42     ┆ 96     ┆ P1         ┆ -0.003203  ┆ … ┆ 0.0        ┆ -0.003203  ┆ 0.0008     ┆ -0.00122  │\n",
       "│ 42     ┆ 98     ┆ P1         ┆ 0.000801   ┆ … ┆ -0.000712  ┆ 0.004426   ┆ 0.001268   ┆ -0.000422 │\n",
       "└────────┴────────┴────────────┴────────────┴───┴────────────┴────────────┴────────────┴───────────┘"
      ]
     },
     "execution_count": 7,
     "metadata": {},
     "output_type": "execute_result"
    }
   ],
   "source": [
    "df_fe = (\n",
    "    df.pivot(\n",
    "        values=\"price_log_diff\",\n",
    "        index=[\"run_id\", \"period\", \"prompt_prefix\"],\n",
    "        on=\"firm_id\",\n",
    "    )\n",
    "    .rename(\n",
    "        {\n",
    "            \"1\": \"1_log_diff\",\n",
    "            \"2\": \"2_log_diff\",\n",
    "            \"3\": \"3_log_diff\",\n",
    "            \"4\": \"4_log_diff\",\n",
    "            \"5\": \"5_log_diff\",\n",
    "        }\n",
    "    )\n",
    "    .with_columns(\n",
    "        [\n",
    "            pl.col(\"1_log_diff\").shift(1).alias(\"1_log_diff_lag\"),\n",
    "            pl.col(\"2_log_diff\").shift(1).alias(\"2_log_diff_lag\"),\n",
    "            pl.col(\"3_log_diff\").shift(1).alias(\"3_log_diff_lag\"),\n",
    "            pl.col(\"4_log_diff\").shift(1).alias(\"4_log_diff_lag\"),\n",
    "            pl.col(\"5_log_diff\").shift(1).alias(\"5_log_diff_lag\"),\n",
    "        ]\n",
    "    )\n",
    "    .filter(pl.col('period')<100)\n",
    "    # Keep only disjoint periods\n",
    "    .filter(pl.col(\"period\") % 2 == 0)\n",
    "    # Alternate firms: period % 5 == 1 → firm 1, 2 → firm 2, ..., 0 → firm 5\n",
    "    .with_columns(\n",
    "        [\n",
    "            pl.when(pl.col(\"period\") % 5 == 1)\n",
    "            .then(pl.col(\"1_log_diff\"))\n",
    "            .when(pl.col(\"period\") % 5 == 2)\n",
    "            .then(pl.col(\"2_log_diff\"))\n",
    "            .when(pl.col(\"period\") % 5 == 3)\n",
    "            .then(pl.col(\"3_log_diff\"))\n",
    "            .when(pl.col(\"period\") % 5 == 4)\n",
    "            .then(pl.col(\"4_log_diff\"))\n",
    "            .otherwise(pl.col(\"5_log_diff\"))\n",
    "            .alias(\"price_log_diff\"),\n",
    "            pl.when(pl.col(\"period\") % 5 == 1)\n",
    "            .then(pl.col(\"1_log_diff_lag\"))\n",
    "            .when(pl.col(\"period\") % 5 == 2)\n",
    "            .then(pl.col(\"2_log_diff_lag\"))\n",
    "            .when(pl.col(\"period\") % 5 == 3)\n",
    "            .then(pl.col(\"3_log_diff_lag\"))\n",
    "            .when(pl.col(\"period\") % 5 == 4)\n",
    "            .then(pl.col(\"4_log_diff_lag\"))\n",
    "            .otherwise(pl.col(\"5_log_diff_lag\"))\n",
    "            .alias(\"price_log_diff_lag_own\"),\n",
    "            pl.when(pl.col(\"period\") % 5 == 1)\n",
    "            .then(\n",
    "                pl.concat_list(\n",
    "                    [\n",
    "                        pl.col(\"2_log_diff_lag\"),\n",
    "                        pl.col(\"3_log_diff_lag\"),\n",
    "                        pl.col(\"4_log_diff_lag\"),\n",
    "                        pl.col(\"5_log_diff_lag\"),\n",
    "                    ]\n",
    "                ).list.mean()\n",
    "            )\n",
    "            .when(pl.col(\"period\") % 5 == 2)\n",
    "            .then(\n",
    "                pl.concat_list(\n",
    "                    [\n",
    "                        pl.col(\"1_log_diff_lag\"),\n",
    "                        pl.col(\"3_log_diff_lag\"),\n",
    "                        pl.col(\"4_log_diff_lag\"),\n",
    "                        pl.col(\"5_log_diff_lag\"),\n",
    "                    ]\n",
    "                ).list.mean()\n",
    "            )\n",
    "            .when(pl.col(\"period\") % 5 == 3)\n",
    "            .then(\n",
    "                pl.concat_list(\n",
    "                    [\n",
    "                        pl.col(\"1_log_diff_lag\"),\n",
    "                        pl.col(\"2_log_diff_lag\"),\n",
    "                        pl.col(\"4_log_diff_lag\"),\n",
    "                        pl.col(\"5_log_diff_lag\"),\n",
    "                    ]\n",
    "                ).list.mean()\n",
    "            )\n",
    "            .when(pl.col(\"period\") % 5 == 4)\n",
    "            .then(\n",
    "                pl.concat_list(\n",
    "                    [\n",
    "                        pl.col(\"1_log_diff_lag\"),\n",
    "                        pl.col(\"2_log_diff_lag\"),\n",
    "                        pl.col(\"3_log_diff_lag\"),\n",
    "                        pl.col(\"5_log_diff_lag\"),\n",
    "                    ]\n",
    "                ).list.mean()\n",
    "            )\n",
    "            .otherwise(\n",
    "                pl.concat_list(\n",
    "                    [\n",
    "                        pl.col(\"1_log_diff_lag\"),\n",
    "                        pl.col(\"2_log_diff_lag\"),\n",
    "                        pl.col(\"3_log_diff_lag\"),\n",
    "                        pl.col(\"4_log_diff_lag\"),\n",
    "                    ]\n",
    "                ).list.mean()\n",
    "            )\n",
    "            .alias(\"price_log_diff_lag_comp_avg\"),\n",
    "        ]\n",
    "    )\n",
    "    .sort([\"run_id\", \"period\", \"prompt_prefix\"])\n",
    "    .fill_nan(0)\n",
    ")\n",
    "\n",
    "df_fe"
   ]
  },
  {
   "cell_type": "code",
   "execution_count": 8,
   "id": "4f11d9aa",
   "metadata": {},
   "outputs": [
    {
     "data": {
      "text/html": [
       "<div><style>\n",
       ".dataframe > thead > tr,\n",
       ".dataframe > tbody > tr {\n",
       "  text-align: right;\n",
       "  white-space: pre-wrap;\n",
       "}\n",
       "</style>\n",
       "<small>shape: (2_058, 6)</small><table border=\"1\" class=\"dataframe\"><thead><tr><th>run_id</th><th>period</th><th>prompt_prefix</th><th>price_log_diff</th><th>price_log_diff_lag_own</th><th>price_log_diff_lag_comp_avg</th></tr><tr><td>u32</td><td>i64</td><td>str</td><td>f64</td><td>f64</td><td>f64</td></tr></thead><tbody><tr><td>1</td><td>2</td><td>&quot;P1&quot;</td><td>-0.120003</td><td>0.0</td><td>0.0</td></tr><tr><td>1</td><td>4</td><td>&quot;P1&quot;</td><td>-0.087011</td><td>-0.154151</td><td>-0.013372</td></tr><tr><td>1</td><td>6</td><td>&quot;P1&quot;</td><td>-0.101783</td><td>0.066691</td><td>-0.029446</td></tr><tr><td>1</td><td>8</td><td>&quot;P1&quot;</td><td>-0.080043</td><td>-0.143101</td><td>-0.006763</td></tr><tr><td>1</td><td>10</td><td>&quot;P1&quot;</td><td>-0.014528</td><td>-0.019048</td><td>-0.030716</td></tr><tr><td>&hellip;</td><td>&hellip;</td><td>&hellip;</td><td>&hellip;</td><td>&hellip;</td><td>&hellip;</td></tr><tr><td>42</td><td>90</td><td>&quot;P1&quot;</td><td>0.0</td><td>0.0</td><td>-0.000692</td></tr><tr><td>42</td><td>92</td><td>&quot;P1&quot;</td><td>-0.000826</td><td>-0.000825</td><td>-0.000328</td></tr><tr><td>42</td><td>94</td><td>&quot;P1&quot;</td><td>-0.001364</td><td>-0.000681</td><td>-0.000365</td></tr><tr><td>42</td><td>96</td><td>&quot;P1&quot;</td><td>-0.003203</td><td>0.0008</td><td>-0.00122</td></tr><tr><td>42</td><td>98</td><td>&quot;P1&quot;</td><td>0.004426</td><td>0.001268</td><td>-0.000422</td></tr></tbody></table></div>"
      ],
      "text/plain": [
       "shape: (2_058, 6)\n",
       "┌────────┬────────┬───────────────┬────────────────┬───────────────────────┬───────────────────────┐\n",
       "│ run_id ┆ period ┆ prompt_prefix ┆ price_log_diff ┆ price_log_diff_lag_ow ┆ price_log_diff_lag_co │\n",
       "│ ---    ┆ ---    ┆ ---           ┆ ---            ┆ n                     ┆ mp_avg                │\n",
       "│ u32    ┆ i64    ┆ str           ┆ f64            ┆ ---                   ┆ ---                   │\n",
       "│        ┆        ┆               ┆                ┆ f64                   ┆ f64                   │\n",
       "╞════════╪════════╪═══════════════╪════════════════╪═══════════════════════╪═══════════════════════╡\n",
       "│ 1      ┆ 2      ┆ P1            ┆ -0.120003      ┆ 0.0                   ┆ 0.0                   │\n",
       "│ 1      ┆ 4      ┆ P1            ┆ -0.087011      ┆ -0.154151             ┆ -0.013372             │\n",
       "│ 1      ┆ 6      ┆ P1            ┆ -0.101783      ┆ 0.066691              ┆ -0.029446             │\n",
       "│ 1      ┆ 8      ┆ P1            ┆ -0.080043      ┆ -0.143101             ┆ -0.006763             │\n",
       "│ 1      ┆ 10     ┆ P1            ┆ -0.014528      ┆ -0.019048             ┆ -0.030716             │\n",
       "│ …      ┆ …      ┆ …             ┆ …              ┆ …                     ┆ …                     │\n",
       "│ 42     ┆ 90     ┆ P1            ┆ 0.0            ┆ 0.0                   ┆ -0.000692             │\n",
       "│ 42     ┆ 92     ┆ P1            ┆ -0.000826      ┆ -0.000825             ┆ -0.000328             │\n",
       "│ 42     ┆ 94     ┆ P1            ┆ -0.001364      ┆ -0.000681             ┆ -0.000365             │\n",
       "│ 42     ┆ 96     ┆ P1            ┆ -0.003203      ┆ 0.0008                ┆ -0.00122              │\n",
       "│ 42     ┆ 98     ┆ P1            ┆ 0.004426       ┆ 0.001268              ┆ -0.000422             │\n",
       "└────────┴────────┴───────────────┴────────────────┴───────────────────────┴───────────────────────┘"
      ]
     },
     "execution_count": 8,
     "metadata": {},
     "output_type": "execute_result"
    }
   ],
   "source": [
    "df_fe = df_fe.select(\n",
    "    [\n",
    "        \"run_id\",\n",
    "        \"period\",\n",
    "        \"prompt_prefix\",\n",
    "        \"price_log_diff\",\n",
    "        \"price_log_diff_lag_own\",\n",
    "        \"price_log_diff_lag_comp_avg\",\n",
    "        # \"price_log_diff_lag_comp_1\",\n",
    "        # \"price_log_diff_lag_comp_2\",\n",
    "    ]\n",
    ")\n",
    "df_fe"
   ]
  },
  {
   "cell_type": "code",
   "execution_count": 9,
   "id": "1417b10c",
   "metadata": {},
   "outputs": [
    {
     "data": {
      "text/html": [
       "<div><style>\n",
       ".dataframe > thead > tr,\n",
       ".dataframe > tbody > tr {\n",
       "  text-align: right;\n",
       "  white-space: pre-wrap;\n",
       "}\n",
       "</style>\n",
       "<small>shape: (2, 2)</small><table border=\"1\" class=\"dataframe\"><thead><tr><th>prompt_prefix</th><th>count</th></tr><tr><td>str</td><td>u32</td></tr></thead><tbody><tr><td>&quot;P1&quot;</td><td>1029</td></tr><tr><td>&quot;P2&quot;</td><td>1029</td></tr></tbody></table></div>"
      ],
      "text/plain": [
       "shape: (2, 2)\n",
       "┌───────────────┬───────┐\n",
       "│ prompt_prefix ┆ count │\n",
       "│ ---           ┆ ---   │\n",
       "│ str           ┆ u32   │\n",
       "╞═══════════════╪═══════╡\n",
       "│ P1            ┆ 1029  │\n",
       "│ P2            ┆ 1029  │\n",
       "└───────────────┴───────┘"
      ]
     },
     "execution_count": 9,
     "metadata": {},
     "output_type": "execute_result"
    }
   ],
   "source": [
    "df_fe[\"prompt_prefix\"].value_counts()"
   ]
  },
  {
   "cell_type": "markdown",
   "id": "3234b34e",
   "metadata": {},
   "source": [
    "## P1vsP1"
   ]
  },
  {
   "cell_type": "code",
   "execution_count": 10,
   "id": "9ec0e792",
   "metadata": {},
   "outputs": [
    {
     "data": {
      "text/html": [
       "<div><style>\n",
       ".dataframe > thead > tr,\n",
       ".dataframe > tbody > tr {\n",
       "  text-align: right;\n",
       "  white-space: pre-wrap;\n",
       "}\n",
       "</style>\n",
       "<small>shape: (1_029, 6)</small><table border=\"1\" class=\"dataframe\"><thead><tr><th>run_id</th><th>period</th><th>prompt_prefix</th><th>price_log_diff</th><th>price_log_diff_lag_own</th><th>price_log_diff_lag_comp_avg</th></tr><tr><td>u32</td><td>i64</td><td>str</td><td>f64</td><td>f64</td><td>f64</td></tr></thead><tbody><tr><td>1</td><td>2</td><td>&quot;P1&quot;</td><td>-0.120003</td><td>0.0</td><td>0.0</td></tr><tr><td>1</td><td>4</td><td>&quot;P1&quot;</td><td>-0.087011</td><td>-0.154151</td><td>-0.013372</td></tr><tr><td>1</td><td>6</td><td>&quot;P1&quot;</td><td>-0.101783</td><td>0.066691</td><td>-0.029446</td></tr><tr><td>1</td><td>8</td><td>&quot;P1&quot;</td><td>-0.080043</td><td>-0.143101</td><td>-0.006763</td></tr><tr><td>1</td><td>10</td><td>&quot;P1&quot;</td><td>-0.014528</td><td>-0.019048</td><td>-0.030716</td></tr><tr><td>&hellip;</td><td>&hellip;</td><td>&hellip;</td><td>&hellip;</td><td>&hellip;</td><td>&hellip;</td></tr><tr><td>42</td><td>90</td><td>&quot;P1&quot;</td><td>0.0</td><td>0.0</td><td>-0.000692</td></tr><tr><td>42</td><td>92</td><td>&quot;P1&quot;</td><td>-0.000826</td><td>-0.000825</td><td>-0.000328</td></tr><tr><td>42</td><td>94</td><td>&quot;P1&quot;</td><td>-0.001364</td><td>-0.000681</td><td>-0.000365</td></tr><tr><td>42</td><td>96</td><td>&quot;P1&quot;</td><td>-0.003203</td><td>0.0008</td><td>-0.00122</td></tr><tr><td>42</td><td>98</td><td>&quot;P1&quot;</td><td>0.004426</td><td>0.001268</td><td>-0.000422</td></tr></tbody></table></div>"
      ],
      "text/plain": [
       "shape: (1_029, 6)\n",
       "┌────────┬────────┬───────────────┬────────────────┬───────────────────────┬───────────────────────┐\n",
       "│ run_id ┆ period ┆ prompt_prefix ┆ price_log_diff ┆ price_log_diff_lag_ow ┆ price_log_diff_lag_co │\n",
       "│ ---    ┆ ---    ┆ ---           ┆ ---            ┆ n                     ┆ mp_avg                │\n",
       "│ u32    ┆ i64    ┆ str           ┆ f64            ┆ ---                   ┆ ---                   │\n",
       "│        ┆        ┆               ┆                ┆ f64                   ┆ f64                   │\n",
       "╞════════╪════════╪═══════════════╪════════════════╪═══════════════════════╪═══════════════════════╡\n",
       "│ 1      ┆ 2      ┆ P1            ┆ -0.120003      ┆ 0.0                   ┆ 0.0                   │\n",
       "│ 1      ┆ 4      ┆ P1            ┆ -0.087011      ┆ -0.154151             ┆ -0.013372             │\n",
       "│ 1      ┆ 6      ┆ P1            ┆ -0.101783      ┆ 0.066691              ┆ -0.029446             │\n",
       "│ 1      ┆ 8      ┆ P1            ┆ -0.080043      ┆ -0.143101             ┆ -0.006763             │\n",
       "│ 1      ┆ 10     ┆ P1            ┆ -0.014528      ┆ -0.019048             ┆ -0.030716             │\n",
       "│ …      ┆ …      ┆ …             ┆ …              ┆ …                     ┆ …                     │\n",
       "│ 42     ┆ 90     ┆ P1            ┆ 0.0            ┆ 0.0                   ┆ -0.000692             │\n",
       "│ 42     ┆ 92     ┆ P1            ┆ -0.000826      ┆ -0.000825             ┆ -0.000328             │\n",
       "│ 42     ┆ 94     ┆ P1            ┆ -0.001364      ┆ -0.000681             ┆ -0.000365             │\n",
       "│ 42     ┆ 96     ┆ P1            ┆ -0.003203      ┆ 0.0008                ┆ -0.00122              │\n",
       "│ 42     ┆ 98     ┆ P1            ┆ 0.004426       ┆ 0.001268              ┆ -0.000422             │\n",
       "└────────┴────────┴───────────────┴────────────────┴───────────────────────┴───────────────────────┘"
      ]
     },
     "execution_count": 10,
     "metadata": {},
     "output_type": "execute_result"
    }
   ],
   "source": [
    "df_fe_p1 = df_fe.filter(pl.col(\"prompt_prefix\") == \"P1\").sort([\"run_id\", \"period\"])\n",
    "df_fe_p1"
   ]
  },
  {
   "cell_type": "code",
   "execution_count": 11,
   "id": "64afa0ef",
   "metadata": {},
   "outputs": [
    {
     "data": {
      "application/vnd.microsoft.datawrangler.viewer.v0+json": {
       "columns": [
        {
         "name": "('run_id', 'period')",
         "rawType": "object",
         "type": "unknown"
        },
        {
         "name": "prompt_prefix",
         "rawType": "object",
         "type": "string"
        },
        {
         "name": "price_log_diff",
         "rawType": "float64",
         "type": "float"
        },
        {
         "name": "price_log_diff_lag_own",
         "rawType": "float64",
         "type": "float"
        },
        {
         "name": "price_log_diff_lag_comp_avg",
         "rawType": "float64",
         "type": "float"
        }
       ],
       "ref": "01cd33ba-a616-4f9f-9a38-bb2a96313bbd",
       "rows": [
        [
         "(np.uint32(1), np.int64(2))",
         "P1",
         "-0.12000279239469647",
         "0.0",
         "0.0"
        ],
        [
         "(np.uint32(1), np.int64(4))",
         "P1",
         "-0.08701137698962991",
         "-0.15415067982725827",
         "-0.013372171237746533"
        ],
        [
         "(np.uint32(1), np.int64(6))",
         "P1",
         "-0.10178269430994247",
         "0.06669137449867235",
         "-0.0294457589140959"
        ],
        [
         "(np.uint32(1), np.int64(8))",
         "P1",
         "-0.08004270767353638",
         "-0.14310084364067333",
         "-0.006763229679741273"
        ],
        [
         "(np.uint32(1), np.int64(10))",
         "P1",
         "-0.014528100562909874",
         "-0.019048194970694543",
         "-0.030716311605285568"
        ]
       ],
       "shape": {
        "columns": 4,
        "rows": 5
       }
      },
      "text/html": [
       "<div>\n",
       "<style scoped>\n",
       "    .dataframe tbody tr th:only-of-type {\n",
       "        vertical-align: middle;\n",
       "    }\n",
       "\n",
       "    .dataframe tbody tr th {\n",
       "        vertical-align: top;\n",
       "    }\n",
       "\n",
       "    .dataframe thead th {\n",
       "        text-align: right;\n",
       "    }\n",
       "</style>\n",
       "<table border=\"1\" class=\"dataframe\">\n",
       "  <thead>\n",
       "    <tr style=\"text-align: right;\">\n",
       "      <th></th>\n",
       "      <th></th>\n",
       "      <th>prompt_prefix</th>\n",
       "      <th>price_log_diff</th>\n",
       "      <th>price_log_diff_lag_own</th>\n",
       "      <th>price_log_diff_lag_comp_avg</th>\n",
       "    </tr>\n",
       "    <tr>\n",
       "      <th>run_id</th>\n",
       "      <th>period</th>\n",
       "      <th></th>\n",
       "      <th></th>\n",
       "      <th></th>\n",
       "      <th></th>\n",
       "    </tr>\n",
       "  </thead>\n",
       "  <tbody>\n",
       "    <tr>\n",
       "      <th rowspan=\"5\" valign=\"top\">1</th>\n",
       "      <th>2</th>\n",
       "      <td>P1</td>\n",
       "      <td>-0.120003</td>\n",
       "      <td>0.000000</td>\n",
       "      <td>0.000000</td>\n",
       "    </tr>\n",
       "    <tr>\n",
       "      <th>4</th>\n",
       "      <td>P1</td>\n",
       "      <td>-0.087011</td>\n",
       "      <td>-0.154151</td>\n",
       "      <td>-0.013372</td>\n",
       "    </tr>\n",
       "    <tr>\n",
       "      <th>6</th>\n",
       "      <td>P1</td>\n",
       "      <td>-0.101783</td>\n",
       "      <td>0.066691</td>\n",
       "      <td>-0.029446</td>\n",
       "    </tr>\n",
       "    <tr>\n",
       "      <th>8</th>\n",
       "      <td>P1</td>\n",
       "      <td>-0.080043</td>\n",
       "      <td>-0.143101</td>\n",
       "      <td>-0.006763</td>\n",
       "    </tr>\n",
       "    <tr>\n",
       "      <th>10</th>\n",
       "      <td>P1</td>\n",
       "      <td>-0.014528</td>\n",
       "      <td>-0.019048</td>\n",
       "      <td>-0.030716</td>\n",
       "    </tr>\n",
       "  </tbody>\n",
       "</table>\n",
       "</div>"
      ],
      "text/plain": [
       "              prompt_prefix  price_log_diff  price_log_diff_lag_own  \\\n",
       "run_id period                                                         \n",
       "1      2                 P1       -0.120003                0.000000   \n",
       "       4                 P1       -0.087011               -0.154151   \n",
       "       6                 P1       -0.101783                0.066691   \n",
       "       8                 P1       -0.080043               -0.143101   \n",
       "       10                P1       -0.014528               -0.019048   \n",
       "\n",
       "               price_log_diff_lag_comp_avg  \n",
       "run_id period                               \n",
       "1      2                          0.000000  \n",
       "       4                         -0.013372  \n",
       "       6                         -0.029446  \n",
       "       8                         -0.006763  \n",
       "       10                        -0.030716  "
      ]
     },
     "execution_count": 11,
     "metadata": {},
     "output_type": "execute_result"
    }
   ],
   "source": [
    "df_fe_p1 = df_fe_p1.to_pandas()\n",
    "df_fe_p1.set_index([\"run_id\", \"period\"], inplace=True)\n",
    "df_fe_p1.head()"
   ]
  },
  {
   "cell_type": "code",
   "execution_count": 12,
   "id": "400c5695",
   "metadata": {},
   "outputs": [
    {
     "name": "stdout",
     "output_type": "stream",
     "text": [
      "                          PanelOLS Estimation Summary                           \n",
      "================================================================================\n",
      "Dep. Variable:         price_log_diff   R-squared:                        0.0136\n",
      "Estimator:                   PanelOLS   R-squared (Between):              0.0553\n",
      "No. Observations:                1029   R-squared (Within):               0.0136\n",
      "Date:                Wed, Jul 02 2025   R-squared (Overall):              0.0143\n",
      "Time:                        18:38:26   Log-likelihood                    1593.0\n",
      "Cov. Estimator:                Robust                                           \n",
      "                                        F-statistic:                      6.9240\n",
      "Entities:                          21   P-value                           0.0010\n",
      "Avg Obs:                       49.000   Distribution:                  F(2,1006)\n",
      "Min Obs:                       49.000                                           \n",
      "Max Obs:                       49.000   F-statistic (robust):             0.3137\n",
      "                                        P-value                           0.7308\n",
      "Time periods:                      49   Distribution:                  F(2,1006)\n",
      "Avg Obs:                       21.000                                           \n",
      "Min Obs:                       21.000                                           \n",
      "Max Obs:                       21.000                                           \n",
      "                                                                                \n",
      "                                      Parameter Estimates                                      \n",
      "===============================================================================================\n",
      "                             Parameter  Std. Err.     T-stat    P-value    Lower CI    Upper CI\n",
      "-----------------------------------------------------------------------------------------------\n",
      "price_log_diff_lag_own          0.1147     0.1834     0.6251     0.5321     -0.2453      0.4746\n",
      "price_log_diff_lag_comp_avg     0.0065     0.1634     0.0401     0.9680     -0.3141      0.3272\n",
      "===============================================================================================\n",
      "\n",
      "F-test for Poolability: 0.6805\n",
      "P-value: 0.8483\n",
      "Distribution: F(20,1006)\n",
      "\n",
      "Included effects: Entity\n"
     ]
    }
   ],
   "source": [
    "# Run PanelOLS with entity effects (fixed effects)\n",
    "model = PanelOLS.from_formula(\n",
    "    \"price_log_diff ~ price_log_diff_lag_own + price_log_diff_lag_comp_avg + EntityEffects\",\n",
    "    data=df_fe_p1,\n",
    ").fit(cov_type=\"robust\")\n",
    "print(model.summary)"
   ]
  },
  {
   "cell_type": "markdown",
   "id": "232cca0f",
   "metadata": {},
   "source": [
    "## P2vsP2"
   ]
  },
  {
   "cell_type": "code",
   "execution_count": 13,
   "id": "e9284568",
   "metadata": {},
   "outputs": [
    {
     "data": {
      "text/html": [
       "<div><style>\n",
       ".dataframe > thead > tr,\n",
       ".dataframe > tbody > tr {\n",
       "  text-align: right;\n",
       "  white-space: pre-wrap;\n",
       "}\n",
       "</style>\n",
       "<small>shape: (1_029, 6)</small><table border=\"1\" class=\"dataframe\"><thead><tr><th>run_id</th><th>period</th><th>prompt_prefix</th><th>price_log_diff</th><th>price_log_diff_lag_own</th><th>price_log_diff_lag_comp_avg</th></tr><tr><td>u32</td><td>i64</td><td>str</td><td>f64</td><td>f64</td><td>f64</td></tr></thead><tbody><tr><td>10</td><td>2</td><td>&quot;P2&quot;</td><td>0.223144</td><td>0.0</td><td>0.0</td></tr><tr><td>10</td><td>4</td><td>&quot;P2&quot;</td><td>0.105361</td><td>-0.287682</td><td>-0.032609</td></tr><tr><td>10</td><td>6</td><td>&quot;P2&quot;</td><td>-0.057158</td><td>-0.027399</td><td>-0.202983</td></tr><tr><td>10</td><td>8</td><td>&quot;P2&quot;</td><td>-0.02353</td><td>0.047628</td><td>0.026767</td></tr><tr><td>10</td><td>10</td><td>&quot;P2&quot;</td><td>-0.028171</td><td>0.028171</td><td>0.020849</td></tr><tr><td>&hellip;</td><td>&hellip;</td><td>&hellip;</td><td>&hellip;</td><td>&hellip;</td><td>&hellip;</td></tr><tr><td>41</td><td>90</td><td>&quot;P2&quot;</td><td>-0.007968</td><td>-0.007905</td><td>-0.001992</td></tr><tr><td>41</td><td>92</td><td>&quot;P2&quot;</td><td>-0.008163</td><td>-0.008097</td><td>-0.002008</td></tr><tr><td>41</td><td>94</td><td>&quot;P2&quot;</td><td>0.0</td><td>0.0</td><td>-0.00405</td></tr><tr><td>41</td><td>96</td><td>&quot;P2&quot;</td><td>0.003711</td><td>-0.003711</td><td>-0.012632</td></tr><tr><td>41</td><td>98</td><td>&quot;P2&quot;</td><td>0.0</td><td>0.0</td><td>-0.01563</td></tr></tbody></table></div>"
      ],
      "text/plain": [
       "shape: (1_029, 6)\n",
       "┌────────┬────────┬───────────────┬────────────────┬───────────────────────┬───────────────────────┐\n",
       "│ run_id ┆ period ┆ prompt_prefix ┆ price_log_diff ┆ price_log_diff_lag_ow ┆ price_log_diff_lag_co │\n",
       "│ ---    ┆ ---    ┆ ---           ┆ ---            ┆ n                     ┆ mp_avg                │\n",
       "│ u32    ┆ i64    ┆ str           ┆ f64            ┆ ---                   ┆ ---                   │\n",
       "│        ┆        ┆               ┆                ┆ f64                   ┆ f64                   │\n",
       "╞════════╪════════╪═══════════════╪════════════════╪═══════════════════════╪═══════════════════════╡\n",
       "│ 10     ┆ 2      ┆ P2            ┆ 0.223144       ┆ 0.0                   ┆ 0.0                   │\n",
       "│ 10     ┆ 4      ┆ P2            ┆ 0.105361       ┆ -0.287682             ┆ -0.032609             │\n",
       "│ 10     ┆ 6      ┆ P2            ┆ -0.057158      ┆ -0.027399             ┆ -0.202983             │\n",
       "│ 10     ┆ 8      ┆ P2            ┆ -0.02353       ┆ 0.047628              ┆ 0.026767              │\n",
       "│ 10     ┆ 10     ┆ P2            ┆ -0.028171      ┆ 0.028171              ┆ 0.020849              │\n",
       "│ …      ┆ …      ┆ …             ┆ …              ┆ …                     ┆ …                     │\n",
       "│ 41     ┆ 90     ┆ P2            ┆ -0.007968      ┆ -0.007905             ┆ -0.001992             │\n",
       "│ 41     ┆ 92     ┆ P2            ┆ -0.008163      ┆ -0.008097             ┆ -0.002008             │\n",
       "│ 41     ┆ 94     ┆ P2            ┆ 0.0            ┆ 0.0                   ┆ -0.00405              │\n",
       "│ 41     ┆ 96     ┆ P2            ┆ 0.003711       ┆ -0.003711             ┆ -0.012632             │\n",
       "│ 41     ┆ 98     ┆ P2            ┆ 0.0            ┆ 0.0                   ┆ -0.01563              │\n",
       "└────────┴────────┴───────────────┴────────────────┴───────────────────────┴───────────────────────┘"
      ]
     },
     "execution_count": 13,
     "metadata": {},
     "output_type": "execute_result"
    }
   ],
   "source": [
    "df_fe_p2 = df_fe.filter(pl.col(\"prompt_prefix\") == \"P2\").sort([\"run_id\", \"period\"])\n",
    "df_fe_p2"
   ]
  },
  {
   "cell_type": "code",
   "execution_count": 14,
   "id": "b586ef26",
   "metadata": {},
   "outputs": [
    {
     "data": {
      "application/vnd.microsoft.datawrangler.viewer.v0+json": {
       "columns": [
        {
         "name": "('run_id', 'period')",
         "rawType": "object",
         "type": "unknown"
        },
        {
         "name": "prompt_prefix",
         "rawType": "object",
         "type": "string"
        },
        {
         "name": "price_log_diff",
         "rawType": "float64",
         "type": "float"
        },
        {
         "name": "price_log_diff_lag_own",
         "rawType": "float64",
         "type": "float"
        },
        {
         "name": "price_log_diff_lag_comp_avg",
         "rawType": "float64",
         "type": "float"
        }
       ],
       "ref": "29891371-20e4-433b-bf13-8054509bdb72",
       "rows": [
        [
         "(np.uint32(10), np.int64(2))",
         "P2",
         "0.22314355131420982",
         "0.0",
         "0.0"
        ],
        [
         "(np.uint32(10), np.int64(4))",
         "P2",
         "0.10536051565782634",
         "-0.287682072451781",
         "-0.032608538302485585"
        ],
        [
         "(np.uint32(10), np.int64(6))",
         "P2",
         "-0.057158413839948685",
         "-0.027398974188114433",
         "-0.20298267913747806"
        ],
        [
         "(np.uint32(10), np.int64(8))",
         "P2",
         "-0.023530497410194084",
         "0.04762804898925466",
         "0.026766666613709453"
        ],
        [
         "(np.uint32(10), np.int64(10))",
         "P2",
         "-0.0281708769666964",
         "0.0281708769666964",
         "0.020848503766053836"
        ]
       ],
       "shape": {
        "columns": 4,
        "rows": 5
       }
      },
      "text/html": [
       "<div>\n",
       "<style scoped>\n",
       "    .dataframe tbody tr th:only-of-type {\n",
       "        vertical-align: middle;\n",
       "    }\n",
       "\n",
       "    .dataframe tbody tr th {\n",
       "        vertical-align: top;\n",
       "    }\n",
       "\n",
       "    .dataframe thead th {\n",
       "        text-align: right;\n",
       "    }\n",
       "</style>\n",
       "<table border=\"1\" class=\"dataframe\">\n",
       "  <thead>\n",
       "    <tr style=\"text-align: right;\">\n",
       "      <th></th>\n",
       "      <th></th>\n",
       "      <th>prompt_prefix</th>\n",
       "      <th>price_log_diff</th>\n",
       "      <th>price_log_diff_lag_own</th>\n",
       "      <th>price_log_diff_lag_comp_avg</th>\n",
       "    </tr>\n",
       "    <tr>\n",
       "      <th>run_id</th>\n",
       "      <th>period</th>\n",
       "      <th></th>\n",
       "      <th></th>\n",
       "      <th></th>\n",
       "      <th></th>\n",
       "    </tr>\n",
       "  </thead>\n",
       "  <tbody>\n",
       "    <tr>\n",
       "      <th rowspan=\"5\" valign=\"top\">10</th>\n",
       "      <th>2</th>\n",
       "      <td>P2</td>\n",
       "      <td>0.223144</td>\n",
       "      <td>0.000000</td>\n",
       "      <td>0.000000</td>\n",
       "    </tr>\n",
       "    <tr>\n",
       "      <th>4</th>\n",
       "      <td>P2</td>\n",
       "      <td>0.105361</td>\n",
       "      <td>-0.287682</td>\n",
       "      <td>-0.032609</td>\n",
       "    </tr>\n",
       "    <tr>\n",
       "      <th>6</th>\n",
       "      <td>P2</td>\n",
       "      <td>-0.057158</td>\n",
       "      <td>-0.027399</td>\n",
       "      <td>-0.202983</td>\n",
       "    </tr>\n",
       "    <tr>\n",
       "      <th>8</th>\n",
       "      <td>P2</td>\n",
       "      <td>-0.023530</td>\n",
       "      <td>0.047628</td>\n",
       "      <td>0.026767</td>\n",
       "    </tr>\n",
       "    <tr>\n",
       "      <th>10</th>\n",
       "      <td>P2</td>\n",
       "      <td>-0.028171</td>\n",
       "      <td>0.028171</td>\n",
       "      <td>0.020849</td>\n",
       "    </tr>\n",
       "  </tbody>\n",
       "</table>\n",
       "</div>"
      ],
      "text/plain": [
       "              prompt_prefix  price_log_diff  price_log_diff_lag_own  \\\n",
       "run_id period                                                         \n",
       "10     2                 P2        0.223144                0.000000   \n",
       "       4                 P2        0.105361               -0.287682   \n",
       "       6                 P2       -0.057158               -0.027399   \n",
       "       8                 P2       -0.023530                0.047628   \n",
       "       10                P2       -0.028171                0.028171   \n",
       "\n",
       "               price_log_diff_lag_comp_avg  \n",
       "run_id period                               \n",
       "10     2                          0.000000  \n",
       "       4                         -0.032609  \n",
       "       6                         -0.202983  \n",
       "       8                          0.026767  \n",
       "       10                         0.020849  "
      ]
     },
     "execution_count": 14,
     "metadata": {},
     "output_type": "execute_result"
    }
   ],
   "source": [
    "df_fe_p2 = df_fe_p2.to_pandas()\n",
    "df_fe_p2.set_index([\"run_id\", \"period\"], inplace=True)\n",
    "df_fe_p2.head()"
   ]
  },
  {
   "cell_type": "code",
   "execution_count": 15,
   "id": "f8f7bbeb",
   "metadata": {},
   "outputs": [
    {
     "name": "stdout",
     "output_type": "stream",
     "text": [
      "                          PanelOLS Estimation Summary                           \n",
      "================================================================================\n",
      "Dep. Variable:         price_log_diff   R-squared:                        0.0290\n",
      "Estimator:                   PanelOLS   R-squared (Between):             -0.0071\n",
      "No. Observations:                1029   R-squared (Within):               0.0290\n",
      "Date:                Wed, Jul 02 2025   R-squared (Overall):              0.0283\n",
      "Time:                        18:38:26   Log-likelihood                    1014.9\n",
      "Cov. Estimator:                Robust                                           \n",
      "                                        F-statistic:                      15.038\n",
      "Entities:                          21   P-value                           0.0000\n",
      "Avg Obs:                       49.000   Distribution:                  F(2,1006)\n",
      "Min Obs:                       49.000                                           \n",
      "Max Obs:                       49.000   F-statistic (robust):             2.9420\n",
      "                                        P-value                           0.0532\n",
      "Time periods:                      49   Distribution:                  F(2,1006)\n",
      "Avg Obs:                       21.000                                           \n",
      "Min Obs:                       21.000                                           \n",
      "Max Obs:                       21.000                                           \n",
      "                                                                                \n",
      "                                      Parameter Estimates                                      \n",
      "===============================================================================================\n",
      "                             Parameter  Std. Err.     T-stat    P-value    Lower CI    Upper CI\n",
      "-----------------------------------------------------------------------------------------------\n",
      "price_log_diff_lag_own         -0.1652     0.1219    -1.3547     0.1758     -0.4044      0.0741\n",
      "price_log_diff_lag_comp_avg     0.4701     0.2047     2.2963     0.0219      0.0684      0.8718\n",
      "===============================================================================================\n",
      "\n",
      "F-test for Poolability: 1.0455\n",
      "P-value: 0.4042\n",
      "Distribution: F(20,1006)\n",
      "\n",
      "Included effects: Entity\n"
     ]
    }
   ],
   "source": [
    "# Run PanelOLS with entity effects (fixed effects)\n",
    "model = PanelOLS.from_formula(\n",
    "    \"price_log_diff ~ price_log_diff_lag_own + price_log_diff_lag_comp_avg + EntityEffects\",\n",
    "    data=df_fe_p2,\n",
    ").fit(cov_type=\"robust\")\n",
    "print(model.summary)"
   ]
  }
 ],
 "metadata": {
  "kernelspec": {
   "display_name": ".venv",
   "language": "python",
   "name": "python3"
  },
  "language_info": {
   "codemirror_mode": {
    "name": "ipython",
    "version": 3
   },
   "file_extension": ".py",
   "mimetype": "text/x-python",
   "name": "python",
   "nbconvert_exporter": "python",
   "pygments_lexer": "ipython3",
   "version": "3.11.12"
  }
 },
 "nbformat": 4,
 "nbformat_minor": 5
}
