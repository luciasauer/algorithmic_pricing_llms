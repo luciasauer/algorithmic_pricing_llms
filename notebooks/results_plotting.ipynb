{
 "cells": [
  {
   "cell_type": "code",
   "execution_count": null,
   "id": "2702efc9",
   "metadata": {},
   "outputs": [],
   "source": [
    "import os\n",
    "import sys\n",
    "\n",
    "sys.path.append(os.path.abspath(\"..\"))\n",
    "\n",
    "import polars as pl\n",
    "from pathlib import Path\n",
    "\n",
    "from src.utils.utils import has_converged_to_price\n",
    "from src.plotting.final_figures import plot_monopoly_experiment_svg\n",
    "from src.utils.experiments_export import concat_experiments_to_parquet\n",
    "\n",
    "OUPUT_PATH = Path(\"../latex/imgs/results/\")\n",
    "OUPUT_PATH.mkdir(parents=True, exist_ok=True)\n",
    "DATA_OUTPUT_PATH = Path(\"../data/results/\")\n",
    "DATA_OUTPUT_PATH.mkdir(parents=True, exist_ok=True)\n",
    "INPUT_PATH = Path(\"../experiments_synthetic/experiments_runs/\")"
   ]
  },
  {
   "cell_type": "markdown",
   "id": "cd7e8441",
   "metadata": {},
   "source": [
    "# Functions\n",
    "---"
   ]
  },
  {
   "cell_type": "markdown",
   "id": "93c9e037",
   "metadata": {},
   "source": [
    "## Monopoly\n"
   ]
  },
  {
   "cell_type": "code",
   "execution_count": null,
   "id": "d68e6e45",
   "metadata": {},
   "outputs": [
    {
     "name": "stdout",
     "output_type": "stream",
     "text": [
      "Unfinished experiments found (SKIPPED):\n",
      " - 3_agents/1751112912_oligopoly_setting_3_firms_P2\n",
      " - 2_agents/1751225659_duopoly_setting_P2_asymmetric\n",
      " - 3_agents/1751315360_oligopoly_setting_3_firms_P2\n",
      " - 2_agents/1751050177_duopoly_setting_P1\n",
      " - 2_agents/1751052605_duopoly_setting_P1\n",
      " - 3_agents/1751117060_oligopoly_setting_3_firms_P2\n",
      " - 3_agents/1751106785_oligopoly_setting_3_firms_P2\n",
      " - 3_agents/1751121653_oligopoly_setting_3_firms_P2\n",
      " - 3_agents/1751117083_oligopoly_setting_3_firms_P2\n",
      "-----> Missing experiment runs on: is_synthetic=True, is_symmetric=False, num_agents=2 for prefix_type=P2 and alpha=10 (only 6 runs)\n",
      "\n",
      "Total incomplete groups: 1\n",
      "Rebalancing will be done only on complete groups.\n",
      "Final runs count by (is_synthetic, is_symmetric, num_agents, alpha, agent_prefix_type):\n",
      "is_synthetic=True, is_symmetric=True, num_agents=1:\n",
      "  alpha=1.0, prefix=OTHER => runs: 2\n",
      "  alpha=3.2, prefix=OTHER => runs: 2\n",
      "  alpha=10.0, prefix=OTHER => runs: 2\n",
      "\n",
      "is_synthetic=True, is_symmetric=True, num_agents=2:\n",
      "  alpha=1.0, prefix=P1 => runs: 7\n",
      "  alpha=1.0, prefix=P2 => runs: 7\n",
      "  alpha=3.2, prefix=P1 => runs: 7\n",
      "  alpha=3.2, prefix=P2 => runs: 7\n",
      "  alpha=10.0, prefix=P1 => runs: 7\n",
      "  alpha=10.0, prefix=P2 => runs: 7\n",
      "\n",
      "is_synthetic=True, is_symmetric=True, num_agents=3:\n",
      "  alpha=1.0, prefix=P1 => runs: 7\n",
      "  alpha=1.0, prefix=P2 => runs: 7\n",
      "  alpha=3.2, prefix=P1 => runs: 7\n",
      "  alpha=3.2, prefix=P2 => runs: 7\n",
      "  alpha=10.0, prefix=P1 => runs: 7\n",
      "  alpha=10.0, prefix=P2 => runs: 7\n",
      "\n",
      "Rebalanced dataset size: 64800 rows\n",
      "Saved concatenated parquet file with 64800 rows to ../data/results/all_experiments.parquet\n"
     ]
    }
   ],
   "source": [
    "concat_experiments_to_parquet(\n",
    "    experiment_dirs=INPUT_PATH,\n",
    "    output_path=DATA_OUTPUT_PATH / \"all_experiments.parquet\",\n",
    "    rebalance_exper=True,\n",
    "    min_rebalance=7,\n",
    "    keep_min_exactly=False,\n",
    ")"
   ]
  },
  {
   "cell_type": "markdown",
   "id": "4bd75969",
   "metadata": {},
   "source": [
    "# Plots\n",
    "---"
   ]
  },
  {
   "cell_type": "markdown",
   "id": "29972196",
   "metadata": {},
   "source": [
    "## Monopoly"
   ]
  },
  {
   "cell_type": "code",
   "execution_count": null,
   "id": "ccdf55c2",
   "metadata": {},
   "outputs": [],
   "source": [
    "MONOPOLY_OUPUT_PATH = Path(OUPUT_PATH) / \"monopoly\"\n",
    "MONOPOLY_INPUT_PATH = Path(INPUT_PATH) / \"1_agents\"\n",
    "MONOPOLY_OUPUT_PATH.mkdir(parents=True, exist_ok=True)"
   ]
  },
  {
   "cell_type": "code",
   "execution_count": null,
   "id": "eb4831b3",
   "metadata": {},
   "outputs": [],
   "source": [
    "for folder in MONOPOLY_INPUT_PATH.iterdir():\n",
    "    if not folder.is_dir():\n",
    "        continue\n",
    "    print(f\"Processing folder: {folder.name}\")\n",
    "    metadata = pl.read_json(folder / \"metadata.json\").to_dicts()[0]\n",
    "    df = pl.read_parquet(folder / \"environment_history.parquet\")\n",
    "\n",
    "    price_monopoly = (\n",
    "        metadata.get(\"environment\").get(\"environment_params\").get(\"monopoly_prices\")[0]\n",
    "    )\n",
    "    price_series = df.select(\"price\").to_series().to_list()\n",
    "    has_converged_to_price(price_series, price_monopoly)"
   ]
  },
  {
   "cell_type": "code",
   "execution_count": null,
   "id": "ec972d40",
   "metadata": {},
   "outputs": [],
   "source": [
    "df = pl.read_parquet(\n",
    "    MONOPOLY_INPUT_PATH / \"1750960646_monopoly_setting\" / \"environment_history.parquet\"\n",
    ")"
   ]
  },
  {
   "cell_type": "code",
   "execution_count": null,
   "id": "d4ef7e80",
   "metadata": {},
   "outputs": [],
   "source": [
    "plot_monopoly_experiment_svg(\n",
    "    df=df,\n",
    "    title=\"Monopoly Experiment\",\n",
    "    metadata=metadata,\n",
    "    save_path=MONOPOLY_OUPUT_PATH / \"monopoly_experiment_complete\",\n",
    "    show_quantities=False,\n",
    "    show_profits=False,\n",
    "    plot_references=True,\n",
    "    display=False,\n",
    ")"
   ]
  },
  {
   "cell_type": "code",
   "execution_count": null,
   "id": "c78771b6",
   "metadata": {},
   "outputs": [],
   "source": [
    "results = []\n",
    "\n",
    "for folder in MONOPOLY_INPUT_PATH.iterdir():\n",
    "    if not folder.is_dir():\n",
    "        continue\n",
    "\n",
    "    metadata = pl.read_json(folder / \"metadata.json\").to_dicts()[0]\n",
    "    df = pl.read_parquet(folder / \"environment_history.parquet\")\n",
    "\n",
    "    alpha = metadata[\"environment\"][\"environment_params\"][\"alpha\"][0]\n",
    "\n",
    "    # Default model name\n",
    "    model_name = \"mistral-large-2411\"\n",
    "    agents_models = metadata.get(\"agents_models\")\n",
    "    if agents_models is not None and \"Firm A\" in agents_models:\n",
    "        model_name = agents_models[\"Firm A\"]\n",
    "\n",
    "    price_monopoly = (\n",
    "        metadata[\"environment\"][\"environment_params\"][\"monopoly_prices\"][0] / alpha\n",
    "    )\n",
    "    price_series = (df.select(\"price\").to_series().to_numpy() / alpha).tolist()\n",
    "\n",
    "    run_name = folder.name.split(\"_\")[0]\n",
    "\n",
    "    model_size = \"Small\" if \"small\" in model_name.lower() else \"Large\"\n",
    "\n",
    "    # Create one row per price\n",
    "    for round_num, price in enumerate(price_series, start=1):\n",
    "        results.append(\n",
    "            {\n",
    "                # \"model_name\": model_name,\n",
    "                # \"alpha\": alpha,\n",
    "                \"agent\": f\"{model_size}\",  # -alpha={alpha}\",\n",
    "                \"agent_type\": \"LLM\",\n",
    "                \"price\": price,\n",
    "                \"monopoly_price\": price_monopoly,\n",
    "                \"deviated\": price_monopoly - price,\n",
    "                \"dev_percent\": (price_monopoly - price) / price_monopoly * 100,\n",
    "                \"outside_range\": int(\n",
    "                    price < price_monopoly * 0.95 or price > price_monopoly * 1.05\n",
    "                ),\n",
    "                \"run\": run_name,\n",
    "                \"round\": round_num,\n",
    "            }\n",
    "        )\n",
    "\n",
    "df = pl.DataFrame(results).filter(pl.col(\"round\") > 200).sort(\"round\")\n",
    "df"
   ]
  },
  {
   "cell_type": "code",
   "execution_count": null,
   "id": "da0975fd",
   "metadata": {},
   "outputs": [],
   "source": [
    "# run statistics by agent type and price, deviation and dev_percent\n",
    "stats = (\n",
    "    df.group_by([\"agent\"])\n",
    "    .agg(\n",
    "        [\n",
    "            pl.mean(\"price\").alias(\"mean_price\"),\n",
    "            pl.mean(\"deviated\").alias(\"mean_deviated\"),\n",
    "            pl.mean(\"dev_percent\").alias(\"mean_dev_percent\"),\n",
    "            pl.std(\"price\").alias(\"std_price\"),\n",
    "            pl.std(\"dev_percent\").alias(\"std_dev_percent\"),\n",
    "            pl.sum(\"outside_range\").alias(\"outside_range_count\"),\n",
    "        ]\n",
    "    )\n",
    "    .sort(\"agent\")\n",
    ")\n",
    "stats = stats.to_pandas()\n",
    "stats"
   ]
  }
 ],
 "metadata": {
  "kernelspec": {
   "display_name": "algorithmic-pricing-llms",
   "language": "python",
   "name": "python3"
  },
  "language_info": {
   "codemirror_mode": {
    "name": "ipython",
    "version": 3
   },
   "file_extension": ".py",
   "mimetype": "text/x-python",
   "name": "python",
   "nbconvert_exporter": "python",
   "pygments_lexer": "ipython3",
   "version": "3.11.6"
  }
 },
 "nbformat": 4,
 "nbformat_minor": 5
}
