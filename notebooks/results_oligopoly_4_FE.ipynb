{
 "cells": [
  {
   "cell_type": "code",
   "execution_count": 1,
   "id": "2702efc9",
   "metadata": {},
   "outputs": [],
   "source": [
    "import os\n",
    "import sys\n",
    "\n",
    "sys.path.append(os.path.abspath(\"..\"))\n",
    "\n",
    "import pandas as pd\n",
    "import polars as pl\n",
    "from pathlib import Path\n",
    "\n",
    "from linearmodels.panel import PanelOLS\n",
    "from statsmodels.tsa.stattools import adfuller\n",
    "\n",
    "OUPUT_PATH = Path(\"../latex/imgs/res/\")\n",
    "OUPUT_PATH.mkdir(parents=True, exist_ok=True)\n",
    "OUPUT_TABLES_PATH = Path(\"../latex/tables/\")\n",
    "OUPUT_TABLES_PATH.mkdir(parents=True, exist_ok=True)\n",
    "DATA_OUTPUT_PATH = Path(\"../data/results/\")\n",
    "DATA_OUTPUT_PATH.mkdir(parents=True, exist_ok=True)\n",
    "\n",
    "DUOPOLY_OUPUT_PATH = Path(OUPUT_PATH) / \"duopoly\"\n",
    "DUOPOLY_OUPUT_PATH.mkdir(parents=True, exist_ok=True)"
   ]
  },
  {
   "cell_type": "code",
   "execution_count": 2,
   "id": "98010813",
   "metadata": {},
   "outputs": [
    {
     "data": {
      "text/html": [
       "<div><style>\n",
       ".dataframe > thead > tr,\n",
       ".dataframe > tbody > tr {\n",
       "  text-align: right;\n",
       "  white-space: pre-wrap;\n",
       "}\n",
       "</style>\n",
       "<small>shape: (50_400, 6)</small><table border=\"1\" class=\"dataframe\"><thead><tr><th>run_firm_id</th><th>run_id</th><th>firm_id</th><th>period</th><th>price</th><th>prompt_prefix</th></tr><tr><td>str</td><td>u32</td><td>u32</td><td>i64</td><td>f64</td><td>str</td></tr></thead><tbody><tr><td>&quot;1_1&quot;</td><td>1</td><td>1</td><td>1</td><td>4.51</td><td>&quot;P1&quot;</td></tr><tr><td>&quot;1_1&quot;</td><td>1</td><td>1</td><td>2</td><td>4.0</td><td>&quot;P1&quot;</td></tr><tr><td>&quot;1_1&quot;</td><td>1</td><td>1</td><td>3</td><td>3.5</td><td>&quot;P1&quot;</td></tr><tr><td>&quot;1_1&quot;</td><td>1</td><td>1</td><td>4</td><td>3.0</td><td>&quot;P1&quot;</td></tr><tr><td>&quot;1_1&quot;</td><td>1</td><td>1</td><td>5</td><td>2.75</td><td>&quot;P1&quot;</td></tr><tr><td>&hellip;</td><td>&hellip;</td><td>&hellip;</td><td>&hellip;</td><td>&hellip;</td><td>&hellip;</td></tr><tr><td>&quot;42_4&quot;</td><td>42</td><td>4</td><td>296</td><td>1.2705</td><td>&quot;P2&quot;</td></tr><tr><td>&quot;42_4&quot;</td><td>42</td><td>4</td><td>297</td><td>1.269</td><td>&quot;P2&quot;</td></tr><tr><td>&quot;42_4&quot;</td><td>42</td><td>4</td><td>298</td><td>1.267</td><td>&quot;P2&quot;</td></tr><tr><td>&quot;42_4&quot;</td><td>42</td><td>4</td><td>299</td><td>1.275</td><td>&quot;P2&quot;</td></tr><tr><td>&quot;42_4&quot;</td><td>42</td><td>4</td><td>300</td><td>1.276</td><td>&quot;P2&quot;</td></tr></tbody></table></div>"
      ],
      "text/plain": [
       "shape: (50_400, 6)\n",
       "┌─────────────┬────────┬─────────┬────────┬────────┬───────────────┐\n",
       "│ run_firm_id ┆ run_id ┆ firm_id ┆ period ┆ price  ┆ prompt_prefix │\n",
       "│ ---         ┆ ---    ┆ ---     ┆ ---    ┆ ---    ┆ ---           │\n",
       "│ str         ┆ u32    ┆ u32     ┆ i64    ┆ f64    ┆ str           │\n",
       "╞═════════════╪════════╪═════════╪════════╪════════╪═══════════════╡\n",
       "│ 1_1         ┆ 1      ┆ 1       ┆ 1      ┆ 4.51   ┆ P1            │\n",
       "│ 1_1         ┆ 1      ┆ 1       ┆ 2      ┆ 4.0    ┆ P1            │\n",
       "│ 1_1         ┆ 1      ┆ 1       ┆ 3      ┆ 3.5    ┆ P1            │\n",
       "│ 1_1         ┆ 1      ┆ 1       ┆ 4      ┆ 3.0    ┆ P1            │\n",
       "│ 1_1         ┆ 1      ┆ 1       ┆ 5      ┆ 2.75   ┆ P1            │\n",
       "│ …           ┆ …      ┆ …       ┆ …      ┆ …      ┆ …             │\n",
       "│ 42_4        ┆ 42     ┆ 4       ┆ 296    ┆ 1.2705 ┆ P2            │\n",
       "│ 42_4        ┆ 42     ┆ 4       ┆ 297    ┆ 1.269  ┆ P2            │\n",
       "│ 42_4        ┆ 42     ┆ 4       ┆ 298    ┆ 1.267  ┆ P2            │\n",
       "│ 42_4        ┆ 42     ┆ 4       ┆ 299    ┆ 1.275  ┆ P2            │\n",
       "│ 42_4        ┆ 42     ┆ 4       ┆ 300    ┆ 1.276  ┆ P2            │\n",
       "└─────────────┴────────┴─────────┴────────┴────────┴───────────────┘"
      ]
     },
     "execution_count": 2,
     "metadata": {},
     "output_type": "execute_result"
    }
   ],
   "source": [
    "df = (\n",
    "    pl.read_parquet(DATA_OUTPUT_PATH / \"all_experiments.parquet\")\n",
    "    .filter((pl.col(\"num_agents\") == 4) & (pl.col(\"is_symmetric\")))\n",
    "    .with_columns(\n",
    "        (pl.col(\"experiment_timestamp\").rank(\"dense\")).alias(\"run_id\"),\n",
    "        (pl.col(\"agent\").rank(\"dense\")).alias(\"firm_id\"),\n",
    "        pl.col(\"chosen_price\").truediv(pl.col(\"alpha\")).round(4).alias(\"price\"),\n",
    "    )\n",
    "    .rename(\n",
    "        {\n",
    "            \"round\": \"period\",\n",
    "            \"price\": \"price\",\n",
    "            \"agent_prefix_type\": \"prompt_prefix\",\n",
    "        }\n",
    "    )\n",
    "    .with_columns(\n",
    "        # concat run_id and firm_id to create a unique identifier\n",
    "        pl.concat_str([\"run_id\", \"firm_id\"], separator=\"_\").alias(\"run_firm_id\")\n",
    "    )\n",
    "    .select([\"run_firm_id\", \"run_id\", \"firm_id\", \"period\", \"price\", \"prompt_prefix\"])\n",
    "    .sort([\"run_id\", \"firm_id\", \"period\"])\n",
    ")\n",
    "df"
   ]
  },
  {
   "cell_type": "markdown",
   "id": "b5d5db3d",
   "metadata": {},
   "source": [
    "# Stationarity check\n",
    "---"
   ]
  },
  {
   "cell_type": "markdown",
   "id": "5b862620",
   "metadata": {},
   "source": [
    "- https://www.statsmodels.org/stable/generated/statsmodels.tsa.stattools.adfuller.html\n",
    "\n",
    "The null hypothesis of the Augmented Dickey-Fuller is that there is a unit root, with the alternative that there is no unit root. If the pvalue is above a critical size, then we cannot reject that there is a unit root.\n",
    "\n",
    "The p-values are obtained through regression surface approximation from MacKinnon 1994, but using the updated 2010 tables. If the p-value is close to significant, then the critical values should be used to judge whether to reject the null.\n",
    "\n",
    "The autolag option and maxlag for it are described in Greene."
   ]
  },
  {
   "cell_type": "code",
   "execution_count": 3,
   "id": "dc657e25",
   "metadata": {},
   "outputs": [
    {
     "name": "stdout",
     "output_type": "stream",
     "text": [
      "Summary of ADF Test Results by run_firm_id:\n",
      "            run_firm_id\n",
      "stationary             \n",
      "False                65\n",
      "True                103\n",
      "\n",
      "Detailed Results:\n",
      "    run_firm_id  test_statistic       p_value  stationary\n",
      "0          26_2       -1.734914  4.132195e-01       False\n",
      "1          34_4       -0.650129  8.592481e-01       False\n",
      "2           1_2       -0.994473  7.552747e-01       False\n",
      "3          26_4       -7.189057  2.531660e-10        True\n",
      "4          19_4        1.208067  9.960411e-01       False\n",
      "..          ...             ...           ...         ...\n",
      "163        38_4       -2.212858  2.016117e-01       False\n",
      "164         5_1       -2.072425  2.557461e-01       False\n",
      "165        17_1      -11.372270  8.919184e-21        True\n",
      "166         4_3       -2.099287  2.448015e-01       False\n",
      "167         5_3       -7.055780  5.380089e-10        True\n",
      "\n",
      "[168 rows x 4 columns]\n",
      "\n",
      "Number of stationary series: 103\n",
      "Number of non-stationary series: 65\n"
     ]
    }
   ],
   "source": [
    "# Initialize counters\n",
    "stationary_count = 0\n",
    "non_stationary_count = 0\n",
    "\n",
    "# Initialize a list to collect results\n",
    "results = []\n",
    "\n",
    "# Iterate through each firm ID\n",
    "for firm_id in df[\"run_firm_id\"].unique():\n",
    "    # Filter series for the current firm_id\n",
    "    series = (\n",
    "        df.filter(pl.col(\"run_firm_id\") == firm_id)\n",
    "        .select(\"price\")\n",
    "        .to_series()\n",
    "        .to_list()\n",
    "    )\n",
    "\n",
    "    # Run ADF test\n",
    "    result = adfuller(series, maxlag=22)\n",
    "\n",
    "    # Interpret the result\n",
    "    test_statistic = result[0]\n",
    "    p_value = result[1]\n",
    "\n",
    "    # Determine stationarity\n",
    "    if p_value < 0.05:\n",
    "        stationary = True\n",
    "        stationary_count += 1\n",
    "    else:\n",
    "        stationary = False\n",
    "        non_stationary_count += 1\n",
    "\n",
    "    # Append result to list\n",
    "    results.append(\n",
    "        {\n",
    "            \"run_firm_id\": firm_id,\n",
    "            \"test_statistic\": test_statistic,\n",
    "            \"p_value\": p_value,\n",
    "            \"stationary\": stationary,\n",
    "        }\n",
    "    )\n",
    "\n",
    "# Create a DataFrame from results\n",
    "results_df = pd.DataFrame(results)\n",
    "\n",
    "# Print summary table\n",
    "print(\"Summary of ADF Test Results by run_firm_id:\")\n",
    "print(results_df[[\"run_firm_id\", \"stationary\"]].groupby(\"stationary\").count())\n",
    "\n",
    "# Optionally, print additional details\n",
    "print(\"\\nDetailed Results:\")\n",
    "print(results_df)\n",
    "\n",
    "# Optionally, you can also print counts\n",
    "print(f\"\\nNumber of stationary series: {stationary_count}\")\n",
    "print(f\"Number of non-stationary series: {non_stationary_count}\")"
   ]
  },
  {
   "cell_type": "code",
   "execution_count": 4,
   "id": "cee6a717",
   "metadata": {},
   "outputs": [
    {
     "name": "stdout",
     "output_type": "stream",
     "text": [
      "Summary of ADF Test Results by run_firm_id:\n",
      "            run_firm_id\n",
      "stationary             \n",
      "False                 2\n",
      "True                166\n",
      "\n",
      "Detailed Results:\n",
      "    run_firm_id  test_statistic       p_value  stationary\n",
      "0          13_4       -2.889914  4.653345e-02        True\n",
      "1           6_2      -21.783106  0.000000e+00        True\n",
      "2           2_4      -20.595056  0.000000e+00        True\n",
      "3          21_2      -11.469054  5.322234e-21        True\n",
      "4          10_4       -1.836192  3.626470e-01       False\n",
      "..          ...             ...           ...         ...\n",
      "163        19_1       -4.796868  5.514112e-05        True\n",
      "164        13_3       -7.837926  6.044838e-12        True\n",
      "165        26_2      -19.441406  0.000000e+00        True\n",
      "166        38_2       -8.198020  7.358976e-13        True\n",
      "167        25_4       -5.310505  5.207857e-06        True\n",
      "\n",
      "[168 rows x 4 columns]\n",
      "\n",
      "Number of stationary series: 166\n",
      "Number of non-stationary series: 2\n"
     ]
    }
   ],
   "source": [
    "# Initialize counters\n",
    "stationary_count = 0\n",
    "non_stationary_count = 0\n",
    "\n",
    "# Initialize a list to collect results\n",
    "results = []\n",
    "\n",
    "# Iterate through each firm ID\n",
    "for firm_id in df[\"run_firm_id\"].unique():\n",
    "    # Filter series for the current firm_id\n",
    "    series = (\n",
    "        df.filter(pl.col(\"run_firm_id\") == firm_id)\n",
    "        .with_columns(\n",
    "            #   pl.col(\"price\").diff(1).fill_null(0).alias(\"price_diff\")\n",
    "            (pl.col(\"price\").log())\n",
    "            .diff(1)\n",
    "            .fill_null(0)\n",
    "            .alias(\"price_diff\")  # NOTE! This uses log differences\n",
    "        )\n",
    "        .select(\"price_diff\")\n",
    "        .to_series()\n",
    "        .to_list()\n",
    "    )\n",
    "\n",
    "    # Run ADF test\n",
    "    result = adfuller(series, maxlag=22)\n",
    "\n",
    "    # Interpret the result\n",
    "    test_statistic = result[0]\n",
    "    p_value = result[1]\n",
    "\n",
    "    # Determine stationarity\n",
    "    if p_value < 0.05:\n",
    "        stationary = True\n",
    "        stationary_count += 1\n",
    "    else:\n",
    "        stationary = False\n",
    "        non_stationary_count += 1\n",
    "\n",
    "    # Append result to list\n",
    "    results.append(\n",
    "        {\n",
    "            \"run_firm_id\": firm_id,\n",
    "            \"test_statistic\": test_statistic,\n",
    "            \"p_value\": p_value,\n",
    "            \"stationary\": stationary,\n",
    "        }\n",
    "    )\n",
    "\n",
    "# Create a DataFrame from results\n",
    "results_df = pd.DataFrame(results)\n",
    "\n",
    "# Print summary table\n",
    "print(\"Summary of ADF Test Results by run_firm_id:\")\n",
    "print(results_df[[\"run_firm_id\", \"stationary\"]].groupby(\"stationary\").count())\n",
    "\n",
    "# Optionally, print additional details\n",
    "print(\"\\nDetailed Results:\")\n",
    "print(results_df)\n",
    "\n",
    "# Optionally, you can also print counts\n",
    "print(f\"\\nNumber of stationary series: {stationary_count}\")\n",
    "print(f\"Number of non-stationary series: {non_stationary_count}\")"
   ]
  },
  {
   "cell_type": "markdown",
   "id": "d6d0e61a",
   "metadata": {},
   "source": [
    "We need to work with price differences."
   ]
  },
  {
   "cell_type": "code",
   "execution_count": 5,
   "id": "c008a28c",
   "metadata": {},
   "outputs": [
    {
     "data": {
      "text/html": [
       "<div><style>\n",
       ".dataframe > thead > tr,\n",
       ".dataframe > tbody > tr {\n",
       "  text-align: right;\n",
       "  white-space: pre-wrap;\n",
       "}\n",
       "</style>\n",
       "<small>shape: (5, 7)</small><table border=\"1\" class=\"dataframe\"><thead><tr><th>run_firm_id</th><th>run_id</th><th>firm_id</th><th>period</th><th>price</th><th>prompt_prefix</th><th>price_log_diff</th></tr><tr><td>str</td><td>u32</td><td>u32</td><td>i64</td><td>f64</td><td>str</td><td>f64</td></tr></thead><tbody><tr><td>&quot;1_1&quot;</td><td>1</td><td>1</td><td>1</td><td>4.51</td><td>&quot;P1&quot;</td><td>0.0</td></tr><tr><td>&quot;1_1&quot;</td><td>1</td><td>1</td><td>2</td><td>4.0</td><td>&quot;P1&quot;</td><td>-0.120003</td></tr><tr><td>&quot;1_1&quot;</td><td>1</td><td>1</td><td>3</td><td>3.5</td><td>&quot;P1&quot;</td><td>-0.133531</td></tr><tr><td>&quot;1_1&quot;</td><td>1</td><td>1</td><td>4</td><td>3.0</td><td>&quot;P1&quot;</td><td>-0.154151</td></tr><tr><td>&quot;1_1&quot;</td><td>1</td><td>1</td><td>5</td><td>2.75</td><td>&quot;P1&quot;</td><td>-0.087011</td></tr></tbody></table></div>"
      ],
      "text/plain": [
       "shape: (5, 7)\n",
       "┌─────────────┬────────┬─────────┬────────┬───────┬───────────────┬────────────────┐\n",
       "│ run_firm_id ┆ run_id ┆ firm_id ┆ period ┆ price ┆ prompt_prefix ┆ price_log_diff │\n",
       "│ ---         ┆ ---    ┆ ---     ┆ ---    ┆ ---   ┆ ---           ┆ ---            │\n",
       "│ str         ┆ u32    ┆ u32     ┆ i64    ┆ f64   ┆ str           ┆ f64            │\n",
       "╞═════════════╪════════╪═════════╪════════╪═══════╪═══════════════╪════════════════╡\n",
       "│ 1_1         ┆ 1      ┆ 1       ┆ 1      ┆ 4.51  ┆ P1            ┆ 0.0            │\n",
       "│ 1_1         ┆ 1      ┆ 1       ┆ 2      ┆ 4.0   ┆ P1            ┆ -0.120003      │\n",
       "│ 1_1         ┆ 1      ┆ 1       ┆ 3      ┆ 3.5   ┆ P1            ┆ -0.133531      │\n",
       "│ 1_1         ┆ 1      ┆ 1       ┆ 4      ┆ 3.0   ┆ P1            ┆ -0.154151      │\n",
       "│ 1_1         ┆ 1      ┆ 1       ┆ 5      ┆ 2.75  ┆ P1            ┆ -0.087011      │\n",
       "└─────────────┴────────┴─────────┴────────┴───────┴───────────────┴────────────────┘"
      ]
     },
     "execution_count": 5,
     "metadata": {},
     "output_type": "execute_result"
    }
   ],
   "source": [
    "df = df.with_columns(\n",
    "    (pl.col(\"price\").log())\n",
    "    .diff(1)\n",
    "    .over(\"run_firm_id\")\n",
    "    .fill_null(0)\n",
    "    .alias(\"price_log_diff\")  # NOTE! This uses log differences\n",
    ")\n",
    "df.head()"
   ]
  },
  {
   "cell_type": "markdown",
   "id": "0c14d60d",
   "metadata": {},
   "source": [
    "# Fixed effects regression (trigger strategy)\n",
    "---"
   ]
  },
  {
   "cell_type": "markdown",
   "id": "67aec21f",
   "metadata": {},
   "source": [
    "We are interested in the responsiveness of agents to each other since it is a feature of a reward-punishment strategy. We are interested in stickiness since it measures the persistence of such rewards and punishments.\n",
    "\n",
    "To measure responsiveness and stickiness, we perform a linear regression with the following model:\n",
    "$$p_{i,r}^t = \\alpha_{i,r} + \\gamma p_{i,r}^{t-1} + \\delta p_{-i,r}^{t-1}+\\epsilon_{i,r}^{t}$$\n",
    "\n",
    "$$\\Delta \\log(p_{i,r}^t) =   \\gamma \\Delta \\log(p_{i,r}^{t-1}) + \\delta \\Delta \\log(p_{-i,r}^{t-1})+ \\Delta \\epsilon_{i,r}^{t}$$\n",
    "\n",
    "\n",
    "where $p_{i,r}^t$ is the price set by the agent $i$ at period $t$ of run $r$ of the experiment, $p_{i,r}^t$ is the price set by competitors at period $t$ of run $r$ and nd $α_{i,r}$ is a firm-run fixed effect."
   ]
  },
  {
   "cell_type": "code",
   "execution_count": 6,
   "id": "96e0bc9e",
   "metadata": {},
   "outputs": [
    {
     "data": {
      "text/html": [
       "<div><style>\n",
       ".dataframe > thead > tr,\n",
       ".dataframe > tbody > tr {\n",
       "  text-align: right;\n",
       "  white-space: pre-wrap;\n",
       "}\n",
       "</style>\n",
       "<small>shape: (50_400, 7)</small><table border=\"1\" class=\"dataframe\"><thead><tr><th>run_firm_id</th><th>run_id</th><th>firm_id</th><th>period</th><th>price</th><th>prompt_prefix</th><th>price_log_diff</th></tr><tr><td>str</td><td>u32</td><td>u32</td><td>i64</td><td>f64</td><td>str</td><td>f64</td></tr></thead><tbody><tr><td>&quot;1_1&quot;</td><td>1</td><td>1</td><td>1</td><td>4.51</td><td>&quot;P1&quot;</td><td>0.0</td></tr><tr><td>&quot;1_1&quot;</td><td>1</td><td>1</td><td>2</td><td>4.0</td><td>&quot;P1&quot;</td><td>-0.120003</td></tr><tr><td>&quot;1_1&quot;</td><td>1</td><td>1</td><td>3</td><td>3.5</td><td>&quot;P1&quot;</td><td>-0.133531</td></tr><tr><td>&quot;1_1&quot;</td><td>1</td><td>1</td><td>4</td><td>3.0</td><td>&quot;P1&quot;</td><td>-0.154151</td></tr><tr><td>&quot;1_1&quot;</td><td>1</td><td>1</td><td>5</td><td>2.75</td><td>&quot;P1&quot;</td><td>-0.087011</td></tr><tr><td>&hellip;</td><td>&hellip;</td><td>&hellip;</td><td>&hellip;</td><td>&hellip;</td><td>&hellip;</td><td>&hellip;</td></tr><tr><td>&quot;42_4&quot;</td><td>42</td><td>4</td><td>296</td><td>1.2705</td><td>&quot;P2&quot;</td><td>-0.000787</td></tr><tr><td>&quot;42_4&quot;</td><td>42</td><td>4</td><td>297</td><td>1.269</td><td>&quot;P2&quot;</td><td>-0.001181</td></tr><tr><td>&quot;42_4&quot;</td><td>42</td><td>4</td><td>298</td><td>1.267</td><td>&quot;P2&quot;</td><td>-0.001577</td></tr><tr><td>&quot;42_4&quot;</td><td>42</td><td>4</td><td>299</td><td>1.275</td><td>&quot;P2&quot;</td><td>0.006294</td></tr><tr><td>&quot;42_4&quot;</td><td>42</td><td>4</td><td>300</td><td>1.276</td><td>&quot;P2&quot;</td><td>0.000784</td></tr></tbody></table></div>"
      ],
      "text/plain": [
       "shape: (50_400, 7)\n",
       "┌─────────────┬────────┬─────────┬────────┬────────┬───────────────┬────────────────┐\n",
       "│ run_firm_id ┆ run_id ┆ firm_id ┆ period ┆ price  ┆ prompt_prefix ┆ price_log_diff │\n",
       "│ ---         ┆ ---    ┆ ---     ┆ ---    ┆ ---    ┆ ---           ┆ ---            │\n",
       "│ str         ┆ u32    ┆ u32     ┆ i64    ┆ f64    ┆ str           ┆ f64            │\n",
       "╞═════════════╪════════╪═════════╪════════╪════════╪═══════════════╪════════════════╡\n",
       "│ 1_1         ┆ 1      ┆ 1       ┆ 1      ┆ 4.51   ┆ P1            ┆ 0.0            │\n",
       "│ 1_1         ┆ 1      ┆ 1       ┆ 2      ┆ 4.0    ┆ P1            ┆ -0.120003      │\n",
       "│ 1_1         ┆ 1      ┆ 1       ┆ 3      ┆ 3.5    ┆ P1            ┆ -0.133531      │\n",
       "│ 1_1         ┆ 1      ┆ 1       ┆ 4      ┆ 3.0    ┆ P1            ┆ -0.154151      │\n",
       "│ 1_1         ┆ 1      ┆ 1       ┆ 5      ┆ 2.75   ┆ P1            ┆ -0.087011      │\n",
       "│ …           ┆ …      ┆ …       ┆ …      ┆ …      ┆ …             ┆ …              │\n",
       "│ 42_4        ┆ 42     ┆ 4       ┆ 296    ┆ 1.2705 ┆ P2            ┆ -0.000787      │\n",
       "│ 42_4        ┆ 42     ┆ 4       ┆ 297    ┆ 1.269  ┆ P2            ┆ -0.001181      │\n",
       "│ 42_4        ┆ 42     ┆ 4       ┆ 298    ┆ 1.267  ┆ P2            ┆ -0.001577      │\n",
       "│ 42_4        ┆ 42     ┆ 4       ┆ 299    ┆ 1.275  ┆ P2            ┆ 0.006294       │\n",
       "│ 42_4        ┆ 42     ┆ 4       ┆ 300    ┆ 1.276  ┆ P2            ┆ 0.000784       │\n",
       "└─────────────┴────────┴─────────┴────────┴────────┴───────────────┴────────────────┘"
      ]
     },
     "execution_count": 6,
     "metadata": {},
     "output_type": "execute_result"
    }
   ],
   "source": [
    "df"
   ]
  },
  {
   "cell_type": "code",
   "execution_count": 7,
   "id": "a495cb0f",
   "metadata": {},
   "outputs": [
    {
     "data": {
      "text/html": [
       "<div><style>\n",
       ".dataframe > thead > tr,\n",
       ".dataframe > tbody > tr {\n",
       "  text-align: right;\n",
       "  white-space: pre-wrap;\n",
       "}\n",
       "</style>\n",
       "<small>shape: (2_058, 14)</small><table border=\"1\" class=\"dataframe\"><thead><tr><th>run_id</th><th>period</th><th>prompt_prefix</th><th>1_log_diff</th><th>2_log_diff</th><th>3_log_diff</th><th>4_log_diff</th><th>1_log_diff_lag</th><th>2_log_diff_lag</th><th>3_log_diff_lag</th><th>4_log_diff_lag</th><th>price_log_diff</th><th>price_log_diff_lag_own</th><th>price_log_diff_lag_comp_avg</th></tr><tr><td>u32</td><td>i64</td><td>str</td><td>f64</td><td>f64</td><td>f64</td><td>f64</td><td>f64</td><td>f64</td><td>f64</td><td>f64</td><td>f64</td><td>f64</td><td>f64</td></tr></thead><tbody><tr><td>1</td><td>2</td><td>&quot;P1&quot;</td><td>-0.120003</td><td>0.223144</td><td>-0.405465</td><td>0.510826</td><td>0.0</td><td>0.0</td><td>0.0</td><td>0.0</td><td>0.223144</td><td>0.0</td><td>0.0</td></tr><tr><td>1</td><td>4</td><td>&quot;P1&quot;</td><td>-0.154151</td><td>-0.087011</td><td>0.0</td><td>0.154151</td><td>-0.133531</td><td>0.182322</td><td>-0.087011</td><td>0.182322</td><td>0.154151</td><td>0.182322</td><td>-0.01274</td></tr><tr><td>1</td><td>6</td><td>&quot;P1&quot;</td><td>-0.09531</td><td>-0.019418</td><td>-0.035718</td><td>0.105361</td><td>-0.087011</td><td>-0.056089</td><td>0.035718</td><td>-0.441833</td><td>-0.019418</td><td>-0.056089</td><td>-0.164375</td></tr><tr><td>1</td><td>8</td><td>&quot;P1&quot;</td><td>-0.117783</td><td>0.039221</td><td>0.0</td><td>0.04879</td><td>-0.105361</td><td>-0.019803</td><td>0.0</td><td>-0.223144</td><td>0.04879</td><td>-0.223144</td><td>-0.041721</td></tr><tr><td>1</td><td>10</td><td>&quot;P1&quot;</td><td>-0.054067</td><td>0.038466</td><td>0.036368</td><td>0.022473</td><td>-0.051293</td><td>-0.019418</td><td>-0.018349</td><td>0.04652</td><td>0.038466</td><td>-0.019418</td><td>-0.007707</td></tr><tr><td>&hellip;</td><td>&hellip;</td><td>&hellip;</td><td>&hellip;</td><td>&hellip;</td><td>&hellip;</td><td>&hellip;</td><td>&hellip;</td><td>&hellip;</td><td>&hellip;</td><td>&hellip;</td><td>&hellip;</td><td>&hellip;</td><td>&hellip;</td></tr><tr><td>42</td><td>90</td><td>&quot;P2&quot;</td><td>0.0</td><td>0.0</td><td>0.0</td><td>0.0</td><td>0.0</td><td>0.0</td><td>0.0</td><td>0.0</td><td>0.0</td><td>0.0</td><td>0.0</td></tr><tr><td>42</td><td>92</td><td>&quot;P2&quot;</td><td>0.0</td><td>0.0</td><td>0.0</td><td>0.0</td><td>0.0</td><td>0.0</td><td>0.0</td><td>0.0</td><td>0.0</td><td>0.0</td><td>0.0</td></tr><tr><td>42</td><td>94</td><td>&quot;P2&quot;</td><td>0.0</td><td>0.0</td><td>0.0</td><td>0.0</td><td>0.0</td><td>0.0</td><td>0.0</td><td>0.0</td><td>0.0</td><td>0.0</td><td>0.0</td></tr><tr><td>42</td><td>96</td><td>&quot;P2&quot;</td><td>0.0</td><td>0.0</td><td>-0.000392</td><td>0.0</td><td>0.0</td><td>0.0</td><td>-0.000235</td><td>0.0</td><td>0.0</td><td>0.0</td><td>-0.000078</td></tr><tr><td>42</td><td>98</td><td>&quot;P2&quot;</td><td>0.0</td><td>0.0</td><td>0.00235</td><td>0.0</td><td>0.0</td><td>0.0</td><td>-0.000392</td><td>0.0</td><td>0.0</td><td>0.0</td><td>-0.000131</td></tr></tbody></table></div>"
      ],
      "text/plain": [
       "shape: (2_058, 14)\n",
       "┌────────┬────────┬────────────┬────────────┬───┬────────────┬────────────┬────────────┬───────────┐\n",
       "│ run_id ┆ period ┆ prompt_pre ┆ 1_log_diff ┆ … ┆ 4_log_diff ┆ price_log_ ┆ price_log_ ┆ price_log │\n",
       "│ ---    ┆ ---    ┆ fix        ┆ ---        ┆   ┆ _lag       ┆ diff       ┆ diff_lag_o ┆ _diff_lag │\n",
       "│ u32    ┆ i64    ┆ ---        ┆ f64        ┆   ┆ ---        ┆ ---        ┆ wn         ┆ _comp_avg │\n",
       "│        ┆        ┆ str        ┆            ┆   ┆ f64        ┆ f64        ┆ ---        ┆ ---       │\n",
       "│        ┆        ┆            ┆            ┆   ┆            ┆            ┆ f64        ┆ f64       │\n",
       "╞════════╪════════╪════════════╪════════════╪═══╪════════════╪════════════╪════════════╪═══════════╡\n",
       "│ 1      ┆ 2      ┆ P1         ┆ -0.120003  ┆ … ┆ 0.0        ┆ 0.223144   ┆ 0.0        ┆ 0.0       │\n",
       "│ 1      ┆ 4      ┆ P1         ┆ -0.154151  ┆ … ┆ 0.182322   ┆ 0.154151   ┆ 0.182322   ┆ -0.01274  │\n",
       "│ 1      ┆ 6      ┆ P1         ┆ -0.09531   ┆ … ┆ -0.441833  ┆ -0.019418  ┆ -0.056089  ┆ -0.164375 │\n",
       "│ 1      ┆ 8      ┆ P1         ┆ -0.117783  ┆ … ┆ -0.223144  ┆ 0.04879    ┆ -0.223144  ┆ -0.041721 │\n",
       "│ 1      ┆ 10     ┆ P1         ┆ -0.054067  ┆ … ┆ 0.04652    ┆ 0.038466   ┆ -0.019418  ┆ -0.007707 │\n",
       "│ …      ┆ …      ┆ …          ┆ …          ┆ … ┆ …          ┆ …          ┆ …          ┆ …         │\n",
       "│ 42     ┆ 90     ┆ P2         ┆ 0.0        ┆ … ┆ 0.0        ┆ 0.0        ┆ 0.0        ┆ 0.0       │\n",
       "│ 42     ┆ 92     ┆ P2         ┆ 0.0        ┆ … ┆ 0.0        ┆ 0.0        ┆ 0.0        ┆ 0.0       │\n",
       "│ 42     ┆ 94     ┆ P2         ┆ 0.0        ┆ … ┆ 0.0        ┆ 0.0        ┆ 0.0        ┆ 0.0       │\n",
       "│ 42     ┆ 96     ┆ P2         ┆ 0.0        ┆ … ┆ 0.0        ┆ 0.0        ┆ 0.0        ┆ -0.000078 │\n",
       "│ 42     ┆ 98     ┆ P2         ┆ 0.0        ┆ … ┆ 0.0        ┆ 0.0        ┆ 0.0        ┆ -0.000131 │\n",
       "└────────┴────────┴────────────┴────────────┴───┴────────────┴────────────┴────────────┴───────────┘"
      ]
     },
     "execution_count": 7,
     "metadata": {},
     "output_type": "execute_result"
    }
   ],
   "source": [
    "df_fe = (\n",
    "    df.pivot(\n",
    "        values=\"price_log_diff\",\n",
    "        index=[\"run_id\", \"period\", \"prompt_prefix\"],\n",
    "        on=\"firm_id\",\n",
    "    )\n",
    "    .rename(\n",
    "        {\n",
    "            \"1\": \"1_log_diff\",\n",
    "            \"2\": \"2_log_diff\",\n",
    "            \"3\": \"3_log_diff\",\n",
    "            \"4\": \"4_log_diff\",\n",
    "        }\n",
    "    )\n",
    "    .with_columns(\n",
    "        [\n",
    "            pl.col(\"1_log_diff\").shift(1).alias(\"1_log_diff_lag\"),\n",
    "            pl.col(\"2_log_diff\").shift(1).alias(\"2_log_diff_lag\"),\n",
    "            pl.col(\"3_log_diff\").shift(1).alias(\"3_log_diff_lag\"),\n",
    "            pl.col(\"4_log_diff\").shift(1).alias(\"4_log_diff_lag\"),\n",
    "        ]\n",
    "    )\n",
    "    .filter(pl.col(\"period\") < 100)\n",
    "    # # Keep only disjoint periods\n",
    "    .filter(pl.col(\"period\") % 2 == 0)  # Adjust based on how you define disjointness\n",
    "    # Alternate firms: period % 3 == 1 → firm 1, period % 3 == 2 → firm 2, period % 3 == 0 → firm 3\n",
    "    .with_columns(\n",
    "        [\n",
    "            # Alternate firms by period % 4: 1 → firm 1, 2 → firm 2, 3 → firm 3, else firm 4\n",
    "            pl.when(pl.col(\"period\") % 4 == 1)\n",
    "            .then(pl.col(\"1_log_diff\"))\n",
    "            .when(pl.col(\"period\") % 4 == 2)\n",
    "            .then(pl.col(\"2_log_diff\"))\n",
    "            .when(pl.col(\"period\") % 4 == 3)\n",
    "            .then(pl.col(\"3_log_diff\"))\n",
    "            .otherwise(pl.col(\"4_log_diff\"))\n",
    "            .alias(\"price_log_diff\"),\n",
    "            pl.when(pl.col(\"period\") % 4 == 1)\n",
    "            .then(pl.col(\"1_log_diff_lag\"))\n",
    "            .when(pl.col(\"period\") % 4 == 2)\n",
    "            .then(pl.col(\"2_log_diff_lag\"))\n",
    "            .when(pl.col(\"period\") % 4 == 3)\n",
    "            .then(pl.col(\"3_log_diff_lag\"))\n",
    "            .otherwise(pl.col(\"4_log_diff_lag\"))\n",
    "            .alias(\"price_log_diff_lag_own\"),\n",
    "            # Competitor lag average — average the other three lag columns for each case\n",
    "            pl.when(pl.col(\"period\") % 4 == 1)\n",
    "            .then(\n",
    "                pl.concat_list(\n",
    "                    [\n",
    "                        pl.col(\"2_log_diff_lag\"),\n",
    "                        pl.col(\"3_log_diff_lag\"),\n",
    "                        pl.col(\"4_log_diff_lag\"),\n",
    "                    ]\n",
    "                ).list.mean()\n",
    "            )\n",
    "            .when(pl.col(\"period\") % 4 == 2)\n",
    "            .then(\n",
    "                pl.concat_list(\n",
    "                    [\n",
    "                        pl.col(\"1_log_diff_lag\"),\n",
    "                        pl.col(\"3_log_diff_lag\"),\n",
    "                        pl.col(\"4_log_diff_lag\"),\n",
    "                    ]\n",
    "                ).list.mean()\n",
    "            )\n",
    "            .when(pl.col(\"period\") % 4 == 3)\n",
    "            .then(\n",
    "                pl.concat_list(\n",
    "                    [\n",
    "                        pl.col(\"1_log_diff_lag\"),\n",
    "                        pl.col(\"2_log_diff_lag\"),\n",
    "                        pl.col(\"4_log_diff_lag\"),\n",
    "                    ]\n",
    "                ).list.mean()\n",
    "            )\n",
    "            .otherwise(\n",
    "                pl.concat_list(\n",
    "                    [\n",
    "                        pl.col(\"1_log_diff_lag\"),\n",
    "                        pl.col(\"2_log_diff_lag\"),\n",
    "                        pl.col(\"3_log_diff_lag\"),\n",
    "                    ]\n",
    "                ).list.mean()\n",
    "            )\n",
    "            .alias(\"price_log_diff_lag_comp_avg\"),\n",
    "        ]\n",
    "    )\n",
    "    .sort([\"run_id\", \"period\", \"prompt_prefix\"])\n",
    ")\n",
    "\n",
    "df_fe"
   ]
  },
  {
   "cell_type": "code",
   "execution_count": 8,
   "id": "4f11d9aa",
   "metadata": {},
   "outputs": [
    {
     "data": {
      "text/html": [
       "<div><style>\n",
       ".dataframe > thead > tr,\n",
       ".dataframe > tbody > tr {\n",
       "  text-align: right;\n",
       "  white-space: pre-wrap;\n",
       "}\n",
       "</style>\n",
       "<small>shape: (2_058, 6)</small><table border=\"1\" class=\"dataframe\"><thead><tr><th>run_id</th><th>period</th><th>prompt_prefix</th><th>price_log_diff</th><th>price_log_diff_lag_own</th><th>price_log_diff_lag_comp_avg</th></tr><tr><td>u32</td><td>i64</td><td>str</td><td>f64</td><td>f64</td><td>f64</td></tr></thead><tbody><tr><td>1</td><td>2</td><td>&quot;P1&quot;</td><td>0.223144</td><td>0.0</td><td>0.0</td></tr><tr><td>1</td><td>4</td><td>&quot;P1&quot;</td><td>0.154151</td><td>0.182322</td><td>-0.01274</td></tr><tr><td>1</td><td>6</td><td>&quot;P1&quot;</td><td>-0.019418</td><td>-0.056089</td><td>-0.164375</td></tr><tr><td>1</td><td>8</td><td>&quot;P1&quot;</td><td>0.04879</td><td>-0.223144</td><td>-0.041721</td></tr><tr><td>1</td><td>10</td><td>&quot;P1&quot;</td><td>0.038466</td><td>-0.019418</td><td>-0.007707</td></tr><tr><td>&hellip;</td><td>&hellip;</td><td>&hellip;</td><td>&hellip;</td><td>&hellip;</td><td>&hellip;</td></tr><tr><td>42</td><td>90</td><td>&quot;P2&quot;</td><td>0.0</td><td>0.0</td><td>0.0</td></tr><tr><td>42</td><td>92</td><td>&quot;P2&quot;</td><td>0.0</td><td>0.0</td><td>0.0</td></tr><tr><td>42</td><td>94</td><td>&quot;P2&quot;</td><td>0.0</td><td>0.0</td><td>0.0</td></tr><tr><td>42</td><td>96</td><td>&quot;P2&quot;</td><td>0.0</td><td>0.0</td><td>-0.000078</td></tr><tr><td>42</td><td>98</td><td>&quot;P2&quot;</td><td>0.0</td><td>0.0</td><td>-0.000131</td></tr></tbody></table></div>"
      ],
      "text/plain": [
       "shape: (2_058, 6)\n",
       "┌────────┬────────┬───────────────┬────────────────┬───────────────────────┬───────────────────────┐\n",
       "│ run_id ┆ period ┆ prompt_prefix ┆ price_log_diff ┆ price_log_diff_lag_ow ┆ price_log_diff_lag_co │\n",
       "│ ---    ┆ ---    ┆ ---           ┆ ---            ┆ n                     ┆ mp_avg                │\n",
       "│ u32    ┆ i64    ┆ str           ┆ f64            ┆ ---                   ┆ ---                   │\n",
       "│        ┆        ┆               ┆                ┆ f64                   ┆ f64                   │\n",
       "╞════════╪════════╪═══════════════╪════════════════╪═══════════════════════╪═══════════════════════╡\n",
       "│ 1      ┆ 2      ┆ P1            ┆ 0.223144       ┆ 0.0                   ┆ 0.0                   │\n",
       "│ 1      ┆ 4      ┆ P1            ┆ 0.154151       ┆ 0.182322              ┆ -0.01274              │\n",
       "│ 1      ┆ 6      ┆ P1            ┆ -0.019418      ┆ -0.056089             ┆ -0.164375             │\n",
       "│ 1      ┆ 8      ┆ P1            ┆ 0.04879        ┆ -0.223144             ┆ -0.041721             │\n",
       "│ 1      ┆ 10     ┆ P1            ┆ 0.038466       ┆ -0.019418             ┆ -0.007707             │\n",
       "│ …      ┆ …      ┆ …             ┆ …              ┆ …                     ┆ …                     │\n",
       "│ 42     ┆ 90     ┆ P2            ┆ 0.0            ┆ 0.0                   ┆ 0.0                   │\n",
       "│ 42     ┆ 92     ┆ P2            ┆ 0.0            ┆ 0.0                   ┆ 0.0                   │\n",
       "│ 42     ┆ 94     ┆ P2            ┆ 0.0            ┆ 0.0                   ┆ 0.0                   │\n",
       "│ 42     ┆ 96     ┆ P2            ┆ 0.0            ┆ 0.0                   ┆ -0.000078             │\n",
       "│ 42     ┆ 98     ┆ P2            ┆ 0.0            ┆ 0.0                   ┆ -0.000131             │\n",
       "└────────┴────────┴───────────────┴────────────────┴───────────────────────┴───────────────────────┘"
      ]
     },
     "execution_count": 8,
     "metadata": {},
     "output_type": "execute_result"
    }
   ],
   "source": [
    "df_fe = df_fe.select(\n",
    "    [\n",
    "        \"run_id\",\n",
    "        \"period\",\n",
    "        \"prompt_prefix\",\n",
    "        \"price_log_diff\",\n",
    "        \"price_log_diff_lag_own\",\n",
    "        \"price_log_diff_lag_comp_avg\",\n",
    "        # \"price_log_diff_lag_comp_1\",\n",
    "        # \"price_log_diff_lag_comp_2\",\n",
    "    ]\n",
    ")\n",
    "df_fe"
   ]
  },
  {
   "cell_type": "code",
   "execution_count": 9,
   "id": "1417b10c",
   "metadata": {},
   "outputs": [
    {
     "data": {
      "text/html": [
       "<div><style>\n",
       ".dataframe > thead > tr,\n",
       ".dataframe > tbody > tr {\n",
       "  text-align: right;\n",
       "  white-space: pre-wrap;\n",
       "}\n",
       "</style>\n",
       "<small>shape: (2, 2)</small><table border=\"1\" class=\"dataframe\"><thead><tr><th>prompt_prefix</th><th>count</th></tr><tr><td>str</td><td>u32</td></tr></thead><tbody><tr><td>&quot;P1&quot;</td><td>1029</td></tr><tr><td>&quot;P2&quot;</td><td>1029</td></tr></tbody></table></div>"
      ],
      "text/plain": [
       "shape: (2, 2)\n",
       "┌───────────────┬───────┐\n",
       "│ prompt_prefix ┆ count │\n",
       "│ ---           ┆ ---   │\n",
       "│ str           ┆ u32   │\n",
       "╞═══════════════╪═══════╡\n",
       "│ P1            ┆ 1029  │\n",
       "│ P2            ┆ 1029  │\n",
       "└───────────────┴───────┘"
      ]
     },
     "execution_count": 9,
     "metadata": {},
     "output_type": "execute_result"
    }
   ],
   "source": [
    "df_fe[\"prompt_prefix\"].value_counts()"
   ]
  },
  {
   "cell_type": "markdown",
   "id": "3234b34e",
   "metadata": {},
   "source": [
    "## P1vsP1"
   ]
  },
  {
   "cell_type": "code",
   "execution_count": 10,
   "id": "9ec0e792",
   "metadata": {},
   "outputs": [
    {
     "data": {
      "text/html": [
       "<div><style>\n",
       ".dataframe > thead > tr,\n",
       ".dataframe > tbody > tr {\n",
       "  text-align: right;\n",
       "  white-space: pre-wrap;\n",
       "}\n",
       "</style>\n",
       "<small>shape: (1_029, 6)</small><table border=\"1\" class=\"dataframe\"><thead><tr><th>run_id</th><th>period</th><th>prompt_prefix</th><th>price_log_diff</th><th>price_log_diff_lag_own</th><th>price_log_diff_lag_comp_avg</th></tr><tr><td>u32</td><td>i64</td><td>str</td><td>f64</td><td>f64</td><td>f64</td></tr></thead><tbody><tr><td>1</td><td>2</td><td>&quot;P1&quot;</td><td>0.223144</td><td>0.0</td><td>0.0</td></tr><tr><td>1</td><td>4</td><td>&quot;P1&quot;</td><td>0.154151</td><td>0.182322</td><td>-0.01274</td></tr><tr><td>1</td><td>6</td><td>&quot;P1&quot;</td><td>-0.019418</td><td>-0.056089</td><td>-0.164375</td></tr><tr><td>1</td><td>8</td><td>&quot;P1&quot;</td><td>0.04879</td><td>-0.223144</td><td>-0.041721</td></tr><tr><td>1</td><td>10</td><td>&quot;P1&quot;</td><td>0.038466</td><td>-0.019418</td><td>-0.007707</td></tr><tr><td>&hellip;</td><td>&hellip;</td><td>&hellip;</td><td>&hellip;</td><td>&hellip;</td><td>&hellip;</td></tr><tr><td>31</td><td>90</td><td>&quot;P1&quot;</td><td>0.0</td><td>0.000556</td><td>0.00009</td></tr><tr><td>31</td><td>92</td><td>&quot;P1&quot;</td><td>0.0</td><td>0.0</td><td>-0.000023</td></tr><tr><td>31</td><td>94</td><td>&quot;P1&quot;</td><td>-0.000559</td><td>-0.006126</td><td>0.000216</td></tr><tr><td>31</td><td>96</td><td>&quot;P1&quot;</td><td>0.0</td><td>0.000524</td><td>-0.000619</td></tr><tr><td>31</td><td>98</td><td>&quot;P1&quot;</td><td>0.002797</td><td>-0.002797</td><td>0.000469</td></tr></tbody></table></div>"
      ],
      "text/plain": [
       "shape: (1_029, 6)\n",
       "┌────────┬────────┬───────────────┬────────────────┬───────────────────────┬───────────────────────┐\n",
       "│ run_id ┆ period ┆ prompt_prefix ┆ price_log_diff ┆ price_log_diff_lag_ow ┆ price_log_diff_lag_co │\n",
       "│ ---    ┆ ---    ┆ ---           ┆ ---            ┆ n                     ┆ mp_avg                │\n",
       "│ u32    ┆ i64    ┆ str           ┆ f64            ┆ ---                   ┆ ---                   │\n",
       "│        ┆        ┆               ┆                ┆ f64                   ┆ f64                   │\n",
       "╞════════╪════════╪═══════════════╪════════════════╪═══════════════════════╪═══════════════════════╡\n",
       "│ 1      ┆ 2      ┆ P1            ┆ 0.223144       ┆ 0.0                   ┆ 0.0                   │\n",
       "│ 1      ┆ 4      ┆ P1            ┆ 0.154151       ┆ 0.182322              ┆ -0.01274              │\n",
       "│ 1      ┆ 6      ┆ P1            ┆ -0.019418      ┆ -0.056089             ┆ -0.164375             │\n",
       "│ 1      ┆ 8      ┆ P1            ┆ 0.04879        ┆ -0.223144             ┆ -0.041721             │\n",
       "│ 1      ┆ 10     ┆ P1            ┆ 0.038466       ┆ -0.019418             ┆ -0.007707             │\n",
       "│ …      ┆ …      ┆ …             ┆ …              ┆ …                     ┆ …                     │\n",
       "│ 31     ┆ 90     ┆ P1            ┆ 0.0            ┆ 0.000556              ┆ 0.00009               │\n",
       "│ 31     ┆ 92     ┆ P1            ┆ 0.0            ┆ 0.0                   ┆ -0.000023             │\n",
       "│ 31     ┆ 94     ┆ P1            ┆ -0.000559      ┆ -0.006126             ┆ 0.000216              │\n",
       "│ 31     ┆ 96     ┆ P1            ┆ 0.0            ┆ 0.000524              ┆ -0.000619             │\n",
       "│ 31     ┆ 98     ┆ P1            ┆ 0.002797       ┆ -0.002797             ┆ 0.000469              │\n",
       "└────────┴────────┴───────────────┴────────────────┴───────────────────────┴───────────────────────┘"
      ]
     },
     "execution_count": 10,
     "metadata": {},
     "output_type": "execute_result"
    }
   ],
   "source": [
    "df_fe_p1 = df_fe.filter(pl.col(\"prompt_prefix\") == \"P1\").sort([\"run_id\", \"period\"])\n",
    "df_fe_p1"
   ]
  },
  {
   "cell_type": "code",
   "execution_count": 11,
   "id": "64afa0ef",
   "metadata": {},
   "outputs": [
    {
     "data": {
      "application/vnd.microsoft.datawrangler.viewer.v0+json": {
       "columns": [
        {
         "name": "('run_id', 'period')",
         "rawType": "object",
         "type": "unknown"
        },
        {
         "name": "prompt_prefix",
         "rawType": "object",
         "type": "string"
        },
        {
         "name": "price_log_diff",
         "rawType": "float64",
         "type": "float"
        },
        {
         "name": "price_log_diff_lag_own",
         "rawType": "float64",
         "type": "float"
        },
        {
         "name": "price_log_diff_lag_comp_avg",
         "rawType": "float64",
         "type": "float"
        }
       ],
       "ref": "06ea4fe2-7a06-4be5-a9cd-7d4640134569",
       "rows": [
        [
         "(np.uint32(1), np.int64(2))",
         "P1",
         "0.22314355131420982",
         "0.0",
         "0.0"
        ],
        [
         "(np.uint32(1), np.int64(4))",
         "P1",
         "0.15415067982725827",
         "0.18232155679395468",
         "-0.01274040427339925"
        ],
        [
         "(np.uint32(1), np.int64(6))",
         "P1",
         "-0.019418085857101586",
         "-0.05608946665104353",
         "-0.1643753488888633"
        ],
        [
         "(np.uint32(1), np.int64(8))",
         "P1",
         "0.04879016416943205",
         "-0.22314355131420982",
         "-0.04172104765133533"
        ],
        [
         "(np.uint32(1), np.int64(10))",
         "P1",
         "0.03846628082779602",
         "-0.019418085857101586",
         "-0.007707472473618027"
        ]
       ],
       "shape": {
        "columns": 4,
        "rows": 5
       }
      },
      "text/html": [
       "<div>\n",
       "<style scoped>\n",
       "    .dataframe tbody tr th:only-of-type {\n",
       "        vertical-align: middle;\n",
       "    }\n",
       "\n",
       "    .dataframe tbody tr th {\n",
       "        vertical-align: top;\n",
       "    }\n",
       "\n",
       "    .dataframe thead th {\n",
       "        text-align: right;\n",
       "    }\n",
       "</style>\n",
       "<table border=\"1\" class=\"dataframe\">\n",
       "  <thead>\n",
       "    <tr style=\"text-align: right;\">\n",
       "      <th></th>\n",
       "      <th></th>\n",
       "      <th>prompt_prefix</th>\n",
       "      <th>price_log_diff</th>\n",
       "      <th>price_log_diff_lag_own</th>\n",
       "      <th>price_log_diff_lag_comp_avg</th>\n",
       "    </tr>\n",
       "    <tr>\n",
       "      <th>run_id</th>\n",
       "      <th>period</th>\n",
       "      <th></th>\n",
       "      <th></th>\n",
       "      <th></th>\n",
       "      <th></th>\n",
       "    </tr>\n",
       "  </thead>\n",
       "  <tbody>\n",
       "    <tr>\n",
       "      <th rowspan=\"5\" valign=\"top\">1</th>\n",
       "      <th>2</th>\n",
       "      <td>P1</td>\n",
       "      <td>0.223144</td>\n",
       "      <td>0.000000</td>\n",
       "      <td>0.000000</td>\n",
       "    </tr>\n",
       "    <tr>\n",
       "      <th>4</th>\n",
       "      <td>P1</td>\n",
       "      <td>0.154151</td>\n",
       "      <td>0.182322</td>\n",
       "      <td>-0.012740</td>\n",
       "    </tr>\n",
       "    <tr>\n",
       "      <th>6</th>\n",
       "      <td>P1</td>\n",
       "      <td>-0.019418</td>\n",
       "      <td>-0.056089</td>\n",
       "      <td>-0.164375</td>\n",
       "    </tr>\n",
       "    <tr>\n",
       "      <th>8</th>\n",
       "      <td>P1</td>\n",
       "      <td>0.048790</td>\n",
       "      <td>-0.223144</td>\n",
       "      <td>-0.041721</td>\n",
       "    </tr>\n",
       "    <tr>\n",
       "      <th>10</th>\n",
       "      <td>P1</td>\n",
       "      <td>0.038466</td>\n",
       "      <td>-0.019418</td>\n",
       "      <td>-0.007707</td>\n",
       "    </tr>\n",
       "  </tbody>\n",
       "</table>\n",
       "</div>"
      ],
      "text/plain": [
       "              prompt_prefix  price_log_diff  price_log_diff_lag_own  \\\n",
       "run_id period                                                         \n",
       "1      2                 P1        0.223144                0.000000   \n",
       "       4                 P1        0.154151                0.182322   \n",
       "       6                 P1       -0.019418               -0.056089   \n",
       "       8                 P1        0.048790               -0.223144   \n",
       "       10                P1        0.038466               -0.019418   \n",
       "\n",
       "               price_log_diff_lag_comp_avg  \n",
       "run_id period                               \n",
       "1      2                          0.000000  \n",
       "       4                         -0.012740  \n",
       "       6                         -0.164375  \n",
       "       8                         -0.041721  \n",
       "       10                        -0.007707  "
      ]
     },
     "execution_count": 11,
     "metadata": {},
     "output_type": "execute_result"
    }
   ],
   "source": [
    "df_fe_p1 = df_fe_p1.to_pandas()\n",
    "df_fe_p1.set_index([\"run_id\", \"period\"], inplace=True)\n",
    "df_fe_p1.head()"
   ]
  },
  {
   "cell_type": "code",
   "execution_count": 12,
   "id": "400c5695",
   "metadata": {},
   "outputs": [
    {
     "name": "stdout",
     "output_type": "stream",
     "text": [
      "                          PanelOLS Estimation Summary                           \n",
      "================================================================================\n",
      "Dep. Variable:         price_log_diff   R-squared:                        0.0421\n",
      "Estimator:                   PanelOLS   R-squared (Between):              0.2326\n",
      "No. Observations:                1029   R-squared (Within):               0.0421\n",
      "Date:                Wed, Jul 02 2025   R-squared (Overall):              0.0472\n",
      "Time:                        18:37:18   Log-likelihood                    1483.6\n",
      "Cov. Estimator:                Robust                                           \n",
      "                                        F-statistic:                      22.094\n",
      "Entities:                          21   P-value                           0.0000\n",
      "Avg Obs:                       49.000   Distribution:                  F(2,1006)\n",
      "Min Obs:                       49.000                                           \n",
      "Max Obs:                       49.000   F-statistic (robust):             4.0588\n",
      "                                        P-value                           0.0176\n",
      "Time periods:                      49   Distribution:                  F(2,1006)\n",
      "Avg Obs:                       21.000                                           \n",
      "Min Obs:                       21.000                                           \n",
      "Max Obs:                       21.000                                           \n",
      "                                                                                \n",
      "                                      Parameter Estimates                                      \n",
      "===============================================================================================\n",
      "                             Parameter  Std. Err.     T-stat    P-value    Lower CI    Upper CI\n",
      "-----------------------------------------------------------------------------------------------\n",
      "price_log_diff_lag_own          0.1986     0.1253     1.5856     0.1131     -0.0472      0.4445\n",
      "price_log_diff_lag_comp_avg     0.2818     0.1368     2.0596     0.0397      0.0133      0.5504\n",
      "===============================================================================================\n",
      "\n",
      "F-test for Poolability: 1.0361\n",
      "P-value: 0.4153\n",
      "Distribution: F(20,1006)\n",
      "\n",
      "Included effects: Entity\n"
     ]
    }
   ],
   "source": [
    "# Run PanelOLS with entity effects (fixed effects)\n",
    "model = PanelOLS.from_formula(\n",
    "    \"price_log_diff ~ price_log_diff_lag_own + price_log_diff_lag_comp_avg + EntityEffects\",\n",
    "    data=df_fe_p1,\n",
    ").fit(cov_type=\"robust\")\n",
    "print(model.summary)"
   ]
  },
  {
   "cell_type": "markdown",
   "id": "232cca0f",
   "metadata": {},
   "source": [
    "## P2vsP2"
   ]
  },
  {
   "cell_type": "code",
   "execution_count": 13,
   "id": "e9284568",
   "metadata": {},
   "outputs": [
    {
     "data": {
      "text/html": [
       "<div><style>\n",
       ".dataframe > thead > tr,\n",
       ".dataframe > tbody > tr {\n",
       "  text-align: right;\n",
       "  white-space: pre-wrap;\n",
       "}\n",
       "</style>\n",
       "<small>shape: (1_029, 6)</small><table border=\"1\" class=\"dataframe\"><thead><tr><th>run_id</th><th>period</th><th>prompt_prefix</th><th>price_log_diff</th><th>price_log_diff_lag_own</th><th>price_log_diff_lag_comp_avg</th></tr><tr><td>u32</td><td>i64</td><td>str</td><td>f64</td><td>f64</td><td>f64</td></tr></thead><tbody><tr><td>16</td><td>2</td><td>&quot;P2&quot;</td><td>-0.510826</td><td>0.0</td><td>0.0</td></tr><tr><td>16</td><td>4</td><td>&quot;P2&quot;</td><td>-0.14842</td><td>-0.139262</td><td>-0.051384</td></tr><tr><td>16</td><td>6</td><td>&quot;P2&quot;</td><td>0.033902</td><td>-0.09844</td><td>-0.118814</td></tr><tr><td>16</td><td>8</td><td>&quot;P2&quot;</td><td>0.030772</td><td>0.031749</td><td>-0.021842</td></tr><tr><td>16</td><td>10</td><td>&quot;P2&quot;</td><td>0.036368</td><td>-0.105361</td><td>0.030869</td></tr><tr><td>&hellip;</td><td>&hellip;</td><td>&hellip;</td><td>&hellip;</td><td>&hellip;</td><td>&hellip;</td></tr><tr><td>42</td><td>90</td><td>&quot;P2&quot;</td><td>0.0</td><td>0.0</td><td>0.0</td></tr><tr><td>42</td><td>92</td><td>&quot;P2&quot;</td><td>0.0</td><td>0.0</td><td>0.0</td></tr><tr><td>42</td><td>94</td><td>&quot;P2&quot;</td><td>0.0</td><td>0.0</td><td>0.0</td></tr><tr><td>42</td><td>96</td><td>&quot;P2&quot;</td><td>0.0</td><td>0.0</td><td>-0.000078</td></tr><tr><td>42</td><td>98</td><td>&quot;P2&quot;</td><td>0.0</td><td>0.0</td><td>-0.000131</td></tr></tbody></table></div>"
      ],
      "text/plain": [
       "shape: (1_029, 6)\n",
       "┌────────┬────────┬───────────────┬────────────────┬───────────────────────┬───────────────────────┐\n",
       "│ run_id ┆ period ┆ prompt_prefix ┆ price_log_diff ┆ price_log_diff_lag_ow ┆ price_log_diff_lag_co │\n",
       "│ ---    ┆ ---    ┆ ---           ┆ ---            ┆ n                     ┆ mp_avg                │\n",
       "│ u32    ┆ i64    ┆ str           ┆ f64            ┆ ---                   ┆ ---                   │\n",
       "│        ┆        ┆               ┆                ┆ f64                   ┆ f64                   │\n",
       "╞════════╪════════╪═══════════════╪════════════════╪═══════════════════════╪═══════════════════════╡\n",
       "│ 16     ┆ 2      ┆ P2            ┆ -0.510826      ┆ 0.0                   ┆ 0.0                   │\n",
       "│ 16     ┆ 4      ┆ P2            ┆ -0.14842       ┆ -0.139262             ┆ -0.051384             │\n",
       "│ 16     ┆ 6      ┆ P2            ┆ 0.033902       ┆ -0.09844              ┆ -0.118814             │\n",
       "│ 16     ┆ 8      ┆ P2            ┆ 0.030772       ┆ 0.031749              ┆ -0.021842             │\n",
       "│ 16     ┆ 10     ┆ P2            ┆ 0.036368       ┆ -0.105361             ┆ 0.030869              │\n",
       "│ …      ┆ …      ┆ …             ┆ …              ┆ …                     ┆ …                     │\n",
       "│ 42     ┆ 90     ┆ P2            ┆ 0.0            ┆ 0.0                   ┆ 0.0                   │\n",
       "│ 42     ┆ 92     ┆ P2            ┆ 0.0            ┆ 0.0                   ┆ 0.0                   │\n",
       "│ 42     ┆ 94     ┆ P2            ┆ 0.0            ┆ 0.0                   ┆ 0.0                   │\n",
       "│ 42     ┆ 96     ┆ P2            ┆ 0.0            ┆ 0.0                   ┆ -0.000078             │\n",
       "│ 42     ┆ 98     ┆ P2            ┆ 0.0            ┆ 0.0                   ┆ -0.000131             │\n",
       "└────────┴────────┴───────────────┴────────────────┴───────────────────────┴───────────────────────┘"
      ]
     },
     "execution_count": 13,
     "metadata": {},
     "output_type": "execute_result"
    }
   ],
   "source": [
    "df_fe_p2 = df_fe.filter(pl.col(\"prompt_prefix\") == \"P2\").sort([\"run_id\", \"period\"])\n",
    "df_fe_p2"
   ]
  },
  {
   "cell_type": "code",
   "execution_count": 14,
   "id": "b586ef26",
   "metadata": {},
   "outputs": [
    {
     "data": {
      "application/vnd.microsoft.datawrangler.viewer.v0+json": {
       "columns": [
        {
         "name": "('run_id', 'period')",
         "rawType": "object",
         "type": "unknown"
        },
        {
         "name": "prompt_prefix",
         "rawType": "object",
         "type": "string"
        },
        {
         "name": "price_log_diff",
         "rawType": "float64",
         "type": "float"
        },
        {
         "name": "price_log_diff_lag_own",
         "rawType": "float64",
         "type": "float"
        },
        {
         "name": "price_log_diff_lag_comp_avg",
         "rawType": "float64",
         "type": "float"
        }
       ],
       "ref": "ac76207e-c9d3-4edb-8632-502c861ac14b",
       "rows": [
        [
         "(np.uint32(16), np.int64(2))",
         "P2",
         "-0.5108256237659907",
         "0.0",
         "0.0"
        ],
        [
         "(np.uint32(16), np.int64(4))",
         "P2",
         "-0.14842000511827325",
         "-0.13926206733350766",
         "-0.05138355994241942"
        ],
        [
         "(np.uint32(16), np.int64(6))",
         "P2",
         "0.033901551675681374",
         "-0.09844007281325262",
         "-0.11881449641498511"
        ],
        [
         "(np.uint32(16), np.int64(8))",
         "P2",
         "0.03077165866675352",
         "0.031748698314580326",
         "-0.021842221170155145"
        ],
        [
         "(np.uint32(16), np.int64(10))",
         "P2",
         "0.036367644170874736",
         "-0.10536051565782623",
         "0.030869120831250412"
        ]
       ],
       "shape": {
        "columns": 4,
        "rows": 5
       }
      },
      "text/html": [
       "<div>\n",
       "<style scoped>\n",
       "    .dataframe tbody tr th:only-of-type {\n",
       "        vertical-align: middle;\n",
       "    }\n",
       "\n",
       "    .dataframe tbody tr th {\n",
       "        vertical-align: top;\n",
       "    }\n",
       "\n",
       "    .dataframe thead th {\n",
       "        text-align: right;\n",
       "    }\n",
       "</style>\n",
       "<table border=\"1\" class=\"dataframe\">\n",
       "  <thead>\n",
       "    <tr style=\"text-align: right;\">\n",
       "      <th></th>\n",
       "      <th></th>\n",
       "      <th>prompt_prefix</th>\n",
       "      <th>price_log_diff</th>\n",
       "      <th>price_log_diff_lag_own</th>\n",
       "      <th>price_log_diff_lag_comp_avg</th>\n",
       "    </tr>\n",
       "    <tr>\n",
       "      <th>run_id</th>\n",
       "      <th>period</th>\n",
       "      <th></th>\n",
       "      <th></th>\n",
       "      <th></th>\n",
       "      <th></th>\n",
       "    </tr>\n",
       "  </thead>\n",
       "  <tbody>\n",
       "    <tr>\n",
       "      <th rowspan=\"5\" valign=\"top\">16</th>\n",
       "      <th>2</th>\n",
       "      <td>P2</td>\n",
       "      <td>-0.510826</td>\n",
       "      <td>0.000000</td>\n",
       "      <td>0.000000</td>\n",
       "    </tr>\n",
       "    <tr>\n",
       "      <th>4</th>\n",
       "      <td>P2</td>\n",
       "      <td>-0.148420</td>\n",
       "      <td>-0.139262</td>\n",
       "      <td>-0.051384</td>\n",
       "    </tr>\n",
       "    <tr>\n",
       "      <th>6</th>\n",
       "      <td>P2</td>\n",
       "      <td>0.033902</td>\n",
       "      <td>-0.098440</td>\n",
       "      <td>-0.118814</td>\n",
       "    </tr>\n",
       "    <tr>\n",
       "      <th>8</th>\n",
       "      <td>P2</td>\n",
       "      <td>0.030772</td>\n",
       "      <td>0.031749</td>\n",
       "      <td>-0.021842</td>\n",
       "    </tr>\n",
       "    <tr>\n",
       "      <th>10</th>\n",
       "      <td>P2</td>\n",
       "      <td>0.036368</td>\n",
       "      <td>-0.105361</td>\n",
       "      <td>0.030869</td>\n",
       "    </tr>\n",
       "  </tbody>\n",
       "</table>\n",
       "</div>"
      ],
      "text/plain": [
       "              prompt_prefix  price_log_diff  price_log_diff_lag_own  \\\n",
       "run_id period                                                         \n",
       "16     2                 P2       -0.510826                0.000000   \n",
       "       4                 P2       -0.148420               -0.139262   \n",
       "       6                 P2        0.033902               -0.098440   \n",
       "       8                 P2        0.030772                0.031749   \n",
       "       10                P2        0.036368               -0.105361   \n",
       "\n",
       "               price_log_diff_lag_comp_avg  \n",
       "run_id period                               \n",
       "16     2                          0.000000  \n",
       "       4                         -0.051384  \n",
       "       6                         -0.118814  \n",
       "       8                         -0.021842  \n",
       "       10                         0.030869  "
      ]
     },
     "execution_count": 14,
     "metadata": {},
     "output_type": "execute_result"
    }
   ],
   "source": [
    "df_fe_p2 = df_fe_p2.to_pandas()\n",
    "df_fe_p2.set_index([\"run_id\", \"period\"], inplace=True)\n",
    "df_fe_p2.head()"
   ]
  },
  {
   "cell_type": "code",
   "execution_count": 15,
   "id": "f8f7bbeb",
   "metadata": {},
   "outputs": [
    {
     "name": "stdout",
     "output_type": "stream",
     "text": [
      "                          PanelOLS Estimation Summary                           \n",
      "================================================================================\n",
      "Dep. Variable:         price_log_diff   R-squared:                        0.0125\n",
      "Estimator:                   PanelOLS   R-squared (Between):              0.0128\n",
      "No. Observations:                1029   R-squared (Within):               0.0125\n",
      "Date:                Wed, Jul 02 2025   R-squared (Overall):              0.0125\n",
      "Time:                        18:37:18   Log-likelihood                    1130.5\n",
      "Cov. Estimator:                Robust                                           \n",
      "                                        F-statistic:                      6.3721\n",
      "Entities:                          21   P-value                           0.0018\n",
      "Avg Obs:                       49.000   Distribution:                  F(2,1006)\n",
      "Min Obs:                       49.000                                           \n",
      "Max Obs:                       49.000   F-statistic (robust):             1.2666\n",
      "                                        P-value                           0.2822\n",
      "Time periods:                      49   Distribution:                  F(2,1006)\n",
      "Avg Obs:                       21.000                                           \n",
      "Min Obs:                       21.000                                           \n",
      "Max Obs:                       21.000                                           \n",
      "                                                                                \n",
      "                                      Parameter Estimates                                      \n",
      "===============================================================================================\n",
      "                             Parameter  Std. Err.     T-stat    P-value    Lower CI    Upper CI\n",
      "-----------------------------------------------------------------------------------------------\n",
      "price_log_diff_lag_own         -0.1518     0.0954    -1.5915     0.1118     -0.3390      0.0354\n",
      "price_log_diff_lag_comp_avg     0.1282     0.1947     0.6583     0.5105     -0.2539      0.5103\n",
      "===============================================================================================\n",
      "\n",
      "F-test for Poolability: 1.0549\n",
      "P-value: 0.3933\n",
      "Distribution: F(20,1006)\n",
      "\n",
      "Included effects: Entity\n"
     ]
    }
   ],
   "source": [
    "# Run PanelOLS with entity effects (fixed effects)\n",
    "model = PanelOLS.from_formula(\n",
    "    \"price_log_diff ~ price_log_diff_lag_own + price_log_diff_lag_comp_avg + EntityEffects\",\n",
    "    data=df_fe_p2,\n",
    ").fit(cov_type=\"robust\")\n",
    "print(model.summary)"
   ]
  }
 ],
 "metadata": {
  "kernelspec": {
   "display_name": ".venv",
   "language": "python",
   "name": "python3"
  },
  "language_info": {
   "codemirror_mode": {
    "name": "ipython",
    "version": 3
   },
   "file_extension": ".py",
   "mimetype": "text/x-python",
   "name": "python",
   "nbconvert_exporter": "python",
   "pygments_lexer": "ipython3",
   "version": "3.11.12"
  }
 },
 "nbformat": 4,
 "nbformat_minor": 5
}
