{
 "cells": [
  {
   "cell_type": "code",
   "execution_count": null,
   "id": "e32815ce",
   "metadata": {},
   "outputs": [],
   "source": [
    "# A stupid file to test github actions and pre-commit hooks\n",
    "a_very_long_list = [\n",
    "    1,\n",
    "    2,\n",
    "    3,\n",
    "    4,\n",
    "    4,\n",
    "    5,\n",
    "    2,\n",
    "    6,\n",
    "    7,\n",
    "    7,\n",
    "    8,\n",
    "    8,\n",
    "    123,\n",
    "    32,\n",
    "    4,\n",
    "    4,\n",
    "    3,\n",
    "    45,\n",
    "    6,\n",
    "    7,\n",
    "    7,\n",
    "    8,\n",
    "    2,\n",
    "    2,\n",
    "    32,\n",
    "    1,\n",
    "    3,\n",
    "    2,\n",
    "    5,\n",
    "    6,\n",
    "    7,\n",
    "    7,\n",
    "    4,\n",
    "    2,\n",
    "    2,\n",
    "    13,\n",
    "    4,\n",
    "    5,\n",
    "]"
   ]
  },
  {
   "cell_type": "code",
   "execution_count": null,
   "id": "c3c01960",
   "metadata": {},
   "outputs": [],
   "source": [
    "# Import not on top of a file\n",
    "import numpy as np\n",
    "\n",
    "d = np.ndarray([a_very_long_list])"
   ]
  }
 ],
 "metadata": {
  "kernelspec": {
   "display_name": "algorithmic-pricing-llms",
   "language": "python",
   "name": "python3"
  },
  "language_info": {
   "codemirror_mode": {
    "name": "ipython",
    "version": 3
   },
   "file_extension": ".py",
   "mimetype": "text/x-python",
   "name": "python",
   "nbconvert_exporter": "python",
   "pygments_lexer": "ipython3",
   "version": "3.11.12"
  }
 },
 "nbformat": 4,
 "nbformat_minor": 5
}
